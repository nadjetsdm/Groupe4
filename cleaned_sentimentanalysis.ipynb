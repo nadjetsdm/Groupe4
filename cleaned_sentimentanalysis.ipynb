{
 "cells": [
  {
   "cell_type": "code",
   "execution_count": 44,
   "id": "ac731c79",
   "metadata": {},
   "outputs": [],
   "source": [
    "import numpy as np \n",
    "import pandas as pd "
   ]
  },
  {
   "cell_type": "code",
   "execution_count": 45,
   "id": "008820c7",
   "metadata": {},
   "outputs": [
    {
     "data": {
      "text/html": [
       "<div>\n",
       "<style scoped>\n",
       "    .dataframe tbody tr th:only-of-type {\n",
       "        vertical-align: middle;\n",
       "    }\n",
       "\n",
       "    .dataframe tbody tr th {\n",
       "        vertical-align: top;\n",
       "    }\n",
       "\n",
       "    .dataframe thead th {\n",
       "        text-align: right;\n",
       "    }\n",
       "</style>\n",
       "<table border=\"1\" class=\"dataframe\">\n",
       "  <thead>\n",
       "    <tr style=\"text-align: right;\">\n",
       "      <th></th>\n",
       "      <th>review_rate</th>\n",
       "      <th>review_text</th>\n",
       "      <th>object_address</th>\n",
       "      <th>overall_rating</th>\n",
       "      <th>review_num</th>\n",
       "      <th>object_url</th>\n",
       "      <th>date_complete</th>\n",
       "      <th>postal_code</th>\n",
       "      <th>year</th>\n",
       "      <th>latitude_longitude</th>\n",
       "      <th>latitude</th>\n",
       "      <th>longitude</th>\n",
       "    </tr>\n",
       "  </thead>\n",
       "  <tbody>\n",
       "    <tr>\n",
       "      <th>0</th>\n",
       "      <td>1</td>\n",
       "      <td>Agents d'accueil à l'entrée très bien, mais la...</td>\n",
       "      <td>5 Rue de la Durance, 75012 Paris, France</td>\n",
       "      <td>3.7</td>\n",
       "      <td>50</td>\n",
       "      <td>https://www.google.fr/maps/place/CPAM+Paris+12...</td>\n",
       "      <td>janvier 2023</td>\n",
       "      <td>75012</td>\n",
       "      <td>2023.0</td>\n",
       "      <td>(48.8381167, 2.3938557)</td>\n",
       "      <td>48.838117</td>\n",
       "      <td>2.393856</td>\n",
       "    </tr>\n",
       "    <tr>\n",
       "      <th>1</th>\n",
       "      <td>5</td>\n",
       "      <td>Aujourd'hui vendredi 4/02/2022 sur les coups d...</td>\n",
       "      <td>5 Rue de la Durance, 75012 Paris, France</td>\n",
       "      <td>3.7</td>\n",
       "      <td>50</td>\n",
       "      <td>https://www.google.fr/maps/place/CPAM+Paris+12...</td>\n",
       "      <td>février 2022</td>\n",
       "      <td>75012</td>\n",
       "      <td>2022.0</td>\n",
       "      <td>(48.8381167, 2.3938557)</td>\n",
       "      <td>48.838117</td>\n",
       "      <td>2.393856</td>\n",
       "    </tr>\n",
       "    <tr>\n",
       "      <th>2</th>\n",
       "      <td>1</td>\n",
       "      <td>Déjà pour les horaires\\nBornes en panne</td>\n",
       "      <td>5 Rue de la Durance, 75012 Paris, France</td>\n",
       "      <td>3.7</td>\n",
       "      <td>50</td>\n",
       "      <td>https://www.google.fr/maps/place/CPAM+Paris+12...</td>\n",
       "      <td>février 2023</td>\n",
       "      <td>75012</td>\n",
       "      <td>2023.0</td>\n",
       "      <td>(48.8381167, 2.3938557)</td>\n",
       "      <td>48.838117</td>\n",
       "      <td>2.393856</td>\n",
       "    </tr>\n",
       "    <tr>\n",
       "      <th>3</th>\n",
       "      <td>1</td>\n",
       "      <td>Agents sans professionnalisme, interrompant la...</td>\n",
       "      <td>5 Rue de la Durance, 75012 Paris, France</td>\n",
       "      <td>3.7</td>\n",
       "      <td>50</td>\n",
       "      <td>https://www.google.fr/maps/place/CPAM+Paris+12...</td>\n",
       "      <td>mars 2021</td>\n",
       "      <td>75012</td>\n",
       "      <td>2021.0</td>\n",
       "      <td>(48.8381167, 2.3938557)</td>\n",
       "      <td>48.838117</td>\n",
       "      <td>2.393856</td>\n",
       "    </tr>\n",
       "    <tr>\n",
       "      <th>4</th>\n",
       "      <td>5</td>\n",
       "      <td>Merci aux personnel un accueil chaleureux</td>\n",
       "      <td>5 Rue de la Durance, 75012 Paris, France</td>\n",
       "      <td>3.7</td>\n",
       "      <td>50</td>\n",
       "      <td>https://www.google.fr/maps/place/CPAM+Paris+12...</td>\n",
       "      <td>décembre 2022</td>\n",
       "      <td>75012</td>\n",
       "      <td>2022.0</td>\n",
       "      <td>(48.8381167, 2.3938557)</td>\n",
       "      <td>48.838117</td>\n",
       "      <td>2.393856</td>\n",
       "    </tr>\n",
       "    <tr>\n",
       "      <th>...</th>\n",
       "      <td>...</td>\n",
       "      <td>...</td>\n",
       "      <td>...</td>\n",
       "      <td>...</td>\n",
       "      <td>...</td>\n",
       "      <td>...</td>\n",
       "      <td>...</td>\n",
       "      <td>...</td>\n",
       "      <td>...</td>\n",
       "      <td>...</td>\n",
       "      <td>...</td>\n",
       "      <td>...</td>\n",
       "    </tr>\n",
       "    <tr>\n",
       "      <th>711</th>\n",
       "      <td>4</td>\n",
       "      <td>Excellent</td>\n",
       "      <td>37 Rue Belliard, 75018 Paris, France</td>\n",
       "      <td>2.2</td>\n",
       "      <td>81</td>\n",
       "      <td>https://www.google.fr/maps/place/CPAM+de+Paris...</td>\n",
       "      <td>décembre 2022</td>\n",
       "      <td>75018</td>\n",
       "      <td>2022.0</td>\n",
       "      <td>(48.8977862, 2.3475122)</td>\n",
       "      <td>48.897786</td>\n",
       "      <td>2.347512</td>\n",
       "    </tr>\n",
       "    <tr>\n",
       "      <th>712</th>\n",
       "      <td>1</td>\n",
       "      <td>Les pires employés et les récalcitrants</td>\n",
       "      <td>37 Rue Belliard, 75018 Paris, France</td>\n",
       "      <td>2.2</td>\n",
       "      <td>81</td>\n",
       "      <td>https://www.google.fr/maps/place/CPAM+de+Paris...</td>\n",
       "      <td>septembre 2022</td>\n",
       "      <td>75018</td>\n",
       "      <td>2022.0</td>\n",
       "      <td>(48.8977862, 2.3475122)</td>\n",
       "      <td>48.897786</td>\n",
       "      <td>2.347512</td>\n",
       "    </tr>\n",
       "    <tr>\n",
       "      <th>713</th>\n",
       "      <td>4</td>\n",
       "      <td>Non</td>\n",
       "      <td>37 Rue Belliard, 75018 Paris, France</td>\n",
       "      <td>2.2</td>\n",
       "      <td>81</td>\n",
       "      <td>https://www.google.fr/maps/place/CPAM+de+Paris...</td>\n",
       "      <td>décembre 2022</td>\n",
       "      <td>75018</td>\n",
       "      <td>2022.0</td>\n",
       "      <td>(48.8977862, 2.3475122)</td>\n",
       "      <td>48.897786</td>\n",
       "      <td>2.347512</td>\n",
       "    </tr>\n",
       "    <tr>\n",
       "      <th>714</th>\n",
       "      <td>1</td>\n",
       "      <td>Une attention terrible !</td>\n",
       "      <td>37 Rue Belliard, 75018 Paris, France</td>\n",
       "      <td>2.2</td>\n",
       "      <td>81</td>\n",
       "      <td>https://www.google.fr/maps/place/CPAM+de+Paris...</td>\n",
       "      <td>NaN</td>\n",
       "      <td>75018</td>\n",
       "      <td>NaN</td>\n",
       "      <td>(48.8977862, 2.3475122)</td>\n",
       "      <td>48.897786</td>\n",
       "      <td>2.347512</td>\n",
       "    </tr>\n",
       "    <tr>\n",
       "      <th>715</th>\n",
       "      <td>5</td>\n",
       "      <td>ah</td>\n",
       "      <td>37 Rue Belliard, 75018 Paris, France</td>\n",
       "      <td>2.2</td>\n",
       "      <td>81</td>\n",
       "      <td>https://www.google.fr/maps/place/CPAM+de+Paris...</td>\n",
       "      <td>NaN</td>\n",
       "      <td>75018</td>\n",
       "      <td>NaN</td>\n",
       "      <td>(48.8977862, 2.3475122)</td>\n",
       "      <td>48.897786</td>\n",
       "      <td>2.347512</td>\n",
       "    </tr>\n",
       "  </tbody>\n",
       "</table>\n",
       "<p>716 rows × 12 columns</p>\n",
       "</div>"
      ],
      "text/plain": [
       "     review_rate                                        review_text  \\\n",
       "0              1  Agents d'accueil à l'entrée très bien, mais la...   \n",
       "1              5  Aujourd'hui vendredi 4/02/2022 sur les coups d...   \n",
       "2              1            Déjà pour les horaires\\nBornes en panne   \n",
       "3              1  Agents sans professionnalisme, interrompant la...   \n",
       "4              5          Merci aux personnel un accueil chaleureux   \n",
       "..           ...                                                ...   \n",
       "711            4                                          Excellent   \n",
       "712            1            Les pires employés et les récalcitrants   \n",
       "713            4                                                Non   \n",
       "714            1                           Une attention terrible !   \n",
       "715            5                                                 ah   \n",
       "\n",
       "                               object_address  overall_rating  review_num  \\\n",
       "0    5 Rue de la Durance, 75012 Paris, France             3.7          50   \n",
       "1    5 Rue de la Durance, 75012 Paris, France             3.7          50   \n",
       "2    5 Rue de la Durance, 75012 Paris, France             3.7          50   \n",
       "3    5 Rue de la Durance, 75012 Paris, France             3.7          50   \n",
       "4    5 Rue de la Durance, 75012 Paris, France             3.7          50   \n",
       "..                                        ...             ...         ...   \n",
       "711      37 Rue Belliard, 75018 Paris, France             2.2          81   \n",
       "712      37 Rue Belliard, 75018 Paris, France             2.2          81   \n",
       "713      37 Rue Belliard, 75018 Paris, France             2.2          81   \n",
       "714      37 Rue Belliard, 75018 Paris, France             2.2          81   \n",
       "715      37 Rue Belliard, 75018 Paris, France             2.2          81   \n",
       "\n",
       "                                            object_url   date_complete  \\\n",
       "0    https://www.google.fr/maps/place/CPAM+Paris+12...    janvier 2023   \n",
       "1    https://www.google.fr/maps/place/CPAM+Paris+12...    février 2022   \n",
       "2    https://www.google.fr/maps/place/CPAM+Paris+12...    février 2023   \n",
       "3    https://www.google.fr/maps/place/CPAM+Paris+12...       mars 2021   \n",
       "4    https://www.google.fr/maps/place/CPAM+Paris+12...   décembre 2022   \n",
       "..                                                 ...             ...   \n",
       "711  https://www.google.fr/maps/place/CPAM+de+Paris...   décembre 2022   \n",
       "712  https://www.google.fr/maps/place/CPAM+de+Paris...  septembre 2022   \n",
       "713  https://www.google.fr/maps/place/CPAM+de+Paris...   décembre 2022   \n",
       "714  https://www.google.fr/maps/place/CPAM+de+Paris...             NaN   \n",
       "715  https://www.google.fr/maps/place/CPAM+de+Paris...             NaN   \n",
       "\n",
       "     postal_code    year       latitude_longitude   latitude  longitude  \n",
       "0          75012  2023.0  (48.8381167, 2.3938557)  48.838117   2.393856  \n",
       "1          75012  2022.0  (48.8381167, 2.3938557)  48.838117   2.393856  \n",
       "2          75012  2023.0  (48.8381167, 2.3938557)  48.838117   2.393856  \n",
       "3          75012  2021.0  (48.8381167, 2.3938557)  48.838117   2.393856  \n",
       "4          75012  2022.0  (48.8381167, 2.3938557)  48.838117   2.393856  \n",
       "..           ...     ...                      ...        ...        ...  \n",
       "711        75018  2022.0  (48.8977862, 2.3475122)  48.897786   2.347512  \n",
       "712        75018  2022.0  (48.8977862, 2.3475122)  48.897786   2.347512  \n",
       "713        75018  2022.0  (48.8977862, 2.3475122)  48.897786   2.347512  \n",
       "714        75018     NaN  (48.8977862, 2.3475122)  48.897786   2.347512  \n",
       "715        75018     NaN  (48.8977862, 2.3475122)  48.897786   2.347512  \n",
       "\n",
       "[716 rows x 12 columns]"
      ]
     },
     "execution_count": 45,
     "metadata": {},
     "output_type": "execute_result"
    }
   ],
   "source": [
    "d = pd.read_csv('data_cleaned.csv', sep =',')\n",
    "d"
   ]
  },
  {
   "cell_type": "code",
   "execution_count": 46,
   "id": "b821f9cc",
   "metadata": {},
   "outputs": [],
   "source": [
    "#suppression des ponctuations et caracteres speciaux : \n",
    "import re\n",
    "\n",
    "def clean_text(text):\n",
    "    # Supprimer les caractères spéciaux et la ponctuation\n",
    "    text = re.sub(r'[^A-Za-z0-9\\s]', '', text)\n",
    "    # Convertir en minuscules\n",
    "    text = text.lower()\n",
    "\n",
    "    return text\n",
    "\n",
    "# Appliquer la fonction de nettoyage aux avis\n",
    "d['review_text'] = d['review_text'].apply(clean_text)\n"
   ]
  },
  {
   "cell_type": "code",
   "execution_count": 47,
   "id": "b3179c18",
   "metadata": {},
   "outputs": [],
   "source": [
    "import re\n",
    "\n",
    "def remove_digits(text):\n",
    "    # Modèle de regex pour les chiffres\n",
    "    digit_pattern = re.compile(r'\\d+')\n",
    "    # Supprimer les chiffres\n",
    "    text = re.sub(digit_pattern, '', text)\n",
    "    return text\n",
    "d['review_text'] = d['review_text'].apply(remove_digits)"
   ]
  },
  {
   "cell_type": "code",
   "execution_count": 50,
   "id": "c682d076",
   "metadata": {},
   "outputs": [],
   "source": [
    "import re\n",
    "\n",
    "def remove_emojis(text):\n",
    "    # Modèle de regex pour les emojis\n",
    "    emoji_pattern = re.compile(\"[\"\n",
    "                               u\"\\U0001F600-\\U0001F64F\"  # émoticônes émotions\n",
    "                               u\"\\U0001F300-\\U0001F5FF\"  # symboles & pictogrammes\n",
    "                               u\"\\U0001F680-\\U0001F6FF\"  # transports & symboles de voyage\n",
    "                               u\"\\U0001F1E0-\\U0001F1FF\"  # drapeaux (indicateurs de pays)\n",
    "                               u\"\\U00002500-\\U00002BEF\"  # caractères supplémentaires courants\n",
    "                               u\"\\U00002702-\\U000027B0\"  # symboles divers\n",
    "                               u\"\\U00002702-\\U000027B0\"  # flèches\n",
    "                               u\"\\U000024C2-\\U0001F251\" \n",
    "                               \"]+\", flags=re.UNICODE)\n",
    "    # Supprimer les emojis\n",
    "    text = emoji_pattern.sub(r'', text)\n",
    "    return text\n",
    "d['review_text'] = d['review_text'].apply(remove_emojis)"
   ]
  },
  {
   "cell_type": "code",
   "execution_count": 51,
   "id": "b5850e24",
   "metadata": {},
   "outputs": [],
   "source": [
    "#Tokenization: \n",
    "from nltk.tokenize import word_tokenize\n",
    "\n",
    "# Appliquer la tokenisation aux avis\n",
    "d['review_text'] = d['review_text'].apply(word_tokenize)\n"
   ]
  },
  {
   "cell_type": "code",
   "execution_count": 52,
   "id": "6ca3161f",
   "metadata": {},
   "outputs": [
    {
     "name": "stderr",
     "output_type": "stream",
     "text": [
      "[nltk_data] Downloading package stopwords to\n",
      "[nltk_data]     C:\\Users\\hp\\AppData\\Roaming\\nltk_data...\n",
      "[nltk_data]   Package stopwords is already up-to-date!\n",
      "[nltk_data] Downloading package punkt to\n",
      "[nltk_data]     C:\\Users\\hp\\AppData\\Roaming\\nltk_data...\n",
      "[nltk_data]   Package punkt is already up-to-date!\n"
     ]
    },
    {
     "data": {
      "text/plain": [
       "True"
      ]
     },
     "execution_count": 52,
     "metadata": {},
     "output_type": "execute_result"
    }
   ],
   "source": [
    "#suppression des stopwords français: \n",
    "import nltk\n",
    "nltk.download('stopwords')\n",
    "nltk.download('punkt')"
   ]
  },
  {
   "cell_type": "code",
   "execution_count": 53,
   "id": "1b8d06a8",
   "metadata": {},
   "outputs": [
    {
     "name": "stdout",
     "output_type": "stream",
     "text": [
      "['au', 'aux', 'avec', 'ce', 'ces', 'dans', 'de', 'des', 'du', 'elle', 'en', 'et', 'eux', 'il', 'ils', 'je', 'la', 'le', 'les', 'leur', 'lui', 'ma', 'mais', 'me', 'même', 'mes', 'moi', 'mon', 'ne', 'nos', 'notre', 'nous', 'on', 'ou', 'par', 'pas', 'pour', 'qu', 'que', 'qui', 'sa', 'se', 'ses', 'son', 'sur', 'ta', 'te', 'tes', 'toi', 'ton', 'tu', 'un', 'une', 'vos', 'votre', 'vous', 'c', 'd', 'j', 'l', 'à', 'm', 'n', 's', 't', 'y', 'été', 'étée', 'étées', 'étés', 'étant', 'étante', 'étants', 'étantes', 'suis', 'es', 'est', 'sommes', 'êtes', 'sont', 'serai', 'seras', 'sera', 'serons', 'serez', 'seront', 'serais', 'serait', 'serions', 'seriez', 'seraient', 'étais', 'était', 'étions', 'étiez', 'étaient', 'fus', 'fut', 'fûmes', 'fûtes', 'furent', 'sois', 'soit', 'soyons', 'soyez', 'soient', 'fusse', 'fusses', 'fût', 'fussions', 'fussiez', 'fussent', 'ayant', 'ayante', 'ayantes', 'ayants', 'eu', 'eue', 'eues', 'eus', 'ai', 'as', 'avons', 'avez', 'ont', 'aurai', 'auras', 'aura', 'aurons', 'aurez', 'auront', 'aurais', 'aurait', 'aurions', 'auriez', 'auraient', 'avais', 'avait', 'avions', 'aviez', 'avaient', 'eut', 'eûmes', 'eûtes', 'eurent', 'aie', 'aies', 'ait', 'ayons', 'ayez', 'aient', 'eusse', 'eusses', 'eût', 'eussions', 'eussiez', 'eussent']\n"
     ]
    }
   ],
   "source": [
    "#juste pour afficher les stopwords fr \n",
    "from nltk.corpus import stopwords\n",
    "\n",
    "stop_words = stopwords.words('french')\n",
    "print(stop_words)"
   ]
  },
  {
   "cell_type": "code",
   "execution_count": 54,
   "id": "8931dbfb",
   "metadata": {},
   "outputs": [],
   "source": [
    "from nltk.corpus import stopwords\n",
    "\n",
    "stop_words = set(stopwords.words('french'))\n",
    "\n",
    "def remove_stopwords(tokens):\n",
    "    filtered_tokens = [token for token in tokens if token not in stop_words]\n",
    "    return filtered_tokens\n",
    "\n",
    "# Supprimer les mots vides des avis\n",
    "d['review_text'] = d['review_text'].apply(remove_stopwords)"
   ]
  },
  {
   "cell_type": "code",
   "execution_count": 55,
   "id": "019a6f57",
   "metadata": {},
   "outputs": [
    {
     "data": {
      "text/plain": [
       "0      [agents, daccueil, lentre, trs, bien, personne...\n",
       "1      [aujourdhui, vendredi, coups, h, venu, cpam, d...\n",
       "2                          [dj, horaires, bornes, panne]\n",
       "3      [agents, sans, professionnalisme, interrompant...\n",
       "4                [merci, personnel, accueil, chaleureux]\n",
       "                             ...                        \n",
       "711                                          [excellent]\n",
       "712                       [pires, employs, rcalcitrants]\n",
       "713                                                [non]\n",
       "714                                [attention, terrible]\n",
       "715                                                 [ah]\n",
       "Name: review_text, Length: 716, dtype: object"
      ]
     },
     "execution_count": 55,
     "metadata": {},
     "output_type": "execute_result"
    }
   ],
   "source": [
    "d['review_text']"
   ]
  },
  {
   "cell_type": "code",
   "execution_count": 56,
   "id": "4439125f",
   "metadata": {},
   "outputs": [],
   "source": [
    "import nltk\n",
    "from nltk.stem import PorterStemmer, WordNetLemmatizer\n",
    "\n",
    "\n",
    "# Initialiser le stemmer et le lemmatiseur\n",
    "stemmer = PorterStemmer()\n",
    "lemmatizer = WordNetLemmatizer()\n",
    "\n",
    "# Exemple de fonction pour appliquer le stemming sur une liste de tokens\n",
    "def apply_stemming(tokens):\n",
    "    stemmed_tokens = [stemmer.stem(token) for token in tokens]\n",
    "    return stemmed_tokens\n",
    "\n",
    "# Exemple de fonction pour appliquer la lemmatisation sur une liste de tokens\n",
    "def apply_lemmatization(tokens):\n",
    "    lemmatized_tokens = [lemmatizer.lemmatize(token) for token in tokens]\n",
    "    return lemmatized_tokens"
   ]
  },
  {
   "cell_type": "code",
   "execution_count": 57,
   "id": "8ee9b28e",
   "metadata": {},
   "outputs": [],
   "source": [
    "#les appliquer sur mon dataset : \n",
    "d['review_text'] = d['review_text'].apply(apply_stemming)"
   ]
  },
  {
   "cell_type": "code",
   "execution_count": 58,
   "id": "2a05bfa8",
   "metadata": {},
   "outputs": [],
   "source": [
    "#d['review_text'] = d['review_text'].apply(apply_lemmatization)"
   ]
  },
  {
   "cell_type": "code",
   "execution_count": 59,
   "id": "c618b02c",
   "metadata": {},
   "outputs": [
    {
     "data": {
      "text/plain": [
       "0      [agent, daccueil, lentr, tr, bien, personn, de...\n",
       "1      [aujourdhui, vendredi, coup, h, venu, cpam, da...\n",
       "2                               [dj, horair, born, pann]\n",
       "3      [agent, san, professionnalism, interromp, paro...\n",
       "4                [merci, personnel, accueil, chaleureux]\n",
       "                             ...                        \n",
       "711                                              [excel]\n",
       "712                             [pire, employ, rcalcitr]\n",
       "713                                                [non]\n",
       "714                                    [attent, terribl]\n",
       "715                                                 [ah]\n",
       "Name: review_text, Length: 716, dtype: object"
      ]
     },
     "execution_count": 59,
     "metadata": {},
     "output_type": "execute_result"
    }
   ],
   "source": [
    "d['review_text']"
   ]
  },
  {
   "cell_type": "code",
   "execution_count": 60,
   "id": "12af775a",
   "metadata": {},
   "outputs": [
    {
     "name": "stderr",
     "output_type": "stream",
     "text": [
      "[nltk_data] Downloading package averaged_perceptron_tagger to\n",
      "[nltk_data]     C:\\Users\\hp\\AppData\\Roaming\\nltk_data...\n",
      "[nltk_data]   Package averaged_perceptron_tagger is already up-to-\n",
      "[nltk_data]       date!\n"
     ]
    },
    {
     "data": {
      "text/plain": [
       "True"
      ]
     },
     "execution_count": 60,
     "metadata": {},
     "output_type": "execute_result"
    }
   ],
   "source": [
    "# Télécharger les ressources nécessaires pour l'étiquetage grammatical\n",
    "nltk.download('averaged_perceptron_tagger')"
   ]
  },
  {
   "cell_type": "code",
   "execution_count": 61,
   "id": "772260a6",
   "metadata": {},
   "outputs": [],
   "source": [
    "#supprimer les noms propres: \n",
    "\n",
    "# Exemple de fonction pour supprimer les noms propres d'une liste de tokens\n",
    "def remove_proper_nouns(tokens):\n",
    "    tagged_tokens = nltk.pos_tag(tokens)\n",
    "    filtered_tokens = [token for token, tag in tagged_tokens if tag != 'NNP']\n",
    "    return filtered_tokens\n",
    "d['review_text'] = d['review_text'].apply(remove_proper_nouns)"
   ]
  },
  {
   "cell_type": "code",
   "execution_count": 62,
   "id": "257250de",
   "metadata": {},
   "outputs": [
    {
     "data": {
      "text/plain": [
       "0      [agent, daccueil, lentr, tr, bien, personn, de...\n",
       "1      [aujourdhui, vendredi, coup, h, venu, cpam, da...\n",
       "2                               [dj, horair, born, pann]\n",
       "3      [agent, san, professionnalism, interromp, paro...\n",
       "4                [merci, personnel, accueil, chaleureux]\n",
       "                             ...                        \n",
       "711                                              [excel]\n",
       "712                             [pire, employ, rcalcitr]\n",
       "713                                                [non]\n",
       "714                                    [attent, terribl]\n",
       "715                                                 [ah]\n",
       "Name: review_text, Length: 716, dtype: object"
      ]
     },
     "execution_count": 62,
     "metadata": {},
     "output_type": "execute_result"
    }
   ],
   "source": [
    "d['review_text']"
   ]
  },
  {
   "cell_type": "code",
   "execution_count": null,
   "id": "849e6269",
   "metadata": {},
   "outputs": [],
   "source": []
  },
  {
   "cell_type": "markdown",
   "id": "bfd6266b",
   "metadata": {},
   "source": [
    "# sentiment analysis "
   ]
  },
  {
   "cell_type": "code",
   "execution_count": 63,
   "id": "5f365908",
   "metadata": {},
   "outputs": [],
   "source": [
    "import nltk\n",
    "from nltk.sentiment import SentimentIntensityAnalyzer"
   ]
  },
  {
   "cell_type": "code",
   "execution_count": 64,
   "id": "35955baf",
   "metadata": {},
   "outputs": [
    {
     "name": "stderr",
     "output_type": "stream",
     "text": [
      "[nltk_data] Downloading package vader_lexicon to\n",
      "[nltk_data]     C:\\Users\\hp\\AppData\\Roaming\\nltk_data...\n",
      "[nltk_data]   Package vader_lexicon is already up-to-date!\n"
     ]
    },
    {
     "data": {
      "text/plain": [
       "True"
      ]
     },
     "execution_count": 64,
     "metadata": {},
     "output_type": "execute_result"
    }
   ],
   "source": [
    "# Charger le lexique pour l'analyse de sentiment\n",
    "nltk.download('vader_lexicon')"
   ]
  },
  {
   "cell_type": "code",
   "execution_count": 65,
   "id": "82207a43",
   "metadata": {},
   "outputs": [],
   "source": [
    "# Initialiser le SentimentIntensityAnalyzer\n",
    "sia = SentimentIntensityAnalyzer()"
   ]
  },
  {
   "cell_type": "code",
   "execution_count": 68,
   "id": "47babba2",
   "metadata": {},
   "outputs": [],
   "source": [
    "# Fonction pour effectuer l'analyse de sentiment sur un texte\n",
    "def analyze_sentiment(text):\n",
    "    sentiment_scores = sia.polarity_scores(text)\n",
    "    # La valeur \"compound\" représente le score global de sentiment\n",
    "    sentiment_score = sentiment_scores['compound']\n",
    "    # Évaluer le sentiment en fonction du score\n",
    "    if sentiment_score > 0:\n",
    "        sentiment = 'Positive'\n",
    "    elif sentiment_score <= 0:\n",
    "        sentiment = 'Negative'\n",
    "        \n",
    "    return sentiment\n"
   ]
  },
  {
   "cell_type": "code",
   "execution_count": 71,
   "id": "7d1624a0",
   "metadata": {},
   "outputs": [
    {
     "name": "stdout",
     "output_type": "stream",
     "text": [
      "Review 1: Negative\n",
      "Review 2: Negative\n",
      "Review 3: Negative\n",
      "Review 4: Negative\n",
      "Review 5: Negative\n",
      "Review 6: Negative\n",
      "Review 7: Negative\n",
      "Review 8: Positive\n",
      "Review 9: Negative\n",
      "Review 10: Negative\n",
      "Review 11: Negative\n",
      "Review 12: Negative\n",
      "Review 13: Negative\n",
      "Review 14: Negative\n",
      "Review 15: Negative\n",
      "Review 16: Negative\n",
      "Review 17: Negative\n",
      "Review 18: Negative\n",
      "Review 19: Negative\n",
      "Review 20: Negative\n",
      "Review 21: Negative\n",
      "Review 22: Negative\n",
      "Review 23: Positive\n",
      "Review 24: Positive\n",
      "Review 25: Negative\n",
      "Review 26: Negative\n",
      "Review 27: Negative\n",
      "Review 28: Negative\n",
      "Review 29: Positive\n",
      "Review 30: Negative\n",
      "Review 31: Negative\n",
      "Review 32: Positive\n",
      "Review 33: Negative\n",
      "Review 34: Negative\n",
      "Review 35: Positive\n",
      "Review 36: Negative\n",
      "Review 37: Positive\n",
      "Review 38: Positive\n",
      "Review 39: Negative\n",
      "Review 40: Positive\n",
      "Review 41: Positive\n",
      "Review 42: Positive\n",
      "Review 43: Positive\n",
      "Review 44: Positive\n",
      "Review 45: Negative\n",
      "Review 46: Negative\n",
      "Review 47: Negative\n",
      "Review 48: Positive\n",
      "Review 49: Negative\n",
      "Review 50: Positive\n",
      "Review 51: Negative\n",
      "Review 52: Negative\n",
      "Review 53: Negative\n",
      "Review 54: Negative\n",
      "Review 55: Positive\n",
      "Review 56: Negative\n",
      "Review 57: Negative\n",
      "Review 58: Negative\n",
      "Review 59: Negative\n",
      "Review 60: Positive\n",
      "Review 61: Negative\n",
      "Review 62: Negative\n",
      "Review 63: Negative\n",
      "Review 64: Negative\n",
      "Review 65: Negative\n",
      "Review 66: Positive\n",
      "Review 67: Negative\n",
      "Review 68: Negative\n",
      "Review 69: Negative\n",
      "Review 70: Negative\n",
      "Review 71: Negative\n",
      "Review 72: Negative\n",
      "Review 73: Negative\n",
      "Review 74: Negative\n",
      "Review 75: Negative\n",
      "Review 76: Negative\n",
      "Review 77: Negative\n",
      "Review 78: Negative\n",
      "Review 79: Negative\n",
      "Review 80: Negative\n",
      "Review 81: Negative\n",
      "Review 82: Positive\n",
      "Review 83: Negative\n",
      "Review 84: Negative\n",
      "Review 85: Negative\n",
      "Review 86: Positive\n",
      "Review 87: Positive\n",
      "Review 88: Negative\n",
      "Review 89: Negative\n",
      "Review 90: Negative\n",
      "Review 91: Negative\n",
      "Review 92: Negative\n",
      "Review 93: Negative\n",
      "Review 94: Negative\n",
      "Review 95: Negative\n",
      "Review 96: Positive\n",
      "Review 97: Negative\n",
      "Review 98: Negative\n",
      "Review 99: Positive\n",
      "Review 100: Positive\n",
      "Review 101: Negative\n",
      "Review 102: Negative\n",
      "Review 103: Negative\n",
      "Review 104: Negative\n",
      "Review 105: Negative\n",
      "Review 106: Negative\n",
      "Review 107: Positive\n",
      "Review 108: Positive\n",
      "Review 109: Negative\n",
      "Review 110: Positive\n",
      "Review 111: Negative\n",
      "Review 112: Negative\n",
      "Review 113: Negative\n",
      "Review 114: Negative\n",
      "Review 115: Positive\n",
      "Review 116: Negative\n",
      "Review 117: Negative\n",
      "Review 118: Positive\n",
      "Review 119: Negative\n",
      "Review 120: Negative\n",
      "Review 121: Positive\n",
      "Review 122: Positive\n",
      "Review 123: Positive\n",
      "Review 124: Positive\n",
      "Review 125: Negative\n",
      "Review 126: Negative\n",
      "Review 127: Negative\n",
      "Review 128: Negative\n",
      "Review 129: Negative\n",
      "Review 130: Negative\n",
      "Review 131: Negative\n",
      "Review 132: Negative\n",
      "Review 133: Negative\n",
      "Review 134: Negative\n",
      "Review 135: Negative\n",
      "Review 136: Positive\n",
      "Review 137: Negative\n",
      "Review 138: Negative\n",
      "Review 139: Negative\n",
      "Review 140: Negative\n",
      "Review 141: Negative\n",
      "Review 142: Negative\n",
      "Review 143: Negative\n",
      "Review 144: Negative\n",
      "Review 145: Negative\n",
      "Review 146: Negative\n",
      "Review 147: Negative\n",
      "Review 148: Negative\n",
      "Review 149: Negative\n",
      "Review 150: Negative\n",
      "Review 151: Negative\n",
      "Review 152: Negative\n",
      "Review 153: Negative\n",
      "Review 154: Negative\n",
      "Review 155: Negative\n",
      "Review 156: Negative\n",
      "Review 157: Negative\n",
      "Review 158: Positive\n",
      "Review 159: Negative\n",
      "Review 160: Negative\n",
      "Review 161: Negative\n",
      "Review 162: Negative\n",
      "Review 163: Negative\n",
      "Review 164: Negative\n",
      "Review 165: Negative\n",
      "Review 166: Negative\n",
      "Review 167: Negative\n",
      "Review 168: Negative\n",
      "Review 169: Negative\n",
      "Review 170: Negative\n",
      "Review 171: Negative\n",
      "Review 172: Negative\n",
      "Review 173: Negative\n",
      "Review 174: Positive\n",
      "Review 175: Negative\n",
      "Review 176: Positive\n",
      "Review 177: Negative\n",
      "Review 178: Positive\n",
      "Review 179: Negative\n",
      "Review 180: Negative\n",
      "Review 181: Negative\n",
      "Review 182: Negative\n",
      "Review 183: Negative\n",
      "Review 184: Negative\n",
      "Review 185: Negative\n",
      "Review 186: Negative\n",
      "Review 187: Negative\n",
      "Review 188: Negative\n",
      "Review 189: Negative\n",
      "Review 190: Negative\n",
      "Review 191: Negative\n",
      "Review 192: Positive\n",
      "Review 193: Negative\n",
      "Review 194: Negative\n",
      "Review 195: Negative\n",
      "Review 196: Negative\n",
      "Review 197: Positive\n",
      "Review 198: Negative\n",
      "Review 199: Negative\n",
      "Review 200: Negative\n",
      "Review 201: Negative\n",
      "Review 202: Negative\n",
      "Review 203: Negative\n",
      "Review 204: Positive\n",
      "Review 205: Positive\n",
      "Review 206: Negative\n",
      "Review 207: Negative\n",
      "Review 208: Negative\n",
      "Review 209: Positive\n",
      "Review 210: Negative\n",
      "Review 211: Positive\n",
      "Review 212: Negative\n",
      "Review 213: Negative\n",
      "Review 214: Negative\n",
      "Review 215: Negative\n",
      "Review 216: Negative\n",
      "Review 217: Negative\n",
      "Review 218: Negative\n",
      "Review 219: Negative\n",
      "Review 220: Negative\n",
      "Review 221: Negative\n",
      "Review 222: Negative\n",
      "Review 223: Negative\n",
      "Review 224: Negative\n",
      "Review 225: Negative\n",
      "Review 226: Negative\n",
      "Review 227: Negative\n",
      "Review 228: Negative\n",
      "Review 229: Negative\n",
      "Review 230: Negative\n",
      "Review 231: Negative\n",
      "Review 232: Negative\n",
      "Review 233: Negative\n",
      "Review 234: Negative\n",
      "Review 235: Negative\n",
      "Review 236: Positive\n",
      "Review 237: Negative\n",
      "Review 238: Negative\n",
      "Review 239: Positive\n",
      "Review 240: Negative\n",
      "Review 241: Negative\n",
      "Review 242: Negative\n",
      "Review 243: Negative\n",
      "Review 244: Positive\n",
      "Review 245: Positive\n",
      "Review 246: Negative\n",
      "Review 247: Negative\n",
      "Review 248: Negative\n",
      "Review 249: Negative\n",
      "Review 250: Negative\n",
      "Review 251: Positive\n",
      "Review 252: Negative\n",
      "Review 253: Positive\n",
      "Review 254: Negative\n",
      "Review 255: Negative\n",
      "Review 256: Negative\n",
      "Review 257: Positive\n",
      "Review 258: Negative\n",
      "Review 259: Negative\n",
      "Review 260: Negative\n",
      "Review 261: Negative\n",
      "Review 262: Negative\n",
      "Review 263: Negative\n",
      "Review 264: Negative\n",
      "Review 265: Positive\n",
      "Review 266: Negative\n",
      "Review 267: Positive\n",
      "Review 268: Negative\n",
      "Review 269: Negative\n",
      "Review 270: Negative\n",
      "Review 271: Negative\n",
      "Review 272: Positive\n",
      "Review 273: Negative\n",
      "Review 274: Negative\n",
      "Review 275: Negative\n",
      "Review 276: Positive\n",
      "Review 277: Negative\n",
      "Review 278: Negative\n",
      "Review 279: Negative\n",
      "Review 280: Negative\n",
      "Review 281: Negative\n",
      "Review 282: Negative\n",
      "Review 283: Negative\n",
      "Review 284: Negative\n",
      "Review 285: Negative\n",
      "Review 286: Negative\n",
      "Review 287: Negative\n",
      "Review 288: Negative\n",
      "Review 289: Negative\n",
      "Review 290: Negative\n",
      "Review 291: Negative\n",
      "Review 292: Negative\n",
      "Review 293: Negative\n",
      "Review 294: Negative\n",
      "Review 295: Negative\n",
      "Review 296: Negative\n",
      "Review 297: Negative\n",
      "Review 298: Negative\n",
      "Review 299: Negative\n",
      "Review 300: Negative\n",
      "Review 301: Negative\n",
      "Review 302: Positive\n",
      "Review 303: Negative\n",
      "Review 304: Negative\n",
      "Review 305: Negative\n",
      "Review 306: Negative\n",
      "Review 307: Negative\n",
      "Review 308: Negative\n",
      "Review 309: Positive\n",
      "Review 310: Negative\n",
      "Review 311: Positive\n",
      "Review 312: Negative\n",
      "Review 313: Negative\n",
      "Review 314: Negative\n",
      "Review 315: Negative\n",
      "Review 316: Positive\n",
      "Review 317: Negative\n",
      "Review 318: Negative\n",
      "Review 319: Negative\n",
      "Review 320: Negative\n",
      "Review 321: Positive\n",
      "Review 322: Positive\n",
      "Review 323: Positive\n",
      "Review 324: Negative\n",
      "Review 325: Negative\n",
      "Review 326: Negative\n",
      "Review 327: Negative\n",
      "Review 328: Positive\n",
      "Review 329: Positive\n",
      "Review 330: Negative\n",
      "Review 331: Positive\n",
      "Review 332: Negative\n",
      "Review 333: Negative\n",
      "Review 334: Positive\n",
      "Review 335: Negative\n",
      "Review 336: Negative\n",
      "Review 337: Negative\n",
      "Review 338: Positive\n",
      "Review 339: Negative\n",
      "Review 340: Negative\n",
      "Review 341: Positive\n",
      "Review 342: Negative\n",
      "Review 343: Negative\n",
      "Review 344: Positive\n",
      "Review 345: Negative\n",
      "Review 346: Negative\n",
      "Review 347: Negative\n",
      "Review 348: Negative\n",
      "Review 349: Negative\n",
      "Review 350: Negative\n",
      "Review 351: Negative\n",
      "Review 352: Negative\n",
      "Review 353: Negative\n",
      "Review 354: Negative\n",
      "Review 355: Negative\n",
      "Review 356: Negative\n",
      "Review 357: Negative\n",
      "Review 358: Negative\n",
      "Review 359: Positive\n",
      "Review 360: Negative\n",
      "Review 361: Negative\n",
      "Review 362: Negative\n",
      "Review 363: Positive\n",
      "Review 364: Negative\n",
      "Review 365: Negative\n",
      "Review 366: Negative\n",
      "Review 367: Negative\n",
      "Review 368: Negative\n",
      "Review 369: Negative\n",
      "Review 370: Negative\n",
      "Review 371: Negative\n",
      "Review 372: Negative\n",
      "Review 373: Negative\n",
      "Review 374: Negative\n",
      "Review 375: Negative\n",
      "Review 376: Negative\n",
      "Review 377: Negative\n",
      "Review 378: Negative\n",
      "Review 379: Negative\n",
      "Review 380: Negative\n",
      "Review 381: Negative\n",
      "Review 382: Positive\n",
      "Review 383: Positive\n",
      "Review 384: Positive\n",
      "Review 385: Positive\n",
      "Review 386: Negative\n",
      "Review 387: Positive\n",
      "Review 388: Negative\n",
      "Review 389: Negative\n",
      "Review 390: Negative\n",
      "Review 391: Positive\n",
      "Review 392: Positive\n",
      "Review 393: Negative\n",
      "Review 394: Negative\n",
      "Review 395: Positive\n",
      "Review 396: Negative\n",
      "Review 397: Negative\n",
      "Review 398: Negative\n",
      "Review 399: Negative\n",
      "Review 400: Negative\n",
      "Review 401: Negative\n",
      "Review 402: Negative\n",
      "Review 403: Negative\n",
      "Review 404: Negative\n",
      "Review 405: Negative\n",
      "Review 406: Negative\n",
      "Review 407: Positive\n",
      "Review 408: Positive\n",
      "Review 409: Negative\n",
      "Review 410: Negative\n",
      "Review 411: Negative\n",
      "Review 412: Positive\n",
      "Review 413: Negative\n",
      "Review 414: Positive\n",
      "Review 415: Negative\n",
      "Review 416: Positive\n",
      "Review 417: Negative\n",
      "Review 418: Negative\n",
      "Review 419: Negative\n",
      "Review 420: Positive\n",
      "Review 421: Negative\n",
      "Review 422: Negative\n",
      "Review 423: Negative\n",
      "Review 424: Positive\n",
      "Review 425: Negative\n",
      "Review 426: Negative\n",
      "Review 427: Negative\n",
      "Review 428: Negative\n",
      "Review 429: Positive\n",
      "Review 430: Negative\n",
      "Review 431: Negative\n",
      "Review 432: Negative\n",
      "Review 433: Negative\n",
      "Review 434: Negative\n",
      "Review 435: Negative\n",
      "Review 436: Negative\n",
      "Review 437: Negative\n",
      "Review 438: Positive\n",
      "Review 439: Negative\n",
      "Review 440: Negative\n",
      "Review 441: Negative\n",
      "Review 442: Negative\n",
      "Review 443: Negative\n",
      "Review 444: Negative\n",
      "Review 445: Negative\n",
      "Review 446: Negative\n",
      "Review 447: Negative\n",
      "Review 448: Negative\n",
      "Review 449: Negative\n",
      "Review 450: Negative\n",
      "Review 451: Negative\n",
      "Review 452: Negative\n",
      "Review 453: Negative\n",
      "Review 454: Negative\n",
      "Review 455: Negative\n",
      "Review 456: Negative\n",
      "Review 457: Negative\n",
      "Review 458: Negative\n",
      "Review 459: Negative\n",
      "Review 460: Negative\n",
      "Review 461: Negative\n",
      "Review 462: Negative\n",
      "Review 463: Positive\n",
      "Review 464: Positive\n",
      "Review 465: Negative\n",
      "Review 466: Positive\n",
      "Review 467: Negative\n",
      "Review 468: Positive\n",
      "Review 469: Positive\n",
      "Review 470: Negative\n",
      "Review 471: Positive\n",
      "Review 472: Negative\n",
      "Review 473: Negative\n",
      "Review 474: Negative\n",
      "Review 475: Positive\n",
      "Review 476: Negative\n",
      "Review 477: Negative\n",
      "Review 478: Negative\n",
      "Review 479: Positive\n",
      "Review 480: Positive\n",
      "Review 481: Negative\n",
      "Review 482: Negative\n",
      "Review 483: Negative\n",
      "Review 484: Negative\n",
      "Review 485: Positive\n",
      "Review 486: Negative\n",
      "Review 487: Negative\n",
      "Review 488: Negative\n",
      "Review 489: Positive\n",
      "Review 490: Negative\n",
      "Review 491: Negative\n",
      "Review 492: Negative\n",
      "Review 493: Negative\n",
      "Review 494: Negative\n",
      "Review 495: Negative\n",
      "Review 496: Negative\n",
      "Review 497: Negative\n",
      "Review 498: Negative\n",
      "Review 499: Negative\n",
      "Review 500: Negative\n",
      "Review 501: Positive\n",
      "Review 502: Negative\n",
      "Review 503: Negative\n",
      "Review 504: Negative\n",
      "Review 505: Negative\n",
      "Review 506: Negative\n",
      "Review 507: Negative\n",
      "Review 508: Negative\n",
      "Review 509: Positive\n",
      "Review 510: Negative\n",
      "Review 511: Negative\n",
      "Review 512: Negative\n",
      "Review 513: Negative\n",
      "Review 514: Negative\n",
      "Review 515: Negative\n",
      "Review 516: Negative\n",
      "Review 517: Negative\n",
      "Review 518: Negative\n",
      "Review 519: Negative\n",
      "Review 520: Negative\n",
      "Review 521: Negative\n",
      "Review 522: Negative\n",
      "Review 523: Negative\n",
      "Review 524: Negative\n",
      "Review 525: Negative\n",
      "Review 526: Negative\n",
      "Review 527: Negative\n",
      "Review 528: Negative\n",
      "Review 529: Negative\n",
      "Review 530: Negative\n",
      "Review 531: Negative\n",
      "Review 532: Negative\n",
      "Review 533: Negative\n",
      "Review 534: Negative\n",
      "Review 535: Positive\n",
      "Review 536: Positive\n",
      "Review 537: Negative\n",
      "Review 538: Negative\n",
      "Review 539: Negative\n",
      "Review 540: Negative\n",
      "Review 541: Negative\n",
      "Review 542: Positive\n",
      "Review 543: Negative\n",
      "Review 544: Negative\n",
      "Review 545: Negative\n",
      "Review 546: Negative\n",
      "Review 547: Negative\n",
      "Review 548: Negative\n",
      "Review 549: Negative\n",
      "Review 550: Negative\n",
      "Review 551: Negative\n",
      "Review 552: Negative\n",
      "Review 553: Negative\n",
      "Review 554: Negative\n",
      "Review 555: Negative\n",
      "Review 556: Positive\n",
      "Review 557: Positive\n",
      "Review 558: Negative\n",
      "Review 559: Positive\n",
      "Review 560: Negative\n",
      "Review 561: Positive\n",
      "Review 562: Negative\n",
      "Review 563: Positive\n",
      "Review 564: Negative\n",
      "Review 565: Negative\n",
      "Review 566: Negative\n",
      "Review 567: Positive\n",
      "Review 568: Positive\n",
      "Review 569: Negative\n",
      "Review 570: Negative\n",
      "Review 571: Positive\n",
      "Review 572: Negative\n",
      "Review 573: Negative\n",
      "Review 574: Negative\n",
      "Review 575: Negative\n"
     ]
    },
    {
     "name": "stdout",
     "output_type": "stream",
     "text": [
      "Review 576: Negative\n",
      "Review 577: Negative\n",
      "Review 578: Negative\n",
      "Review 579: Negative\n",
      "Review 580: Negative\n",
      "Review 581: Positive\n",
      "Review 582: Negative\n",
      "Review 583: Negative\n",
      "Review 584: Negative\n",
      "Review 585: Negative\n",
      "Review 586: Negative\n",
      "Review 587: Negative\n",
      "Review 588: Positive\n",
      "Review 589: Negative\n",
      "Review 590: Positive\n",
      "Review 591: Negative\n",
      "Review 592: Negative\n",
      "Review 593: Positive\n",
      "Review 594: Negative\n",
      "Review 595: Negative\n",
      "Review 596: Positive\n",
      "Review 597: Negative\n",
      "Review 598: Positive\n",
      "Review 599: Positive\n",
      "Review 600: Positive\n",
      "Review 601: Positive\n",
      "Review 602: Negative\n",
      "Review 603: Positive\n",
      "Review 604: Positive\n",
      "Review 605: Positive\n",
      "Review 606: Positive\n",
      "Review 607: Negative\n",
      "Review 608: Negative\n",
      "Review 609: Negative\n",
      "Review 610: Negative\n",
      "Review 611: Negative\n",
      "Review 612: Positive\n",
      "Review 613: Positive\n",
      "Review 614: Negative\n",
      "Review 615: Negative\n",
      "Review 616: Negative\n",
      "Review 617: Negative\n",
      "Review 618: Negative\n",
      "Review 619: Positive\n",
      "Review 620: Positive\n",
      "Review 621: Negative\n",
      "Review 622: Negative\n",
      "Review 623: Negative\n",
      "Review 624: Negative\n",
      "Review 625: Positive\n",
      "Review 626: Negative\n",
      "Review 627: Negative\n",
      "Review 628: Negative\n",
      "Review 629: Negative\n",
      "Review 630: Negative\n",
      "Review 631: Negative\n",
      "Review 632: Negative\n",
      "Review 633: Negative\n",
      "Review 634: Negative\n",
      "Review 635: Negative\n",
      "Review 636: Negative\n",
      "Review 637: Negative\n",
      "Review 638: Negative\n",
      "Review 639: Negative\n",
      "Review 640: Negative\n",
      "Review 641: Negative\n",
      "Review 642: Negative\n",
      "Review 643: Negative\n",
      "Review 644: Negative\n",
      "Review 645: Negative\n",
      "Review 646: Negative\n",
      "Review 647: Positive\n",
      "Review 648: Positive\n",
      "Review 649: Positive\n",
      "Review 650: Positive\n",
      "Review 651: Negative\n",
      "Review 652: Positive\n",
      "Review 653: Negative\n",
      "Review 654: Positive\n",
      "Review 655: Negative\n",
      "Review 656: Negative\n",
      "Review 657: Negative\n",
      "Review 658: Negative\n",
      "Review 659: Negative\n",
      "Review 660: Positive\n",
      "Review 661: Negative\n",
      "Review 662: Negative\n",
      "Review 663: Negative\n",
      "Review 664: Positive\n",
      "Review 665: Negative\n",
      "Review 666: Negative\n",
      "Review 667: Negative\n",
      "Review 668: Positive\n",
      "Review 669: Positive\n",
      "Review 670: Positive\n",
      "Review 671: Negative\n",
      "Review 672: Positive\n",
      "Review 673: Negative\n",
      "Review 674: Positive\n",
      "Review 675: Negative\n",
      "Review 676: Negative\n",
      "Review 677: Negative\n",
      "Review 678: Positive\n",
      "Review 679: Negative\n",
      "Review 680: Negative\n",
      "Review 681: Negative\n",
      "Review 682: Negative\n",
      "Review 683: Negative\n",
      "Review 684: Negative\n",
      "Review 685: Negative\n",
      "Review 686: Negative\n",
      "Review 687: Negative\n",
      "Review 688: Positive\n",
      "Review 689: Positive\n",
      "Review 690: Negative\n",
      "Review 691: Positive\n",
      "Review 692: Negative\n",
      "Review 693: Negative\n",
      "Review 694: Negative\n",
      "Review 695: Positive\n",
      "Review 696: Negative\n",
      "Review 697: Negative\n",
      "Review 698: Negative\n",
      "Review 699: Negative\n",
      "Review 700: Negative\n",
      "Review 701: Negative\n",
      "Review 702: Positive\n",
      "Review 703: Negative\n",
      "Review 704: Negative\n",
      "Review 705: Positive\n",
      "Review 706: Negative\n",
      "Review 707: Negative\n",
      "Review 708: Negative\n",
      "Review 709: Negative\n",
      "Review 710: Positive\n",
      "Review 711: Negative\n",
      "Review 712: Positive\n",
      "Review 713: Negative\n",
      "Review 714: Negative\n",
      "Review 715: Negative\n",
      "Review 716: Negative\n"
     ]
    }
   ],
   "source": [
    "# Boucle sur votre ensemble de données\n",
    "for index, row in d.iterrows():\n",
    "    review_text = ' '.join(row['review_text'])  # Recaster la liste en texte\n",
    "    sentiment = analyze_sentiment(review_text)\n",
    "    print(f\"Review {index+1}: {sentiment}\")"
   ]
  },
  {
   "cell_type": "code",
   "execution_count": 72,
   "id": "80f6791c",
   "metadata": {},
   "outputs": [],
   "source": [
    "d['sentiment'] = d['review_text'].apply(lambda x: analyze_sentiment(' '.join(x)))"
   ]
  },
  {
   "cell_type": "code",
   "execution_count": 73,
   "id": "8352a32b",
   "metadata": {},
   "outputs": [
    {
     "data": {
      "text/html": [
       "<div>\n",
       "<style scoped>\n",
       "    .dataframe tbody tr th:only-of-type {\n",
       "        vertical-align: middle;\n",
       "    }\n",
       "\n",
       "    .dataframe tbody tr th {\n",
       "        vertical-align: top;\n",
       "    }\n",
       "\n",
       "    .dataframe thead th {\n",
       "        text-align: right;\n",
       "    }\n",
       "</style>\n",
       "<table border=\"1\" class=\"dataframe\">\n",
       "  <thead>\n",
       "    <tr style=\"text-align: right;\">\n",
       "      <th></th>\n",
       "      <th>review_rate</th>\n",
       "      <th>review_text</th>\n",
       "      <th>object_address</th>\n",
       "      <th>overall_rating</th>\n",
       "      <th>review_num</th>\n",
       "      <th>object_url</th>\n",
       "      <th>date_complete</th>\n",
       "      <th>postal_code</th>\n",
       "      <th>year</th>\n",
       "      <th>latitude_longitude</th>\n",
       "      <th>latitude</th>\n",
       "      <th>longitude</th>\n",
       "      <th>sentiment</th>\n",
       "    </tr>\n",
       "  </thead>\n",
       "  <tbody>\n",
       "    <tr>\n",
       "      <th>0</th>\n",
       "      <td>1</td>\n",
       "      <td>[agent, daccueil, lentr, tr, bien, personn, de...</td>\n",
       "      <td>5 Rue de la Durance, 75012 Paris, France</td>\n",
       "      <td>3.7</td>\n",
       "      <td>50</td>\n",
       "      <td>https://www.google.fr/maps/place/CPAM+Paris+12...</td>\n",
       "      <td>janvier 2023</td>\n",
       "      <td>75012</td>\n",
       "      <td>2023.0</td>\n",
       "      <td>(48.8381167, 2.3938557)</td>\n",
       "      <td>48.838117</td>\n",
       "      <td>2.393856</td>\n",
       "      <td>Negative</td>\n",
       "    </tr>\n",
       "    <tr>\n",
       "      <th>1</th>\n",
       "      <td>5</td>\n",
       "      <td>[aujourdhui, vendredi, coup, h, venu, cpam, da...</td>\n",
       "      <td>5 Rue de la Durance, 75012 Paris, France</td>\n",
       "      <td>3.7</td>\n",
       "      <td>50</td>\n",
       "      <td>https://www.google.fr/maps/place/CPAM+Paris+12...</td>\n",
       "      <td>février 2022</td>\n",
       "      <td>75012</td>\n",
       "      <td>2022.0</td>\n",
       "      <td>(48.8381167, 2.3938557)</td>\n",
       "      <td>48.838117</td>\n",
       "      <td>2.393856</td>\n",
       "      <td>Negative</td>\n",
       "    </tr>\n",
       "    <tr>\n",
       "      <th>2</th>\n",
       "      <td>1</td>\n",
       "      <td>[dj, horair, born, pann]</td>\n",
       "      <td>5 Rue de la Durance, 75012 Paris, France</td>\n",
       "      <td>3.7</td>\n",
       "      <td>50</td>\n",
       "      <td>https://www.google.fr/maps/place/CPAM+Paris+12...</td>\n",
       "      <td>février 2023</td>\n",
       "      <td>75012</td>\n",
       "      <td>2023.0</td>\n",
       "      <td>(48.8381167, 2.3938557)</td>\n",
       "      <td>48.838117</td>\n",
       "      <td>2.393856</td>\n",
       "      <td>Negative</td>\n",
       "    </tr>\n",
       "    <tr>\n",
       "      <th>3</th>\n",
       "      <td>1</td>\n",
       "      <td>[agent, san, professionnalism, interromp, paro...</td>\n",
       "      <td>5 Rue de la Durance, 75012 Paris, France</td>\n",
       "      <td>3.7</td>\n",
       "      <td>50</td>\n",
       "      <td>https://www.google.fr/maps/place/CPAM+Paris+12...</td>\n",
       "      <td>mars 2021</td>\n",
       "      <td>75012</td>\n",
       "      <td>2021.0</td>\n",
       "      <td>(48.8381167, 2.3938557)</td>\n",
       "      <td>48.838117</td>\n",
       "      <td>2.393856</td>\n",
       "      <td>Negative</td>\n",
       "    </tr>\n",
       "    <tr>\n",
       "      <th>4</th>\n",
       "      <td>5</td>\n",
       "      <td>[merci, personnel, accueil, chaleureux]</td>\n",
       "      <td>5 Rue de la Durance, 75012 Paris, France</td>\n",
       "      <td>3.7</td>\n",
       "      <td>50</td>\n",
       "      <td>https://www.google.fr/maps/place/CPAM+Paris+12...</td>\n",
       "      <td>décembre 2022</td>\n",
       "      <td>75012</td>\n",
       "      <td>2022.0</td>\n",
       "      <td>(48.8381167, 2.3938557)</td>\n",
       "      <td>48.838117</td>\n",
       "      <td>2.393856</td>\n",
       "      <td>Negative</td>\n",
       "    </tr>\n",
       "    <tr>\n",
       "      <th>...</th>\n",
       "      <td>...</td>\n",
       "      <td>...</td>\n",
       "      <td>...</td>\n",
       "      <td>...</td>\n",
       "      <td>...</td>\n",
       "      <td>...</td>\n",
       "      <td>...</td>\n",
       "      <td>...</td>\n",
       "      <td>...</td>\n",
       "      <td>...</td>\n",
       "      <td>...</td>\n",
       "      <td>...</td>\n",
       "      <td>...</td>\n",
       "    </tr>\n",
       "    <tr>\n",
       "      <th>711</th>\n",
       "      <td>4</td>\n",
       "      <td>[excel]</td>\n",
       "      <td>37 Rue Belliard, 75018 Paris, France</td>\n",
       "      <td>2.2</td>\n",
       "      <td>81</td>\n",
       "      <td>https://www.google.fr/maps/place/CPAM+de+Paris...</td>\n",
       "      <td>décembre 2022</td>\n",
       "      <td>75018</td>\n",
       "      <td>2022.0</td>\n",
       "      <td>(48.8977862, 2.3475122)</td>\n",
       "      <td>48.897786</td>\n",
       "      <td>2.347512</td>\n",
       "      <td>Positive</td>\n",
       "    </tr>\n",
       "    <tr>\n",
       "      <th>712</th>\n",
       "      <td>1</td>\n",
       "      <td>[pire, employ, rcalcitr]</td>\n",
       "      <td>37 Rue Belliard, 75018 Paris, France</td>\n",
       "      <td>2.2</td>\n",
       "      <td>81</td>\n",
       "      <td>https://www.google.fr/maps/place/CPAM+de+Paris...</td>\n",
       "      <td>septembre 2022</td>\n",
       "      <td>75018</td>\n",
       "      <td>2022.0</td>\n",
       "      <td>(48.8977862, 2.3475122)</td>\n",
       "      <td>48.897786</td>\n",
       "      <td>2.347512</td>\n",
       "      <td>Negative</td>\n",
       "    </tr>\n",
       "    <tr>\n",
       "      <th>713</th>\n",
       "      <td>4</td>\n",
       "      <td>[non]</td>\n",
       "      <td>37 Rue Belliard, 75018 Paris, France</td>\n",
       "      <td>2.2</td>\n",
       "      <td>81</td>\n",
       "      <td>https://www.google.fr/maps/place/CPAM+de+Paris...</td>\n",
       "      <td>décembre 2022</td>\n",
       "      <td>75018</td>\n",
       "      <td>2022.0</td>\n",
       "      <td>(48.8977862, 2.3475122)</td>\n",
       "      <td>48.897786</td>\n",
       "      <td>2.347512</td>\n",
       "      <td>Negative</td>\n",
       "    </tr>\n",
       "    <tr>\n",
       "      <th>714</th>\n",
       "      <td>1</td>\n",
       "      <td>[attent, terribl]</td>\n",
       "      <td>37 Rue Belliard, 75018 Paris, France</td>\n",
       "      <td>2.2</td>\n",
       "      <td>81</td>\n",
       "      <td>https://www.google.fr/maps/place/CPAM+de+Paris...</td>\n",
       "      <td>NaN</td>\n",
       "      <td>75018</td>\n",
       "      <td>NaN</td>\n",
       "      <td>(48.8977862, 2.3475122)</td>\n",
       "      <td>48.897786</td>\n",
       "      <td>2.347512</td>\n",
       "      <td>Negative</td>\n",
       "    </tr>\n",
       "    <tr>\n",
       "      <th>715</th>\n",
       "      <td>5</td>\n",
       "      <td>[ah]</td>\n",
       "      <td>37 Rue Belliard, 75018 Paris, France</td>\n",
       "      <td>2.2</td>\n",
       "      <td>81</td>\n",
       "      <td>https://www.google.fr/maps/place/CPAM+de+Paris...</td>\n",
       "      <td>NaN</td>\n",
       "      <td>75018</td>\n",
       "      <td>NaN</td>\n",
       "      <td>(48.8977862, 2.3475122)</td>\n",
       "      <td>48.897786</td>\n",
       "      <td>2.347512</td>\n",
       "      <td>Negative</td>\n",
       "    </tr>\n",
       "  </tbody>\n",
       "</table>\n",
       "<p>716 rows × 13 columns</p>\n",
       "</div>"
      ],
      "text/plain": [
       "     review_rate                                        review_text  \\\n",
       "0              1  [agent, daccueil, lentr, tr, bien, personn, de...   \n",
       "1              5  [aujourdhui, vendredi, coup, h, venu, cpam, da...   \n",
       "2              1                           [dj, horair, born, pann]   \n",
       "3              1  [agent, san, professionnalism, interromp, paro...   \n",
       "4              5            [merci, personnel, accueil, chaleureux]   \n",
       "..           ...                                                ...   \n",
       "711            4                                            [excel]   \n",
       "712            1                           [pire, employ, rcalcitr]   \n",
       "713            4                                              [non]   \n",
       "714            1                                  [attent, terribl]   \n",
       "715            5                                               [ah]   \n",
       "\n",
       "                               object_address  overall_rating  review_num  \\\n",
       "0    5 Rue de la Durance, 75012 Paris, France             3.7          50   \n",
       "1    5 Rue de la Durance, 75012 Paris, France             3.7          50   \n",
       "2    5 Rue de la Durance, 75012 Paris, France             3.7          50   \n",
       "3    5 Rue de la Durance, 75012 Paris, France             3.7          50   \n",
       "4    5 Rue de la Durance, 75012 Paris, France             3.7          50   \n",
       "..                                        ...             ...         ...   \n",
       "711      37 Rue Belliard, 75018 Paris, France             2.2          81   \n",
       "712      37 Rue Belliard, 75018 Paris, France             2.2          81   \n",
       "713      37 Rue Belliard, 75018 Paris, France             2.2          81   \n",
       "714      37 Rue Belliard, 75018 Paris, France             2.2          81   \n",
       "715      37 Rue Belliard, 75018 Paris, France             2.2          81   \n",
       "\n",
       "                                            object_url   date_complete  \\\n",
       "0    https://www.google.fr/maps/place/CPAM+Paris+12...    janvier 2023   \n",
       "1    https://www.google.fr/maps/place/CPAM+Paris+12...    février 2022   \n",
       "2    https://www.google.fr/maps/place/CPAM+Paris+12...    février 2023   \n",
       "3    https://www.google.fr/maps/place/CPAM+Paris+12...       mars 2021   \n",
       "4    https://www.google.fr/maps/place/CPAM+Paris+12...   décembre 2022   \n",
       "..                                                 ...             ...   \n",
       "711  https://www.google.fr/maps/place/CPAM+de+Paris...   décembre 2022   \n",
       "712  https://www.google.fr/maps/place/CPAM+de+Paris...  septembre 2022   \n",
       "713  https://www.google.fr/maps/place/CPAM+de+Paris...   décembre 2022   \n",
       "714  https://www.google.fr/maps/place/CPAM+de+Paris...             NaN   \n",
       "715  https://www.google.fr/maps/place/CPAM+de+Paris...             NaN   \n",
       "\n",
       "     postal_code    year       latitude_longitude   latitude  longitude  \\\n",
       "0          75012  2023.0  (48.8381167, 2.3938557)  48.838117   2.393856   \n",
       "1          75012  2022.0  (48.8381167, 2.3938557)  48.838117   2.393856   \n",
       "2          75012  2023.0  (48.8381167, 2.3938557)  48.838117   2.393856   \n",
       "3          75012  2021.0  (48.8381167, 2.3938557)  48.838117   2.393856   \n",
       "4          75012  2022.0  (48.8381167, 2.3938557)  48.838117   2.393856   \n",
       "..           ...     ...                      ...        ...        ...   \n",
       "711        75018  2022.0  (48.8977862, 2.3475122)  48.897786   2.347512   \n",
       "712        75018  2022.0  (48.8977862, 2.3475122)  48.897786   2.347512   \n",
       "713        75018  2022.0  (48.8977862, 2.3475122)  48.897786   2.347512   \n",
       "714        75018     NaN  (48.8977862, 2.3475122)  48.897786   2.347512   \n",
       "715        75018     NaN  (48.8977862, 2.3475122)  48.897786   2.347512   \n",
       "\n",
       "    sentiment  \n",
       "0    Negative  \n",
       "1    Negative  \n",
       "2    Negative  \n",
       "3    Negative  \n",
       "4    Negative  \n",
       "..        ...  \n",
       "711  Positive  \n",
       "712  Negative  \n",
       "713  Negative  \n",
       "714  Negative  \n",
       "715  Negative  \n",
       "\n",
       "[716 rows x 13 columns]"
      ]
     },
     "execution_count": 73,
     "metadata": {},
     "output_type": "execute_result"
    }
   ],
   "source": [
    "d"
   ]
  },
  {
   "cell_type": "code",
   "execution_count": 74,
   "id": "ac27cb3f",
   "metadata": {},
   "outputs": [
    {
     "data": {
      "text/plain": [
       "0      [agent, daccueil, lentr, tr, bien, personn, de...\n",
       "1      [aujourdhui, vendredi, coup, h, venu, cpam, da...\n",
       "2                               [dj, horair, born, pann]\n",
       "3      [agent, san, professionnalism, interromp, paro...\n",
       "4                [merci, personnel, accueil, chaleureux]\n",
       "                             ...                        \n",
       "711                                              [excel]\n",
       "712                             [pire, employ, rcalcitr]\n",
       "713                                                [non]\n",
       "714                                    [attent, terribl]\n",
       "715                                                 [ah]\n",
       "Name: review_text, Length: 716, dtype: object"
      ]
     },
     "execution_count": 74,
     "metadata": {},
     "output_type": "execute_result"
    }
   ],
   "source": [
    "d['review_text']"
   ]
  },
  {
   "cell_type": "code",
   "execution_count": 75,
   "id": "c4be03d7",
   "metadata": {},
   "outputs": [
    {
     "data": {
      "application/vnd.plotly.v1+json": {
       "config": {
        "plotlyServerURL": "https://plot.ly"
       },
       "data": [
        {
         "labels": [
          "Negative",
          "Positive"
         ],
         "marker": {
          "colors": [
           "red",
           "green"
          ]
         },
         "textinfo": "label+percent",
         "type": "pie",
         "values": [
          564,
          152
         ]
        }
       ],
       "layout": {
        "template": {
         "data": {
          "bar": [
           {
            "error_x": {
             "color": "#2a3f5f"
            },
            "error_y": {
             "color": "#2a3f5f"
            },
            "marker": {
             "line": {
              "color": "#E5ECF6",
              "width": 0.5
             },
             "pattern": {
              "fillmode": "overlay",
              "size": 10,
              "solidity": 0.2
             }
            },
            "type": "bar"
           }
          ],
          "barpolar": [
           {
            "marker": {
             "line": {
              "color": "#E5ECF6",
              "width": 0.5
             },
             "pattern": {
              "fillmode": "overlay",
              "size": 10,
              "solidity": 0.2
             }
            },
            "type": "barpolar"
           }
          ],
          "carpet": [
           {
            "aaxis": {
             "endlinecolor": "#2a3f5f",
             "gridcolor": "white",
             "linecolor": "white",
             "minorgridcolor": "white",
             "startlinecolor": "#2a3f5f"
            },
            "baxis": {
             "endlinecolor": "#2a3f5f",
             "gridcolor": "white",
             "linecolor": "white",
             "minorgridcolor": "white",
             "startlinecolor": "#2a3f5f"
            },
            "type": "carpet"
           }
          ],
          "choropleth": [
           {
            "colorbar": {
             "outlinewidth": 0,
             "ticks": ""
            },
            "type": "choropleth"
           }
          ],
          "contour": [
           {
            "colorbar": {
             "outlinewidth": 0,
             "ticks": ""
            },
            "colorscale": [
             [
              0,
              "#0d0887"
             ],
             [
              0.1111111111111111,
              "#46039f"
             ],
             [
              0.2222222222222222,
              "#7201a8"
             ],
             [
              0.3333333333333333,
              "#9c179e"
             ],
             [
              0.4444444444444444,
              "#bd3786"
             ],
             [
              0.5555555555555556,
              "#d8576b"
             ],
             [
              0.6666666666666666,
              "#ed7953"
             ],
             [
              0.7777777777777778,
              "#fb9f3a"
             ],
             [
              0.8888888888888888,
              "#fdca26"
             ],
             [
              1,
              "#f0f921"
             ]
            ],
            "type": "contour"
           }
          ],
          "contourcarpet": [
           {
            "colorbar": {
             "outlinewidth": 0,
             "ticks": ""
            },
            "type": "contourcarpet"
           }
          ],
          "heatmap": [
           {
            "colorbar": {
             "outlinewidth": 0,
             "ticks": ""
            },
            "colorscale": [
             [
              0,
              "#0d0887"
             ],
             [
              0.1111111111111111,
              "#46039f"
             ],
             [
              0.2222222222222222,
              "#7201a8"
             ],
             [
              0.3333333333333333,
              "#9c179e"
             ],
             [
              0.4444444444444444,
              "#bd3786"
             ],
             [
              0.5555555555555556,
              "#d8576b"
             ],
             [
              0.6666666666666666,
              "#ed7953"
             ],
             [
              0.7777777777777778,
              "#fb9f3a"
             ],
             [
              0.8888888888888888,
              "#fdca26"
             ],
             [
              1,
              "#f0f921"
             ]
            ],
            "type": "heatmap"
           }
          ],
          "heatmapgl": [
           {
            "colorbar": {
             "outlinewidth": 0,
             "ticks": ""
            },
            "colorscale": [
             [
              0,
              "#0d0887"
             ],
             [
              0.1111111111111111,
              "#46039f"
             ],
             [
              0.2222222222222222,
              "#7201a8"
             ],
             [
              0.3333333333333333,
              "#9c179e"
             ],
             [
              0.4444444444444444,
              "#bd3786"
             ],
             [
              0.5555555555555556,
              "#d8576b"
             ],
             [
              0.6666666666666666,
              "#ed7953"
             ],
             [
              0.7777777777777778,
              "#fb9f3a"
             ],
             [
              0.8888888888888888,
              "#fdca26"
             ],
             [
              1,
              "#f0f921"
             ]
            ],
            "type": "heatmapgl"
           }
          ],
          "histogram": [
           {
            "marker": {
             "pattern": {
              "fillmode": "overlay",
              "size": 10,
              "solidity": 0.2
             }
            },
            "type": "histogram"
           }
          ],
          "histogram2d": [
           {
            "colorbar": {
             "outlinewidth": 0,
             "ticks": ""
            },
            "colorscale": [
             [
              0,
              "#0d0887"
             ],
             [
              0.1111111111111111,
              "#46039f"
             ],
             [
              0.2222222222222222,
              "#7201a8"
             ],
             [
              0.3333333333333333,
              "#9c179e"
             ],
             [
              0.4444444444444444,
              "#bd3786"
             ],
             [
              0.5555555555555556,
              "#d8576b"
             ],
             [
              0.6666666666666666,
              "#ed7953"
             ],
             [
              0.7777777777777778,
              "#fb9f3a"
             ],
             [
              0.8888888888888888,
              "#fdca26"
             ],
             [
              1,
              "#f0f921"
             ]
            ],
            "type": "histogram2d"
           }
          ],
          "histogram2dcontour": [
           {
            "colorbar": {
             "outlinewidth": 0,
             "ticks": ""
            },
            "colorscale": [
             [
              0,
              "#0d0887"
             ],
             [
              0.1111111111111111,
              "#46039f"
             ],
             [
              0.2222222222222222,
              "#7201a8"
             ],
             [
              0.3333333333333333,
              "#9c179e"
             ],
             [
              0.4444444444444444,
              "#bd3786"
             ],
             [
              0.5555555555555556,
              "#d8576b"
             ],
             [
              0.6666666666666666,
              "#ed7953"
             ],
             [
              0.7777777777777778,
              "#fb9f3a"
             ],
             [
              0.8888888888888888,
              "#fdca26"
             ],
             [
              1,
              "#f0f921"
             ]
            ],
            "type": "histogram2dcontour"
           }
          ],
          "mesh3d": [
           {
            "colorbar": {
             "outlinewidth": 0,
             "ticks": ""
            },
            "type": "mesh3d"
           }
          ],
          "parcoords": [
           {
            "line": {
             "colorbar": {
              "outlinewidth": 0,
              "ticks": ""
             }
            },
            "type": "parcoords"
           }
          ],
          "pie": [
           {
            "automargin": true,
            "type": "pie"
           }
          ],
          "scatter": [
           {
            "fillpattern": {
             "fillmode": "overlay",
             "size": 10,
             "solidity": 0.2
            },
            "type": "scatter"
           }
          ],
          "scatter3d": [
           {
            "line": {
             "colorbar": {
              "outlinewidth": 0,
              "ticks": ""
             }
            },
            "marker": {
             "colorbar": {
              "outlinewidth": 0,
              "ticks": ""
             }
            },
            "type": "scatter3d"
           }
          ],
          "scattercarpet": [
           {
            "marker": {
             "colorbar": {
              "outlinewidth": 0,
              "ticks": ""
             }
            },
            "type": "scattercarpet"
           }
          ],
          "scattergeo": [
           {
            "marker": {
             "colorbar": {
              "outlinewidth": 0,
              "ticks": ""
             }
            },
            "type": "scattergeo"
           }
          ],
          "scattergl": [
           {
            "marker": {
             "colorbar": {
              "outlinewidth": 0,
              "ticks": ""
             }
            },
            "type": "scattergl"
           }
          ],
          "scattermapbox": [
           {
            "marker": {
             "colorbar": {
              "outlinewidth": 0,
              "ticks": ""
             }
            },
            "type": "scattermapbox"
           }
          ],
          "scatterpolar": [
           {
            "marker": {
             "colorbar": {
              "outlinewidth": 0,
              "ticks": ""
             }
            },
            "type": "scatterpolar"
           }
          ],
          "scatterpolargl": [
           {
            "marker": {
             "colorbar": {
              "outlinewidth": 0,
              "ticks": ""
             }
            },
            "type": "scatterpolargl"
           }
          ],
          "scatterternary": [
           {
            "marker": {
             "colorbar": {
              "outlinewidth": 0,
              "ticks": ""
             }
            },
            "type": "scatterternary"
           }
          ],
          "surface": [
           {
            "colorbar": {
             "outlinewidth": 0,
             "ticks": ""
            },
            "colorscale": [
             [
              0,
              "#0d0887"
             ],
             [
              0.1111111111111111,
              "#46039f"
             ],
             [
              0.2222222222222222,
              "#7201a8"
             ],
             [
              0.3333333333333333,
              "#9c179e"
             ],
             [
              0.4444444444444444,
              "#bd3786"
             ],
             [
              0.5555555555555556,
              "#d8576b"
             ],
             [
              0.6666666666666666,
              "#ed7953"
             ],
             [
              0.7777777777777778,
              "#fb9f3a"
             ],
             [
              0.8888888888888888,
              "#fdca26"
             ],
             [
              1,
              "#f0f921"
             ]
            ],
            "type": "surface"
           }
          ],
          "table": [
           {
            "cells": {
             "fill": {
              "color": "#EBF0F8"
             },
             "line": {
              "color": "white"
             }
            },
            "header": {
             "fill": {
              "color": "#C8D4E3"
             },
             "line": {
              "color": "white"
             }
            },
            "type": "table"
           }
          ]
         },
         "layout": {
          "annotationdefaults": {
           "arrowcolor": "#2a3f5f",
           "arrowhead": 0,
           "arrowwidth": 1
          },
          "autotypenumbers": "strict",
          "coloraxis": {
           "colorbar": {
            "outlinewidth": 0,
            "ticks": ""
           }
          },
          "colorscale": {
           "diverging": [
            [
             0,
             "#8e0152"
            ],
            [
             0.1,
             "#c51b7d"
            ],
            [
             0.2,
             "#de77ae"
            ],
            [
             0.3,
             "#f1b6da"
            ],
            [
             0.4,
             "#fde0ef"
            ],
            [
             0.5,
             "#f7f7f7"
            ],
            [
             0.6,
             "#e6f5d0"
            ],
            [
             0.7,
             "#b8e186"
            ],
            [
             0.8,
             "#7fbc41"
            ],
            [
             0.9,
             "#4d9221"
            ],
            [
             1,
             "#276419"
            ]
           ],
           "sequential": [
            [
             0,
             "#0d0887"
            ],
            [
             0.1111111111111111,
             "#46039f"
            ],
            [
             0.2222222222222222,
             "#7201a8"
            ],
            [
             0.3333333333333333,
             "#9c179e"
            ],
            [
             0.4444444444444444,
             "#bd3786"
            ],
            [
             0.5555555555555556,
             "#d8576b"
            ],
            [
             0.6666666666666666,
             "#ed7953"
            ],
            [
             0.7777777777777778,
             "#fb9f3a"
            ],
            [
             0.8888888888888888,
             "#fdca26"
            ],
            [
             1,
             "#f0f921"
            ]
           ],
           "sequentialminus": [
            [
             0,
             "#0d0887"
            ],
            [
             0.1111111111111111,
             "#46039f"
            ],
            [
             0.2222222222222222,
             "#7201a8"
            ],
            [
             0.3333333333333333,
             "#9c179e"
            ],
            [
             0.4444444444444444,
             "#bd3786"
            ],
            [
             0.5555555555555556,
             "#d8576b"
            ],
            [
             0.6666666666666666,
             "#ed7953"
            ],
            [
             0.7777777777777778,
             "#fb9f3a"
            ],
            [
             0.8888888888888888,
             "#fdca26"
            ],
            [
             1,
             "#f0f921"
            ]
           ]
          },
          "colorway": [
           "#636efa",
           "#EF553B",
           "#00cc96",
           "#ab63fa",
           "#FFA15A",
           "#19d3f3",
           "#FF6692",
           "#B6E880",
           "#FF97FF",
           "#FECB52"
          ],
          "font": {
           "color": "#2a3f5f"
          },
          "geo": {
           "bgcolor": "white",
           "lakecolor": "white",
           "landcolor": "#E5ECF6",
           "showlakes": true,
           "showland": true,
           "subunitcolor": "white"
          },
          "hoverlabel": {
           "align": "left"
          },
          "hovermode": "closest",
          "mapbox": {
           "style": "light"
          },
          "paper_bgcolor": "white",
          "plot_bgcolor": "#E5ECF6",
          "polar": {
           "angularaxis": {
            "gridcolor": "white",
            "linecolor": "white",
            "ticks": ""
           },
           "bgcolor": "#E5ECF6",
           "radialaxis": {
            "gridcolor": "white",
            "linecolor": "white",
            "ticks": ""
           }
          },
          "scene": {
           "xaxis": {
            "backgroundcolor": "#E5ECF6",
            "gridcolor": "white",
            "gridwidth": 2,
            "linecolor": "white",
            "showbackground": true,
            "ticks": "",
            "zerolinecolor": "white"
           },
           "yaxis": {
            "backgroundcolor": "#E5ECF6",
            "gridcolor": "white",
            "gridwidth": 2,
            "linecolor": "white",
            "showbackground": true,
            "ticks": "",
            "zerolinecolor": "white"
           },
           "zaxis": {
            "backgroundcolor": "#E5ECF6",
            "gridcolor": "white",
            "gridwidth": 2,
            "linecolor": "white",
            "showbackground": true,
            "ticks": "",
            "zerolinecolor": "white"
           }
          },
          "shapedefaults": {
           "line": {
            "color": "#2a3f5f"
           }
          },
          "ternary": {
           "aaxis": {
            "gridcolor": "white",
            "linecolor": "white",
            "ticks": ""
           },
           "baxis": {
            "gridcolor": "white",
            "linecolor": "white",
            "ticks": ""
           },
           "bgcolor": "#E5ECF6",
           "caxis": {
            "gridcolor": "white",
            "linecolor": "white",
            "ticks": ""
           }
          },
          "title": {
           "x": 0.05
          },
          "xaxis": {
           "automargin": true,
           "gridcolor": "white",
           "linecolor": "white",
           "ticks": "",
           "title": {
            "standoff": 15
           },
           "zerolinecolor": "white",
           "zerolinewidth": 2
          },
          "yaxis": {
           "automargin": true,
           "gridcolor": "white",
           "linecolor": "white",
           "ticks": "",
           "title": {
            "standoff": 15
           },
           "zerolinecolor": "white",
           "zerolinewidth": 2
          }
         }
        },
        "title": {
         "text": "Répartition des catégories"
        }
       }
      },
      "text/html": [
       "<div>                            <div id=\"ef3e86c8-7741-4bf2-928d-95f6c8203ede\" class=\"plotly-graph-div\" style=\"height:525px; width:100%;\"></div>            <script type=\"text/javascript\">                require([\"plotly\"], function(Plotly) {                    window.PLOTLYENV=window.PLOTLYENV || {};                                    if (document.getElementById(\"ef3e86c8-7741-4bf2-928d-95f6c8203ede\")) {                    Plotly.newPlot(                        \"ef3e86c8-7741-4bf2-928d-95f6c8203ede\",                        [{\"labels\":[\"Negative\",\"Positive\"],\"marker\":{\"colors\":[\"red\",\"green\"]},\"textinfo\":\"label+percent\",\"values\":[564,152],\"type\":\"pie\"}],                        {\"template\":{\"data\":{\"histogram2dcontour\":[{\"type\":\"histogram2dcontour\",\"colorbar\":{\"outlinewidth\":0,\"ticks\":\"\"},\"colorscale\":[[0.0,\"#0d0887\"],[0.1111111111111111,\"#46039f\"],[0.2222222222222222,\"#7201a8\"],[0.3333333333333333,\"#9c179e\"],[0.4444444444444444,\"#bd3786\"],[0.5555555555555556,\"#d8576b\"],[0.6666666666666666,\"#ed7953\"],[0.7777777777777778,\"#fb9f3a\"],[0.8888888888888888,\"#fdca26\"],[1.0,\"#f0f921\"]]}],\"choropleth\":[{\"type\":\"choropleth\",\"colorbar\":{\"outlinewidth\":0,\"ticks\":\"\"}}],\"histogram2d\":[{\"type\":\"histogram2d\",\"colorbar\":{\"outlinewidth\":0,\"ticks\":\"\"},\"colorscale\":[[0.0,\"#0d0887\"],[0.1111111111111111,\"#46039f\"],[0.2222222222222222,\"#7201a8\"],[0.3333333333333333,\"#9c179e\"],[0.4444444444444444,\"#bd3786\"],[0.5555555555555556,\"#d8576b\"],[0.6666666666666666,\"#ed7953\"],[0.7777777777777778,\"#fb9f3a\"],[0.8888888888888888,\"#fdca26\"],[1.0,\"#f0f921\"]]}],\"heatmap\":[{\"type\":\"heatmap\",\"colorbar\":{\"outlinewidth\":0,\"ticks\":\"\"},\"colorscale\":[[0.0,\"#0d0887\"],[0.1111111111111111,\"#46039f\"],[0.2222222222222222,\"#7201a8\"],[0.3333333333333333,\"#9c179e\"],[0.4444444444444444,\"#bd3786\"],[0.5555555555555556,\"#d8576b\"],[0.6666666666666666,\"#ed7953\"],[0.7777777777777778,\"#fb9f3a\"],[0.8888888888888888,\"#fdca26\"],[1.0,\"#f0f921\"]]}],\"heatmapgl\":[{\"type\":\"heatmapgl\",\"colorbar\":{\"outlinewidth\":0,\"ticks\":\"\"},\"colorscale\":[[0.0,\"#0d0887\"],[0.1111111111111111,\"#46039f\"],[0.2222222222222222,\"#7201a8\"],[0.3333333333333333,\"#9c179e\"],[0.4444444444444444,\"#bd3786\"],[0.5555555555555556,\"#d8576b\"],[0.6666666666666666,\"#ed7953\"],[0.7777777777777778,\"#fb9f3a\"],[0.8888888888888888,\"#fdca26\"],[1.0,\"#f0f921\"]]}],\"contourcarpet\":[{\"type\":\"contourcarpet\",\"colorbar\":{\"outlinewidth\":0,\"ticks\":\"\"}}],\"contour\":[{\"type\":\"contour\",\"colorbar\":{\"outlinewidth\":0,\"ticks\":\"\"},\"colorscale\":[[0.0,\"#0d0887\"],[0.1111111111111111,\"#46039f\"],[0.2222222222222222,\"#7201a8\"],[0.3333333333333333,\"#9c179e\"],[0.4444444444444444,\"#bd3786\"],[0.5555555555555556,\"#d8576b\"],[0.6666666666666666,\"#ed7953\"],[0.7777777777777778,\"#fb9f3a\"],[0.8888888888888888,\"#fdca26\"],[1.0,\"#f0f921\"]]}],\"surface\":[{\"type\":\"surface\",\"colorbar\":{\"outlinewidth\":0,\"ticks\":\"\"},\"colorscale\":[[0.0,\"#0d0887\"],[0.1111111111111111,\"#46039f\"],[0.2222222222222222,\"#7201a8\"],[0.3333333333333333,\"#9c179e\"],[0.4444444444444444,\"#bd3786\"],[0.5555555555555556,\"#d8576b\"],[0.6666666666666666,\"#ed7953\"],[0.7777777777777778,\"#fb9f3a\"],[0.8888888888888888,\"#fdca26\"],[1.0,\"#f0f921\"]]}],\"mesh3d\":[{\"type\":\"mesh3d\",\"colorbar\":{\"outlinewidth\":0,\"ticks\":\"\"}}],\"scatter\":[{\"fillpattern\":{\"fillmode\":\"overlay\",\"size\":10,\"solidity\":0.2},\"type\":\"scatter\"}],\"parcoords\":[{\"type\":\"parcoords\",\"line\":{\"colorbar\":{\"outlinewidth\":0,\"ticks\":\"\"}}}],\"scatterpolargl\":[{\"type\":\"scatterpolargl\",\"marker\":{\"colorbar\":{\"outlinewidth\":0,\"ticks\":\"\"}}}],\"bar\":[{\"error_x\":{\"color\":\"#2a3f5f\"},\"error_y\":{\"color\":\"#2a3f5f\"},\"marker\":{\"line\":{\"color\":\"#E5ECF6\",\"width\":0.5},\"pattern\":{\"fillmode\":\"overlay\",\"size\":10,\"solidity\":0.2}},\"type\":\"bar\"}],\"scattergeo\":[{\"type\":\"scattergeo\",\"marker\":{\"colorbar\":{\"outlinewidth\":0,\"ticks\":\"\"}}}],\"scatterpolar\":[{\"type\":\"scatterpolar\",\"marker\":{\"colorbar\":{\"outlinewidth\":0,\"ticks\":\"\"}}}],\"histogram\":[{\"marker\":{\"pattern\":{\"fillmode\":\"overlay\",\"size\":10,\"solidity\":0.2}},\"type\":\"histogram\"}],\"scattergl\":[{\"type\":\"scattergl\",\"marker\":{\"colorbar\":{\"outlinewidth\":0,\"ticks\":\"\"}}}],\"scatter3d\":[{\"type\":\"scatter3d\",\"line\":{\"colorbar\":{\"outlinewidth\":0,\"ticks\":\"\"}},\"marker\":{\"colorbar\":{\"outlinewidth\":0,\"ticks\":\"\"}}}],\"scattermapbox\":[{\"type\":\"scattermapbox\",\"marker\":{\"colorbar\":{\"outlinewidth\":0,\"ticks\":\"\"}}}],\"scatterternary\":[{\"type\":\"scatterternary\",\"marker\":{\"colorbar\":{\"outlinewidth\":0,\"ticks\":\"\"}}}],\"scattercarpet\":[{\"type\":\"scattercarpet\",\"marker\":{\"colorbar\":{\"outlinewidth\":0,\"ticks\":\"\"}}}],\"carpet\":[{\"aaxis\":{\"endlinecolor\":\"#2a3f5f\",\"gridcolor\":\"white\",\"linecolor\":\"white\",\"minorgridcolor\":\"white\",\"startlinecolor\":\"#2a3f5f\"},\"baxis\":{\"endlinecolor\":\"#2a3f5f\",\"gridcolor\":\"white\",\"linecolor\":\"white\",\"minorgridcolor\":\"white\",\"startlinecolor\":\"#2a3f5f\"},\"type\":\"carpet\"}],\"table\":[{\"cells\":{\"fill\":{\"color\":\"#EBF0F8\"},\"line\":{\"color\":\"white\"}},\"header\":{\"fill\":{\"color\":\"#C8D4E3\"},\"line\":{\"color\":\"white\"}},\"type\":\"table\"}],\"barpolar\":[{\"marker\":{\"line\":{\"color\":\"#E5ECF6\",\"width\":0.5},\"pattern\":{\"fillmode\":\"overlay\",\"size\":10,\"solidity\":0.2}},\"type\":\"barpolar\"}],\"pie\":[{\"automargin\":true,\"type\":\"pie\"}]},\"layout\":{\"autotypenumbers\":\"strict\",\"colorway\":[\"#636efa\",\"#EF553B\",\"#00cc96\",\"#ab63fa\",\"#FFA15A\",\"#19d3f3\",\"#FF6692\",\"#B6E880\",\"#FF97FF\",\"#FECB52\"],\"font\":{\"color\":\"#2a3f5f\"},\"hovermode\":\"closest\",\"hoverlabel\":{\"align\":\"left\"},\"paper_bgcolor\":\"white\",\"plot_bgcolor\":\"#E5ECF6\",\"polar\":{\"bgcolor\":\"#E5ECF6\",\"angularaxis\":{\"gridcolor\":\"white\",\"linecolor\":\"white\",\"ticks\":\"\"},\"radialaxis\":{\"gridcolor\":\"white\",\"linecolor\":\"white\",\"ticks\":\"\"}},\"ternary\":{\"bgcolor\":\"#E5ECF6\",\"aaxis\":{\"gridcolor\":\"white\",\"linecolor\":\"white\",\"ticks\":\"\"},\"baxis\":{\"gridcolor\":\"white\",\"linecolor\":\"white\",\"ticks\":\"\"},\"caxis\":{\"gridcolor\":\"white\",\"linecolor\":\"white\",\"ticks\":\"\"}},\"coloraxis\":{\"colorbar\":{\"outlinewidth\":0,\"ticks\":\"\"}},\"colorscale\":{\"sequential\":[[0.0,\"#0d0887\"],[0.1111111111111111,\"#46039f\"],[0.2222222222222222,\"#7201a8\"],[0.3333333333333333,\"#9c179e\"],[0.4444444444444444,\"#bd3786\"],[0.5555555555555556,\"#d8576b\"],[0.6666666666666666,\"#ed7953\"],[0.7777777777777778,\"#fb9f3a\"],[0.8888888888888888,\"#fdca26\"],[1.0,\"#f0f921\"]],\"sequentialminus\":[[0.0,\"#0d0887\"],[0.1111111111111111,\"#46039f\"],[0.2222222222222222,\"#7201a8\"],[0.3333333333333333,\"#9c179e\"],[0.4444444444444444,\"#bd3786\"],[0.5555555555555556,\"#d8576b\"],[0.6666666666666666,\"#ed7953\"],[0.7777777777777778,\"#fb9f3a\"],[0.8888888888888888,\"#fdca26\"],[1.0,\"#f0f921\"]],\"diverging\":[[0,\"#8e0152\"],[0.1,\"#c51b7d\"],[0.2,\"#de77ae\"],[0.3,\"#f1b6da\"],[0.4,\"#fde0ef\"],[0.5,\"#f7f7f7\"],[0.6,\"#e6f5d0\"],[0.7,\"#b8e186\"],[0.8,\"#7fbc41\"],[0.9,\"#4d9221\"],[1,\"#276419\"]]},\"xaxis\":{\"gridcolor\":\"white\",\"linecolor\":\"white\",\"ticks\":\"\",\"title\":{\"standoff\":15},\"zerolinecolor\":\"white\",\"automargin\":true,\"zerolinewidth\":2},\"yaxis\":{\"gridcolor\":\"white\",\"linecolor\":\"white\",\"ticks\":\"\",\"title\":{\"standoff\":15},\"zerolinecolor\":\"white\",\"automargin\":true,\"zerolinewidth\":2},\"scene\":{\"xaxis\":{\"backgroundcolor\":\"#E5ECF6\",\"gridcolor\":\"white\",\"linecolor\":\"white\",\"showbackground\":true,\"ticks\":\"\",\"zerolinecolor\":\"white\",\"gridwidth\":2},\"yaxis\":{\"backgroundcolor\":\"#E5ECF6\",\"gridcolor\":\"white\",\"linecolor\":\"white\",\"showbackground\":true,\"ticks\":\"\",\"zerolinecolor\":\"white\",\"gridwidth\":2},\"zaxis\":{\"backgroundcolor\":\"#E5ECF6\",\"gridcolor\":\"white\",\"linecolor\":\"white\",\"showbackground\":true,\"ticks\":\"\",\"zerolinecolor\":\"white\",\"gridwidth\":2}},\"shapedefaults\":{\"line\":{\"color\":\"#2a3f5f\"}},\"annotationdefaults\":{\"arrowcolor\":\"#2a3f5f\",\"arrowhead\":0,\"arrowwidth\":1},\"geo\":{\"bgcolor\":\"white\",\"landcolor\":\"#E5ECF6\",\"subunitcolor\":\"white\",\"showland\":true,\"showlakes\":true,\"lakecolor\":\"white\"},\"title\":{\"x\":0.05},\"mapbox\":{\"style\":\"light\"}}},\"title\":{\"text\":\"R\\u00e9partition des cat\\u00e9gories\"}},                        {\"responsive\": true}                    ).then(function(){\n",
       "                            \n",
       "var gd = document.getElementById('ef3e86c8-7741-4bf2-928d-95f6c8203ede');\n",
       "var x = new MutationObserver(function (mutations, observer) {{\n",
       "        var display = window.getComputedStyle(gd).display;\n",
       "        if (!display || display === 'none') {{\n",
       "            console.log([gd, 'removed!']);\n",
       "            Plotly.purge(gd);\n",
       "            observer.disconnect();\n",
       "        }}\n",
       "}});\n",
       "\n",
       "// Listen for the removal of the full notebook cells\n",
       "var notebookContainer = gd.closest('#notebook-container');\n",
       "if (notebookContainer) {{\n",
       "    x.observe(notebookContainer, {childList: true});\n",
       "}}\n",
       "\n",
       "// Listen for the clearing of the current output cell\n",
       "var outputEl = gd.closest('.output');\n",
       "if (outputEl) {{\n",
       "    x.observe(outputEl, {childList: true});\n",
       "}}\n",
       "\n",
       "                        })                };                });            </script>        </div>"
      ]
     },
     "metadata": {},
     "output_type": "display_data"
    }
   ],
   "source": [
    "import plotly.graph_objects as go\n",
    "\n",
    "# Compter le nombre d'occurrences pour chaque catégorie\n",
    "category_counts = d['sentiment'].value_counts()\n",
    "\n",
    "# Définir les couleurs personnalisées pour chaque catégorie\n",
    "colors = ['red', 'green']\n",
    "\n",
    "# Créer un diagramme circulaire avec les couleurs personnalisées\n",
    "fig = go.Figure(data=go.Pie(labels=category_counts.index, values=category_counts, \n",
    "                           textinfo='label+percent', marker=dict(colors=colors)))\n",
    "\n",
    "# Ajouter un titre\n",
    "fig.update_layout(title='Répartition des catégories')\n",
    "\n",
    "# Afficher le diagramme\n",
    "fig.show()\n"
   ]
  },
  {
   "cell_type": "code",
   "execution_count": 76,
   "id": "4044bed3",
   "metadata": {},
   "outputs": [
    {
     "data": {
      "text/plain": [
       "Negative    564\n",
       "Positive    152\n",
       "Name: sentiment, dtype: int64"
      ]
     },
     "execution_count": 76,
     "metadata": {},
     "output_type": "execute_result"
    }
   ],
   "source": [
    "category_counts"
   ]
  },
  {
   "cell_type": "markdown",
   "id": "78ce1cb0",
   "metadata": {},
   "source": [
    "# Modele de prediction :  "
   ]
  },
  {
   "cell_type": "code",
   "execution_count": 77,
   "id": "31f6b406",
   "metadata": {},
   "outputs": [],
   "source": [
    "import pandas as pd\n",
    "from sklearn.model_selection import train_test_split\n",
    "from sklearn.feature_extraction.text import TfidfVectorizer\n",
    "from sklearn import svm\n",
    "from sklearn.metrics import accuracy_score"
   ]
  },
  {
   "cell_type": "code",
   "execution_count": 78,
   "id": "6cad91c6",
   "metadata": {},
   "outputs": [],
   "source": [
    "# Préparation des données\n",
    "X = d['review_text']\n",
    "y = d['sentiment']"
   ]
  },
  {
   "cell_type": "code",
   "execution_count": 79,
   "id": "a51ccfee",
   "metadata": {},
   "outputs": [],
   "source": [
    "# Séparation des données en ensembles d'entraînement et de test\n",
    "X_train, X_test, y_train, y_test = train_test_split(X, y, test_size=0.2, random_state=42)"
   ]
  },
  {
   "cell_type": "code",
   "execution_count": 80,
   "id": "eefa2716",
   "metadata": {},
   "outputs": [],
   "source": [
    "# Convertir X_train en liste de chaînes de caractères\n",
    "X_train = X_train.tolist()\n",
    "X_train = [str(texte) for texte in X_train]\n",
    "\n",
    "# Convertir X_test en liste de chaînes de caractères\n",
    "X_test = X_test.tolist()\n",
    "X_test = [str(texte) for texte in X_test]\n"
   ]
  },
  {
   "cell_type": "code",
   "execution_count": 81,
   "id": "2b0ec966",
   "metadata": {},
   "outputs": [],
   "source": [
    "# Création d'un vecteur TF-IDF pour représenter les caractéristiques\n",
    "vectorizer = TfidfVectorizer()\n",
    "X_train = vectorizer.fit_transform(X_train)\n",
    "X_test = vectorizer.transform(X_test)"
   ]
  },
  {
   "cell_type": "code",
   "execution_count": 82,
   "id": "b94e92af",
   "metadata": {},
   "outputs": [
    {
     "data": {
      "text/plain": [
       "SVC(kernel='linear')"
      ]
     },
     "execution_count": 82,
     "metadata": {},
     "output_type": "execute_result"
    }
   ],
   "source": [
    "# Entraînement du modèle SVM\n",
    "model = svm.SVC(kernel='linear')\n",
    "model.fit(X_train, y_train)\n"
   ]
  },
  {
   "cell_type": "code",
   "execution_count": 83,
   "id": "eab55ee3",
   "metadata": {},
   "outputs": [
    {
     "data": {
      "text/plain": [
       "array(['Negative', 'Negative', 'Negative', 'Negative', 'Negative',\n",
       "       'Negative', 'Negative', 'Positive', 'Negative', 'Negative',\n",
       "       'Negative', 'Negative', 'Negative', 'Negative', 'Negative',\n",
       "       'Negative', 'Negative', 'Negative', 'Negative', 'Negative',\n",
       "       'Negative', 'Negative', 'Negative', 'Negative', 'Negative',\n",
       "       'Negative', 'Negative', 'Negative', 'Negative', 'Negative',\n",
       "       'Negative', 'Negative', 'Negative', 'Negative', 'Positive',\n",
       "       'Negative', 'Negative', 'Negative', 'Negative', 'Negative',\n",
       "       'Negative', 'Positive', 'Negative', 'Negative', 'Negative',\n",
       "       'Negative', 'Negative', 'Negative', 'Negative', 'Negative',\n",
       "       'Positive', 'Negative', 'Negative', 'Negative', 'Negative',\n",
       "       'Negative', 'Negative', 'Positive', 'Negative', 'Negative',\n",
       "       'Negative', 'Negative', 'Negative', 'Negative', 'Negative',\n",
       "       'Negative', 'Negative', 'Negative', 'Negative', 'Negative',\n",
       "       'Negative', 'Negative', 'Negative', 'Negative', 'Negative',\n",
       "       'Negative', 'Negative', 'Negative', 'Negative', 'Negative',\n",
       "       'Negative', 'Positive', 'Negative', 'Negative', 'Negative',\n",
       "       'Negative', 'Negative', 'Negative', 'Negative', 'Negative',\n",
       "       'Negative', 'Negative', 'Negative', 'Negative', 'Negative',\n",
       "       'Negative', 'Negative', 'Negative', 'Negative', 'Positive',\n",
       "       'Negative', 'Negative', 'Negative', 'Negative', 'Negative',\n",
       "       'Negative', 'Negative', 'Negative', 'Negative', 'Negative',\n",
       "       'Negative', 'Negative', 'Negative', 'Negative', 'Negative',\n",
       "       'Negative', 'Negative', 'Negative', 'Negative', 'Negative',\n",
       "       'Negative', 'Positive', 'Negative', 'Negative', 'Negative',\n",
       "       'Negative', 'Negative', 'Negative', 'Negative', 'Negative',\n",
       "       'Negative', 'Negative', 'Negative', 'Negative', 'Negative',\n",
       "       'Negative', 'Negative', 'Negative', 'Negative', 'Negative',\n",
       "       'Negative', 'Positive', 'Negative', 'Positive'], dtype=object)"
      ]
     },
     "execution_count": 83,
     "metadata": {},
     "output_type": "execute_result"
    }
   ],
   "source": [
    "# Prédiction sur les données de test\n",
    "y_pred = model.predict(X_test)\n",
    "y_pred"
   ]
  },
  {
   "cell_type": "code",
   "execution_count": 84,
   "id": "213dccc6",
   "metadata": {},
   "outputs": [
    {
     "name": "stdout",
     "output_type": "stream",
     "text": [
      "Précision du modèle : 85.42%\n"
     ]
    }
   ],
   "source": [
    "# Évaluation de la performance\n",
    "accuracy = accuracy_score(y_test, y_pred)\n",
    "print(\"Précision du modèle : {:.2f}%\".format(accuracy * 100))\n"
   ]
  },
  {
   "cell_type": "markdown",
   "id": "1841853c",
   "metadata": {},
   "source": [
    "#  viz "
   ]
  },
  {
   "cell_type": "code",
   "execution_count": 184,
   "id": "990f03f8",
   "metadata": {},
   "outputs": [],
   "source": [
    "d.to_csv('final_data.csv', index=False)"
   ]
  },
  {
   "cell_type": "code",
   "execution_count": 85,
   "id": "42c0ae35",
   "metadata": {},
   "outputs": [],
   "source": [
    "d['review_text2'] = [' '.join(element) for element in d['review_text']]"
   ]
  },
  {
   "cell_type": "code",
   "execution_count": 90,
   "id": "a70d4db5",
   "metadata": {},
   "outputs": [
    {
     "data": {
      "image/png": "[encoded data removed]",
      "text/plain": [
       "<Figure size 1000x500 with 1 Axes>"
      ]
     },
     "metadata": {},
     "output_type": "display_data"
    }
   ],
   "source": [
    "# Concaténer tous les éléments de la colonne en une seule chaîne de texte\n",
    "texte = ' '.join(d['review_text2'])\n",
    "\n",
    "# Mots à exclure du nuage de mots\n",
    "mots_exclus = ['tr', 'plu', 'cest', 'jai', 'tout', 'a']\n",
    "\n",
    "# Supprimer les mots exclus de la liste des mots\n",
    "mots = [mot for mot in texte.split() if mot not in mots_exclus]\n",
    "\n",
    "# Compter la fréquence des mots\n",
    "freq_mots = Counter(mots)\n",
    "\n",
    "# Créer un objet WordCloud avec la taille des mots basée sur leur fréquence\n",
    "wordcloud = WordCloud(width=800, height=400).generate_from_frequencies(freq_mots)\n",
    "\n",
    "# Afficher le nuage de mots\n",
    "plt.figure(figsize=(10, 5))\n",
    "plt.imshow(wordcloud, interpolation='bilinear')\n",
    "plt.axis('off')\n",
    "plt.show()"
   ]
  }
 ],
 "metadata": {
  "kernelspec": {
   "display_name": "Python 3 (ipykernel)",
   "language": "python",
   "name": "python3"
  },
  "language_info": {
   "codemirror_mode": {
    "name": "ipython",
    "version": 3
   },
   "file_extension": ".py",
   "mimetype": "text/x-python",
   "name": "python",
   "nbconvert_exporter": "python",
   "pygments_lexer": "ipython3",
   "version": "3.9.13"
  }
 },
 "nbformat": 4,
 "nbformat_minor": 5
}
