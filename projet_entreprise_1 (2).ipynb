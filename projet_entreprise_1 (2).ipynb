{
  "cells": [
    {
      "cell_type": "code",
      "execution_count": 7,
      "metadata": {
        "id": "s0pzVnoKJKqS",
        "colab": {
          "base_uri": "https://localhost:8080/"
        },
        "outputId": "fd4e8912-7e68-4ef9-bf92-7f62466b151e"
      },
      "outputs": [
        {
          "output_type": "stream",
          "name": "stdout",
          "text": [
            "Looking in indexes: https://pypi.org/simple, https://us-python.pkg.dev/colab-wheels/public/simple/\n",
            "Requirement already satisfied: streamlit in /usr/local/lib/python3.10/dist-packages (1.23.1)\n",
            "Requirement already satisfied: altair<6,>=4.0 in /usr/local/lib/python3.10/dist-packages (from streamlit) (4.2.2)\n",
            "Requirement already satisfied: blinker<2,>=1.0.0 in /usr/local/lib/python3.10/dist-packages (from streamlit) (1.6.2)\n",
            "Requirement already satisfied: cachetools<6,>=4.0 in /usr/local/lib/python3.10/dist-packages (from streamlit) (5.3.0)\n",
            "Requirement already satisfied: click<9,>=7.0 in /usr/local/lib/python3.10/dist-packages (from streamlit) (8.1.3)\n",
            "Requirement already satisfied: importlib-metadata<7,>=1.4 in /usr/local/lib/python3.10/dist-packages (from streamlit) (6.6.0)\n",
            "Requirement already satisfied: numpy<2,>=1 in /usr/local/lib/python3.10/dist-packages (from streamlit) (1.22.4)\n",
            "Requirement already satisfied: packaging<24,>=14.1 in /usr/local/lib/python3.10/dist-packages (from streamlit) (23.1)\n",
            "Requirement already satisfied: pandas<3,>=0.25 in /usr/local/lib/python3.10/dist-packages (from streamlit) (1.5.3)\n",
            "Requirement already satisfied: pillow<10,>=6.2.0 in /usr/local/lib/python3.10/dist-packages (from streamlit) (8.4.0)\n",
            "Requirement already satisfied: protobuf<5,>=3.20 in /usr/local/lib/python3.10/dist-packages (from streamlit) (3.20.3)\n",
            "Requirement already satisfied: pyarrow>=4.0 in /usr/local/lib/python3.10/dist-packages (from streamlit) (9.0.0)\n",
            "Requirement already satisfied: pympler<2,>=0.9 in /usr/local/lib/python3.10/dist-packages (from streamlit) (1.0.1)\n",
            "Requirement already satisfied: python-dateutil<3,>=2 in /usr/local/lib/python3.10/dist-packages (from streamlit) (2.8.2)\n",
            "Requirement already satisfied: requests<3,>=2.4 in /usr/local/lib/python3.10/dist-packages (from streamlit) (2.27.1)\n",
            "Requirement already satisfied: rich<14,>=10.11.0 in /usr/local/lib/python3.10/dist-packages (from streamlit) (13.3.4)\n",
            "Requirement already satisfied: tenacity<9,>=8.0.0 in /usr/local/lib/python3.10/dist-packages (from streamlit) (8.2.2)\n",
            "Requirement already satisfied: toml<2 in /usr/local/lib/python3.10/dist-packages (from streamlit) (0.10.2)\n",
            "Requirement already satisfied: typing-extensions<5,>=4.0.1 in /usr/local/lib/python3.10/dist-packages (from streamlit) (4.5.0)\n",
            "Requirement already satisfied: tzlocal<5,>=1.1 in /usr/local/lib/python3.10/dist-packages (from streamlit) (4.3)\n",
            "Requirement already satisfied: validators<1,>=0.2 in /usr/local/lib/python3.10/dist-packages (from streamlit) (0.20.0)\n",
            "Requirement already satisfied: gitpython!=3.1.19,<4,>=3 in /usr/local/lib/python3.10/dist-packages (from streamlit) (3.1.31)\n",
            "Requirement already satisfied: pydeck<1,>=0.1.dev5 in /usr/local/lib/python3.10/dist-packages (from streamlit) (0.8.1b0)\n",
            "Requirement already satisfied: tornado<7,>=6.0.3 in /usr/local/lib/python3.10/dist-packages (from streamlit) (6.3.1)\n",
            "Requirement already satisfied: watchdog in /usr/local/lib/python3.10/dist-packages (from streamlit) (3.0.0)\n",
            "Requirement already satisfied: entrypoints in /usr/local/lib/python3.10/dist-packages (from altair<6,>=4.0->streamlit) (0.4)\n",
            "Requirement already satisfied: jinja2 in /usr/local/lib/python3.10/dist-packages (from altair<6,>=4.0->streamlit) (3.1.2)\n",
            "Requirement already satisfied: jsonschema>=3.0 in /usr/local/lib/python3.10/dist-packages (from altair<6,>=4.0->streamlit) (4.3.3)\n",
            "Requirement already satisfied: toolz in /usr/local/lib/python3.10/dist-packages (from altair<6,>=4.0->streamlit) (0.12.0)\n",
            "Requirement already satisfied: gitdb<5,>=4.0.1 in /usr/local/lib/python3.10/dist-packages (from gitpython!=3.1.19,<4,>=3->streamlit) (4.0.10)\n",
            "Requirement already satisfied: zipp>=0.5 in /usr/local/lib/python3.10/dist-packages (from importlib-metadata<7,>=1.4->streamlit) (3.15.0)\n",
            "Requirement already satisfied: pytz>=2020.1 in /usr/local/lib/python3.10/dist-packages (from pandas<3,>=0.25->streamlit) (2022.7.1)\n",
            "Requirement already satisfied: six>=1.5 in /usr/local/lib/python3.10/dist-packages (from python-dateutil<3,>=2->streamlit) (1.16.0)\n",
            "Requirement already satisfied: urllib3<1.27,>=1.21.1 in /usr/local/lib/python3.10/dist-packages (from requests<3,>=2.4->streamlit) (1.26.15)\n",
            "Requirement already satisfied: certifi>=2017.4.17 in /usr/local/lib/python3.10/dist-packages (from requests<3,>=2.4->streamlit) (2022.12.7)\n",
            "Requirement already satisfied: charset-normalizer~=2.0.0 in /usr/local/lib/python3.10/dist-packages (from requests<3,>=2.4->streamlit) (2.0.12)\n",
            "Requirement already satisfied: idna<4,>=2.5 in /usr/local/lib/python3.10/dist-packages (from requests<3,>=2.4->streamlit) (3.4)\n",
            "Requirement already satisfied: markdown-it-py<3.0.0,>=2.2.0 in /usr/local/lib/python3.10/dist-packages (from rich<14,>=10.11.0->streamlit) (2.2.0)\n",
            "Requirement already satisfied: pygments<3.0.0,>=2.13.0 in /usr/local/lib/python3.10/dist-packages (from rich<14,>=10.11.0->streamlit) (2.14.0)\n",
            "Requirement already satisfied: pytz-deprecation-shim in /usr/local/lib/python3.10/dist-packages (from tzlocal<5,>=1.1->streamlit) (0.1.0.post0)\n",
            "Requirement already satisfied: decorator>=3.4.0 in /usr/local/lib/python3.10/dist-packages (from validators<1,>=0.2->streamlit) (4.4.2)\n",
            "Requirement already satisfied: smmap<6,>=3.0.1 in /usr/local/lib/python3.10/dist-packages (from gitdb<5,>=4.0.1->gitpython!=3.1.19,<4,>=3->streamlit) (5.0.0)\n",
            "Requirement already satisfied: MarkupSafe>=2.0 in /usr/local/lib/python3.10/dist-packages (from jinja2->altair<6,>=4.0->streamlit) (2.1.2)\n",
            "Requirement already satisfied: attrs>=17.4.0 in /usr/local/lib/python3.10/dist-packages (from jsonschema>=3.0->altair<6,>=4.0->streamlit) (23.1.0)\n",
            "Requirement already satisfied: pyrsistent!=0.17.0,!=0.17.1,!=0.17.2,>=0.14.0 in /usr/local/lib/python3.10/dist-packages (from jsonschema>=3.0->altair<6,>=4.0->streamlit) (0.19.3)\n",
            "Requirement already satisfied: mdurl~=0.1 in /usr/local/lib/python3.10/dist-packages (from markdown-it-py<3.0.0,>=2.2.0->rich<14,>=10.11.0->streamlit) (0.1.2)\n",
            "Requirement already satisfied: tzdata in /usr/local/lib/python3.10/dist-packages (from pytz-deprecation-shim->tzlocal<5,>=1.1->streamlit) (2023.3)\n"
          ]
        }
      ],
      "source": [
        "#!pip install streamlit"
      ]
    },
    {
      "cell_type": "code",
      "execution_count": null,
      "metadata": {
        "id": "3xkQXopnh3Zi"
      },
      "outputs": [],
      "source": []
    },
    {
      "cell_type": "code",
      "execution_count": 8,
      "metadata": {
        "id": "m-h1UCuUcmwQ"
      },
      "outputs": [],
      "source": [
        "#!pip install pyngrok\n"
      ]
    },
    {
      "cell_type": "code",
      "execution_count": null,
      "metadata": {
        "id": "dYgf6QY_Mq4t"
      },
      "outputs": [],
      "source": []
    },
    {
      "cell_type": "code",
      "execution_count": 10,
      "metadata": {
        "id": "IybF-TFB5ZvL"
      },
      "outputs": [],
      "source": [
        "#!pip install folium"
      ]
    },
    {
      "cell_type": "code",
      "execution_count": 11,
      "metadata": {
        "colab": {
          "base_uri": "https://localhost:8080/"
        },
        "id": "PPHvZ2kN63wy",
        "outputId": "d51dbe57-2622-41ca-f848-94bb03bdf7f6"
      },
      "outputs": [
        {
          "output_type": "stream",
          "name": "stdout",
          "text": [
            "Mounted at /content/drive\n"
          ]
        }
      ],
      "source": [
        "from google.colab import drive\n",
        "drive.mount('/content/drive')"
      ]
    },
    {
      "cell_type": "code",
      "execution_count": 12,
      "metadata": {
        "id": "MlWewVqP5EjE"
      },
      "outputs": [],
      "source": [
        "import pandas as pd\n",
        "data = pd.read_csv(r\"/content/drive/MyDrive/final_data.csv\")"
      ]
    },
    {
      "cell_type": "code",
      "execution_count": 10,
      "metadata": {
        "id": "31pt3QP5T_FU"
      },
      "outputs": [],
      "source": []
    },
    {
      "cell_type": "code",
      "execution_count": null,
      "metadata": {
        "id": "Lzh-xJ1TJXP5"
      },
      "outputs": [],
      "source": []
    },
    {
      "cell_type": "code",
      "execution_count": null,
      "metadata": {
        "colab": {
          "base_uri": "https://localhost:8080/",
          "height": 496
        },
        "id": "TbAVNlSzAC2h",
        "outputId": "cd266fa2-1728-47f8-996c-028d9ede9cc2"
      },
      "outputs": [
        {
          "data": {
            "text/html": [
              "\n",
              "  <div id=\"df-f00f10a0-079d-4997-a505-f73138a123be\">\n",
              "    <div class=\"colab-df-container\">\n",
              "      <div>\n",
              "<style scoped>\n",
              "    .dataframe tbody tr th:only-of-type {\n",
              "        vertical-align: middle;\n",
              "    }\n",
              "\n",
              "    .dataframe tbody tr th {\n",
              "        vertical-align: top;\n",
              "    }\n",
              "\n",
              "    .dataframe thead th {\n",
              "        text-align: right;\n",
              "    }\n",
              "</style>\n",
              "<table border=\"1\" class=\"dataframe\">\n",
              "  <thead>\n",
              "    <tr style=\"text-align: right;\">\n",
              "      <th></th>\n",
              "      <th>review_rate</th>\n",
              "      <th>review_text</th>\n",
              "      <th>object_address</th>\n",
              "      <th>overall_rating</th>\n",
              "      <th>review_num</th>\n",
              "      <th>object_url</th>\n",
              "      <th>date_complete</th>\n",
              "      <th>postal_code</th>\n",
              "      <th>year</th>\n",
              "      <th>latitude_longitude</th>\n",
              "      <th>latitude</th>\n",
              "      <th>longitude</th>\n",
              "      <th>sentiment</th>\n",
              "    </tr>\n",
              "  </thead>\n",
              "  <tbody>\n",
              "    <tr>\n",
              "      <th>0</th>\n",
              "      <td>1</td>\n",
              "      <td>agent daccueil lentr tr bien personn derrir bu...</td>\n",
              "      <td>5 Rue de la Durance, 75012 Paris, France</td>\n",
              "      <td>3.7</td>\n",
              "      <td>50</td>\n",
              "      <td>https://www.google.fr/maps/place/CPAM+Paris+12...</td>\n",
              "      <td>janvier 2023</td>\n",
              "      <td>75012</td>\n",
              "      <td>2023.0</td>\n",
              "      <td>(48.8381167, 2.3938557)</td>\n",
              "      <td>48.838117</td>\n",
              "      <td>2.393856</td>\n",
              "      <td>Negative</td>\n",
              "    </tr>\n",
              "    <tr>\n",
              "      <th>1</th>\n",
              "      <td>5</td>\n",
              "      <td>aujourdhui vendredi coup h venu cpam dame brun...</td>\n",
              "      <td>5 Rue de la Durance, 75012 Paris, France</td>\n",
              "      <td>3.7</td>\n",
              "      <td>50</td>\n",
              "      <td>https://www.google.fr/maps/place/CPAM+Paris+12...</td>\n",
              "      <td>février 2022</td>\n",
              "      <td>75012</td>\n",
              "      <td>2022.0</td>\n",
              "      <td>(48.8381167, 2.3938557)</td>\n",
              "      <td>48.838117</td>\n",
              "      <td>2.393856</td>\n",
              "      <td>Negative</td>\n",
              "    </tr>\n",
              "    <tr>\n",
              "      <th>2</th>\n",
              "      <td>1</td>\n",
              "      <td>dj horair born pann</td>\n",
              "      <td>5 Rue de la Durance, 75012 Paris, France</td>\n",
              "      <td>3.7</td>\n",
              "      <td>50</td>\n",
              "      <td>https://www.google.fr/maps/place/CPAM+Paris+12...</td>\n",
              "      <td>février 2023</td>\n",
              "      <td>75012</td>\n",
              "      <td>2023.0</td>\n",
              "      <td>(48.8381167, 2.3938557)</td>\n",
              "      <td>48.838117</td>\n",
              "      <td>2.393856</td>\n",
              "      <td>Negative</td>\n",
              "    </tr>\n",
              "    <tr>\n",
              "      <th>3</th>\n",
              "      <td>1</td>\n",
              "      <td>agent san professionnalism interromp parol man...</td>\n",
              "      <td>5 Rue de la Durance, 75012 Paris, France</td>\n",
              "      <td>3.7</td>\n",
              "      <td>50</td>\n",
              "      <td>https://www.google.fr/maps/place/CPAM+Paris+12...</td>\n",
              "      <td>mars 2021</td>\n",
              "      <td>75012</td>\n",
              "      <td>2021.0</td>\n",
              "      <td>(48.8381167, 2.3938557)</td>\n",
              "      <td>48.838117</td>\n",
              "      <td>2.393856</td>\n",
              "      <td>Negative</td>\n",
              "    </tr>\n",
              "    <tr>\n",
              "      <th>4</th>\n",
              "      <td>5</td>\n",
              "      <td>merci personnel accueil chaleureux</td>\n",
              "      <td>5 Rue de la Durance, 75012 Paris, France</td>\n",
              "      <td>3.7</td>\n",
              "      <td>50</td>\n",
              "      <td>https://www.google.fr/maps/place/CPAM+Paris+12...</td>\n",
              "      <td>décembre 2022</td>\n",
              "      <td>75012</td>\n",
              "      <td>2022.0</td>\n",
              "      <td>(48.8381167, 2.3938557)</td>\n",
              "      <td>48.838117</td>\n",
              "      <td>2.393856</td>\n",
              "      <td>Negative</td>\n",
              "    </tr>\n",
              "  </tbody>\n",
              "</table>\n",
              "</div>\n",
              "      <button class=\"colab-df-convert\" onclick=\"convertToInteractive('df-f00f10a0-079d-4997-a505-f73138a123be')\"\n",
              "              title=\"Convert this dataframe to an interactive table.\"\n",
              "              style=\"display:none;\">\n",
              "        \n",
              "  <svg xmlns=\"http://www.w3.org/2000/svg\" height=\"24px\"viewBox=\"0 0 24 24\"\n",
              "       width=\"24px\">\n",
              "    <path d=\"M0 0h24v24H0V0z\" fill=\"none\"/>\n",
              "    <path d=\"M18.56 5.44l.94 2.06.94-2.06 2.06-.94-2.06-.94-.94-2.06-.94 2.06-2.06.94zm-11 1L8.5 8.5l.94-2.06 2.06-.94-2.06-.94L8.5 2.5l-.94 2.06-2.06.94zm10 10l.94 2.06.94-2.06 2.06-.94-2.06-.94-.94-2.06-.94 2.06-2.06.94z\"/><path d=\"M17.41 7.96l-1.37-1.37c-.4-.4-.92-.59-1.43-.59-.52 0-1.04.2-1.43.59L10.3 9.45l-7.72 7.72c-.78.78-.78 2.05 0 2.83L4 21.41c.39.39.9.59 1.41.59.51 0 1.02-.2 1.41-.59l7.78-7.78 2.81-2.81c.8-.78.8-2.07 0-2.86zM5.41 20L4 18.59l7.72-7.72 1.47 1.35L5.41 20z\"/>\n",
              "  </svg>\n",
              "      </button>\n",
              "      \n",
              "  <style>\n",
              "    .colab-df-container {\n",
              "      display:flex;\n",
              "      flex-wrap:wrap;\n",
              "      gap: 12px;\n",
              "    }\n",
              "\n",
              "    .colab-df-convert {\n",
              "      background-color: #E8F0FE;\n",
              "      border: none;\n",
              "      border-radius: 50%;\n",
              "      cursor: pointer;\n",
              "      display: none;\n",
              "      fill: #1967D2;\n",
              "      height: 32px;\n",
              "      padding: 0 0 0 0;\n",
              "      width: 32px;\n",
              "    }\n",
              "\n",
              "    .colab-df-convert:hover {\n",
              "      background-color: #E2EBFA;\n",
              "      box-shadow: 0px 1px 2px rgba(60, 64, 67, 0.3), 0px 1px 3px 1px rgba(60, 64, 67, 0.15);\n",
              "      fill: #174EA6;\n",
              "    }\n",
              "\n",
              "    [theme=dark] .colab-df-convert {\n",
              "      background-color: #3B4455;\n",
              "      fill: #D2E3FC;\n",
              "    }\n",
              "\n",
              "    [theme=dark] .colab-df-convert:hover {\n",
              "      background-color: #434B5C;\n",
              "      box-shadow: 0px 1px 3px 1px rgba(0, 0, 0, 0.15);\n",
              "      filter: drop-shadow(0px 1px 2px rgba(0, 0, 0, 0.3));\n",
              "      fill: #FFFFFF;\n",
              "    }\n",
              "  </style>\n",
              "\n",
              "      <script>\n",
              "        const buttonEl =\n",
              "          document.querySelector('#df-f00f10a0-079d-4997-a505-f73138a123be button.colab-df-convert');\n",
              "        buttonEl.style.display =\n",
              "          google.colab.kernel.accessAllowed ? 'block' : 'none';\n",
              "\n",
              "        async function convertToInteractive(key) {\n",
              "          const element = document.querySelector('#df-f00f10a0-079d-4997-a505-f73138a123be');\n",
              "          const dataTable =\n",
              "            await google.colab.kernel.invokeFunction('convertToInteractive',\n",
              "                                                     [key], {});\n",
              "          if (!dataTable) return;\n",
              "\n",
              "          const docLinkHtml = 'Like what you see? Visit the ' +\n",
              "            '<a target=\"_blank\" href=https://colab.research.google.com/notebooks/data_table.ipynb>data table notebook</a>'\n",
              "            + ' to learn more about interactive tables.';\n",
              "          element.innerHTML = '';\n",
              "          dataTable['output_type'] = 'display_data';\n",
              "          await google.colab.output.renderOutput(dataTable, element);\n",
              "          const docLink = document.createElement('div');\n",
              "          docLink.innerHTML = docLinkHtml;\n",
              "          element.appendChild(docLink);\n",
              "        }\n",
              "      </script>\n",
              "    </div>\n",
              "  </div>\n",
              "  "
            ],
            "text/plain": [
              "   review_rate                                        review_text  \\\n",
              "0            1  agent daccueil lentr tr bien personn derrir bu...   \n",
              "1            5  aujourdhui vendredi coup h venu cpam dame brun...   \n",
              "2            1                                dj horair born pann   \n",
              "3            1  agent san professionnalism interromp parol man...   \n",
              "4            5                 merci personnel accueil chaleureux   \n",
              "\n",
              "                             object_address  overall_rating  review_num  \\\n",
              "0  5 Rue de la Durance, 75012 Paris, France             3.7          50   \n",
              "1  5 Rue de la Durance, 75012 Paris, France             3.7          50   \n",
              "2  5 Rue de la Durance, 75012 Paris, France             3.7          50   \n",
              "3  5 Rue de la Durance, 75012 Paris, France             3.7          50   \n",
              "4  5 Rue de la Durance, 75012 Paris, France             3.7          50   \n",
              "\n",
              "                                          object_url  date_complete  \\\n",
              "0  https://www.google.fr/maps/place/CPAM+Paris+12...   janvier 2023   \n",
              "1  https://www.google.fr/maps/place/CPAM+Paris+12...   février 2022   \n",
              "2  https://www.google.fr/maps/place/CPAM+Paris+12...   février 2023   \n",
              "3  https://www.google.fr/maps/place/CPAM+Paris+12...      mars 2021   \n",
              "4  https://www.google.fr/maps/place/CPAM+Paris+12...  décembre 2022   \n",
              "\n",
              "   postal_code    year       latitude_longitude   latitude  longitude  \\\n",
              "0        75012  2023.0  (48.8381167, 2.3938557)  48.838117   2.393856   \n",
              "1        75012  2022.0  (48.8381167, 2.3938557)  48.838117   2.393856   \n",
              "2        75012  2023.0  (48.8381167, 2.3938557)  48.838117   2.393856   \n",
              "3        75012  2021.0  (48.8381167, 2.3938557)  48.838117   2.393856   \n",
              "4        75012  2022.0  (48.8381167, 2.3938557)  48.838117   2.393856   \n",
              "\n",
              "  sentiment  \n",
              "0  Negative  \n",
              "1  Negative  \n",
              "2  Negative  \n",
              "3  Negative  \n",
              "4  Negative  "
            ]
          },
          "execution_count": 11,
          "metadata": {},
          "output_type": "execute_result"
        }
      ],
      "source": [
        "data.head()"
      ]
    },
    {
      "cell_type": "code",
      "execution_count": null,
      "metadata": {
        "colab": {
          "base_uri": "https://localhost:8080/"
        },
        "id": "SnHXKAfjAG9j",
        "outputId": "a4840e07-a84d-41a6-84e9-18c718d71659"
      },
      "outputs": [
        {
          "name": "stdout",
          "output_type": "stream",
          "text": [
            "[75010, 75011, 75012, 75013, 75014, 75015, 75017, 75018, 75019, 75020] [2017.0, 2018.0, 2019.0, 2020.0, 2021.0, 2022.0, 2023.0, nan]\n"
          ]
        }
      ],
      "source": [
        "arrondissements = sorted(data[\"postal_code\"].unique())\n",
        "annees = sorted(data[\"year\"].unique())\n",
        "print(arrondissements,annees)"
      ]
    },
    {
      "cell_type": "code",
      "execution_count": 22,
      "metadata": {
        "colab": {
          "base_uri": "https://localhost:8080/"
        },
        "id": "IcADZoRpcLU_",
        "outputId": "9ebaff32-1c10-4f20-bc7a-452a39761d74"
      },
      "outputs": [
        {
          "output_type": "stream",
          "name": "stdout",
          "text": [
            "Looking in indexes: https://pypi.org/simple, https://us-python.pkg.dev/colab-wheels/public/simple/\n",
            "Requirement already satisfied: streamlit in /usr/local/lib/python3.10/dist-packages (1.23.1)\n",
            "Requirement already satisfied: folium in /usr/local/lib/python3.10/dist-packages (0.14.0)\n",
            "Collecting streamlit-folium\n",
            "  Downloading streamlit_folium-0.11.1-py3-none-any.whl (423 kB)\n",
            "\u001b[2K     \u001b[90m━━━━━━━━━━━━━━━━━━━━━━━━━━━━━━━━━━━━━━\u001b[0m \u001b[32m423.4/423.4 kB\u001b[0m \u001b[31m11.5 MB/s\u001b[0m eta \u001b[36m0:00:00\u001b[0m\n",
            "\u001b[?25hRequirement already satisfied: altair<6,>=4.0 in /usr/local/lib/python3.10/dist-packages (from streamlit) (4.2.2)\n",
            "Requirement already satisfied: blinker<2,>=1.0.0 in /usr/local/lib/python3.10/dist-packages (from streamlit) (1.6.2)\n",
            "Requirement already satisfied: cachetools<6,>=4.0 in /usr/local/lib/python3.10/dist-packages (from streamlit) (5.3.0)\n",
            "Requirement already satisfied: click<9,>=7.0 in /usr/local/lib/python3.10/dist-packages (from streamlit) (8.1.3)\n",
            "Requirement already satisfied: importlib-metadata<7,>=1.4 in /usr/local/lib/python3.10/dist-packages (from streamlit) (6.6.0)\n",
            "Requirement already satisfied: numpy<2,>=1 in /usr/local/lib/python3.10/dist-packages (from streamlit) (1.22.4)\n",
            "Requirement already satisfied: packaging<24,>=14.1 in /usr/local/lib/python3.10/dist-packages (from streamlit) (23.1)\n",
            "Requirement already satisfied: pandas<3,>=0.25 in /usr/local/lib/python3.10/dist-packages (from streamlit) (1.5.3)\n",
            "Requirement already satisfied: pillow<10,>=6.2.0 in /usr/local/lib/python3.10/dist-packages (from streamlit) (8.4.0)\n",
            "Requirement already satisfied: protobuf<5,>=3.20 in /usr/local/lib/python3.10/dist-packages (from streamlit) (3.20.3)\n",
            "Requirement already satisfied: pyarrow>=4.0 in /usr/local/lib/python3.10/dist-packages (from streamlit) (9.0.0)\n",
            "Requirement already satisfied: pympler<2,>=0.9 in /usr/local/lib/python3.10/dist-packages (from streamlit) (1.0.1)\n",
            "Requirement already satisfied: python-dateutil<3,>=2 in /usr/local/lib/python3.10/dist-packages (from streamlit) (2.8.2)\n",
            "Requirement already satisfied: requests<3,>=2.4 in /usr/local/lib/python3.10/dist-packages (from streamlit) (2.27.1)\n",
            "Requirement already satisfied: rich<14,>=10.11.0 in /usr/local/lib/python3.10/dist-packages (from streamlit) (13.3.4)\n",
            "Requirement already satisfied: tenacity<9,>=8.0.0 in /usr/local/lib/python3.10/dist-packages (from streamlit) (8.2.2)\n",
            "Requirement already satisfied: toml<2 in /usr/local/lib/python3.10/dist-packages (from streamlit) (0.10.2)\n",
            "Requirement already satisfied: typing-extensions<5,>=4.0.1 in /usr/local/lib/python3.10/dist-packages (from streamlit) (4.5.0)\n",
            "Requirement already satisfied: tzlocal<5,>=1.1 in /usr/local/lib/python3.10/dist-packages (from streamlit) (4.3)\n",
            "Requirement already satisfied: validators<1,>=0.2 in /usr/local/lib/python3.10/dist-packages (from streamlit) (0.20.0)\n",
            "Requirement already satisfied: gitpython!=3.1.19,<4,>=3 in /usr/local/lib/python3.10/dist-packages (from streamlit) (3.1.31)\n",
            "Requirement already satisfied: pydeck<1,>=0.1.dev5 in /usr/local/lib/python3.10/dist-packages (from streamlit) (0.8.1b0)\n",
            "Requirement already satisfied: tornado<7,>=6.0.3 in /usr/local/lib/python3.10/dist-packages (from streamlit) (6.3.1)\n",
            "Requirement already satisfied: watchdog in /usr/local/lib/python3.10/dist-packages (from streamlit) (3.0.0)\n",
            "Requirement already satisfied: branca>=0.6.0 in /usr/local/lib/python3.10/dist-packages (from folium) (0.6.0)\n",
            "Requirement already satisfied: jinja2>=2.9 in /usr/local/lib/python3.10/dist-packages (from folium) (3.1.2)\n",
            "Requirement already satisfied: entrypoints in /usr/local/lib/python3.10/dist-packages (from altair<6,>=4.0->streamlit) (0.4)\n",
            "Requirement already satisfied: jsonschema>=3.0 in /usr/local/lib/python3.10/dist-packages (from altair<6,>=4.0->streamlit) (4.3.3)\n",
            "Requirement already satisfied: toolz in /usr/local/lib/python3.10/dist-packages (from altair<6,>=4.0->streamlit) (0.12.0)\n",
            "Requirement already satisfied: gitdb<5,>=4.0.1 in /usr/local/lib/python3.10/dist-packages (from gitpython!=3.1.19,<4,>=3->streamlit) (4.0.10)\n",
            "Requirement already satisfied: zipp>=0.5 in /usr/local/lib/python3.10/dist-packages (from importlib-metadata<7,>=1.4->streamlit) (3.15.0)\n",
            "Requirement already satisfied: MarkupSafe>=2.0 in /usr/local/lib/python3.10/dist-packages (from jinja2>=2.9->folium) (2.1.2)\n",
            "Requirement already satisfied: pytz>=2020.1 in /usr/local/lib/python3.10/dist-packages (from pandas<3,>=0.25->streamlit) (2022.7.1)\n",
            "Requirement already satisfied: six>=1.5 in /usr/local/lib/python3.10/dist-packages (from python-dateutil<3,>=2->streamlit) (1.16.0)\n",
            "Requirement already satisfied: urllib3<1.27,>=1.21.1 in /usr/local/lib/python3.10/dist-packages (from requests<3,>=2.4->streamlit) (1.26.15)\n",
            "Requirement already satisfied: certifi>=2017.4.17 in /usr/local/lib/python3.10/dist-packages (from requests<3,>=2.4->streamlit) (2022.12.7)\n",
            "Requirement already satisfied: charset-normalizer~=2.0.0 in /usr/local/lib/python3.10/dist-packages (from requests<3,>=2.4->streamlit) (2.0.12)\n",
            "Requirement already satisfied: idna<4,>=2.5 in /usr/local/lib/python3.10/dist-packages (from requests<3,>=2.4->streamlit) (3.4)\n",
            "Requirement already satisfied: markdown-it-py<3.0.0,>=2.2.0 in /usr/local/lib/python3.10/dist-packages (from rich<14,>=10.11.0->streamlit) (2.2.0)\n",
            "Requirement already satisfied: pygments<3.0.0,>=2.13.0 in /usr/local/lib/python3.10/dist-packages (from rich<14,>=10.11.0->streamlit) (2.14.0)\n",
            "Requirement already satisfied: pytz-deprecation-shim in /usr/local/lib/python3.10/dist-packages (from tzlocal<5,>=1.1->streamlit) (0.1.0.post0)\n",
            "Requirement already satisfied: decorator>=3.4.0 in /usr/local/lib/python3.10/dist-packages (from validators<1,>=0.2->streamlit) (4.4.2)\n",
            "Requirement already satisfied: smmap<6,>=3.0.1 in /usr/local/lib/python3.10/dist-packages (from gitdb<5,>=4.0.1->gitpython!=3.1.19,<4,>=3->streamlit) (5.0.0)\n",
            "Requirement already satisfied: attrs>=17.4.0 in /usr/local/lib/python3.10/dist-packages (from jsonschema>=3.0->altair<6,>=4.0->streamlit) (23.1.0)\n",
            "Requirement already satisfied: pyrsistent!=0.17.0,!=0.17.1,!=0.17.2,>=0.14.0 in /usr/local/lib/python3.10/dist-packages (from jsonschema>=3.0->altair<6,>=4.0->streamlit) (0.19.3)\n",
            "Requirement already satisfied: mdurl~=0.1 in /usr/local/lib/python3.10/dist-packages (from markdown-it-py<3.0.0,>=2.2.0->rich<14,>=10.11.0->streamlit) (0.1.2)\n",
            "Requirement already satisfied: tzdata in /usr/local/lib/python3.10/dist-packages (from pytz-deprecation-shim->tzlocal<5,>=1.1->streamlit) (2023.3)\n",
            "Installing collected packages: streamlit-folium\n",
            "Successfully installed streamlit-folium-0.11.1\n"
          ]
        }
      ],
      "source": [
        "\n"
      ]
    },
    {
      "cell_type": "code",
      "execution_count": 80,
      "metadata": {
        "colab": {
          "base_uri": "https://localhost:8080/"
        },
        "id": "-aP2ANK6M8Lq",
        "outputId": "9908ee1c-540d-4d85-8722-7eafa6f12466"
      },
      "outputs": [
        {
          "output_type": "stream",
          "name": "stdout",
          "text": [
            "Overwriting projet_entreprise.py\n"
          ]
        }
      ],
      "source": [
        "%%writefile projet_entreprise.py\n",
        "\n",
        "import pandas as pd\n",
        "import streamlit as st\n",
        "import matplotlib.pyplot as plt\n",
        "import folium\n",
        "from streamlit_folium import folium_static\n",
        "\n",
        "data = pd.read_csv(\"/content/drive/MyDrive/final_data.csv\")\n",
        "\n",
        "import streamlit as st\n",
        "import folium\n",
        "from streamlit_folium import folium_static\n",
        "import pandas as pd\n",
        "import matplotlib.pyplot as plt\n",
        "\n",
        "# Calcul des statistiques pour chaque arrondissement\n",
        "stats = data.groupby('postal_code').agg({\n",
        "    'sentiment': lambda x: (x == 'Positive').mean() * 100,  # Pourcentage des avis positifs\n",
        "    'review_rate': 'mean',  # Moyenne des avis\n",
        "    'overall_rating': 'mean'  # Moyenne des overall ratings\n",
        "}).reset_index()\n",
        "\n",
        "# Créer une carte Folium centrée sur Paris\n",
        "paris_coordinates = [48.8566, 2.3522]  # Coordonnées de Paris\n",
        "m = folium.Map(location=paris_coordinates, zoom_start=12)\n",
        "\n",
        "# Ajouter des marqueurs pour chaque arrondissement avec les statistiques dans la fenêtre contextuelle\n",
        "for index, row in stats.iterrows():\n",
        "    arrondissement = row['postal_code']\n",
        "    latitude = data.loc[data['postal_code'] == arrondissement, 'latitude'].iloc[0]\n",
        "    longitude = data.loc[data['postal_code'] == arrondissement, 'longitude'].iloc[0]\n",
        "    popup_text = f\"Arrondissement {arrondissement}<br>\"\n",
        "    sentiment_percentage = row['sentiment']\n",
        "    overall_rating_mean = row['overall_rating']\n",
        "    popup_text += f\"Pourcentage d'avis positifs: {sentiment_percentage:.2f}%<br>\"\n",
        "    popup_text += f\"Pourcentage d'avis négatifs: {100 - sentiment_percentage:.2f}%<br>\"\n",
        "    popup_text += f\"Moyenne des overall ratings: {overall_rating_mean:.2f}\"\n",
        "    folium.Marker(\n",
        "        location=[latitude, longitude],\n",
        "        popup=popup_text,\n",
        "        tooltip=arrondissement\n",
        "    ).add_to(m)\n",
        "\n",
        "# Fonction pour afficher la page principale (carte + moyennes par arrondissement)\n",
        "def show_main_page():\n",
        "    st.markdown('<h1 align=\"center\">Carte des Arrondissements de Paris</h1>', unsafe_allow_html=True)\n",
        "    folium_static(m)\n",
        "\n",
        "    st.markdown('<h2 align=\"center\">Moyenne des Notes par Arrondissement</h2>', unsafe_allow_html=True)\n",
        "    st.dataframe(stats)\n",
        "\n",
        "# Fonction pour afficher le diagramme en camembert du pourcentage des avis positifs et négatifs\n",
        "def show_pie_chart():\n",
        "    selected_year = st.selectbox(\"Sélectionnez une année\", data['year'].unique())\n",
        "    selected_arrondissement = st.selectbox(\"Sélectionnez un arrondissement\", data['postal_code'].unique())\n",
        "\n",
        "    filtered_data = data[(data['year'] == selected_year) & (data['postal_code'] == selected_arrondissement)]\n",
        "    positive_reviews = filtered_data[filtered_data['sentiment'] == 'Positive'].shape[0]\n",
        "    negative_reviews = filtered_data[filtered_data['sentiment'] == 'Negative'].shape[0]\n",
        "\n",
        "    fig, ax = plt.subplots()\n",
        "    ax.pie([positive_reviews, negative_reviews], labels=['Positive', 'Negative'], autopct='%1.1f%%')\n",
        "    ax.set_title('Pourcentage des Avis Positifs et Négatifs')\n",
        "    st.pyplot(fig)\n",
        "\n",
        "# Fonction pour afficher la distribution des review rates par année et par arrondissement\n",
        "def show_review_rate_distribution():\n",
        "    selected_year = st.selectbox(\"Sélectionnez une année\", data['year'].unique())\n",
        "    selected_arrondissement = st.selectbox(\"Sélectionnez un arrondissement\", data['postal_code'].unique())\n",
        "\n",
        "    filtered_data = data[(data['year'] == selected_year) & (data['postal_code'] == selected_arrondissement)]\n",
        "    \n",
        "    if len(filtered_data) > 0:\n",
        "        st.markdown(f\"**Distribution des Review Rates pour l'année {selected_year} et l'arrondissement {selected_arrondissement}**\")\n",
        "        fig, ax = plt.subplots()\n",
        "        ax.hist(filtered_data['review_rate'], bins='auto')\n",
        "        ax.set_xlabel('Review Rate')\n",
        "        ax.set_ylabel('Count')\n",
        "        ax.set_title('Distribution des Review Rates')\n",
        "        st.pyplot(fig)\n",
        "    else:\n",
        "        st.markdown(\"Aucune donnée disponible pour l'année et l'arrondissement sélectionnés.\")\n",
        "\n",
        "\n",
        "\n",
        "# Fonction pour afficher le line plot de la moyenne des overall ratings et review rate pour chaque année pour un arrondissement donné\n",
        "def show_overall_rating_line_plot():\n",
        "    selected_arrondissement = st.selectbox(\"Sélectionnez un arrondissement\", data['postal_code'].unique())\n",
        "\n",
        "    filtered_data = data[data['postal_code'] == selected_arrondissement]\n",
        "    filtered_data = filtered_data.dropna(subset=['year'])\n",
        "\n",
        "    st.markdown(f\"**Moyenne des Overall Ratings et Review Rate pour l'arrondissement {selected_arrondissement}**\")\n",
        "\n",
        "    # Convertir les années en chaînes de caractères\n",
        "    filtered_data.loc[:, 'year'] = filtered_data['year'].astype(str)\n",
        "\n",
        "    # Calcul de la moyenne des review rate par année\n",
        "    review_rate_mean = filtered_data.groupby('year')['review_rate'].mean()\n",
        "    overall_rating_mean = filtered_data.groupby('year')['overall_rating'].mean()\n",
        "\n",
        "    # Création du line plot\n",
        "    fig, ax = plt.subplots()\n",
        "    ax.plot(review_rate_mean.index, review_rate_mean.values, label='Moyenne des Review Rates')\n",
        "    ax.plot(overall_rating_mean.index, overall_rating_mean.values, label='Moyenne des Overall Ratings')\n",
        "    ax.set_xlabel('Année')\n",
        "    ax.set_ylabel('Moyenne')\n",
        "    ax.set_title('Moyenne des Overall Ratings et Review Rates par Année')\n",
        "    ax.legend()\n",
        "    st.pyplot(fig)\n",
        "\n",
        "# Liste des pages disponibles\n",
        "pages = {\n",
        "    \"Page Principale\": show_main_page,\n",
        "    \"Diagramme en Camembert - Avis Positifs/Négatifs\": show_pie_chart,\n",
        "    \"Distribution des Review Rates\": show_review_rate_distribution,\n",
        "    \"Line Plot - Moyenne des Overall Ratings\": show_overall_rating_line_plot\n",
        "}\n",
        "\n",
        "# Affichage de la page sélectionnée\n",
        "selected_page = st.sidebar.button(\"Page Principale\")\n",
        "if selected_page:\n",
        "    show_main_page()\n",
        "\n",
        "selected_page = st.sidebar.button(\"Diagramme en Camembert - Avis Positifs/Négatifs\")\n",
        "if selected_page:\n",
        "    show_pie_chart()\n",
        "\n",
        "selected_page = st.sidebar.button(\"Distribution des Review Rates\")\n",
        "if selected_page:\n",
        "    show_review_rate_distribution()\n",
        "\n",
        "selected_page = st.sidebar.button(\"Line Plot - Moyenne des Overall Ratings\")\n",
        "if selected_page:\n",
        "    show_overall_rating_line_plot()\n",
        "\n"
      ]
    },
    {
      "cell_type": "code",
      "execution_count": null,
      "metadata": {
        "colab": {
          "base_uri": "https://localhost:8080/"
        },
        "id": "8YFmBV_ddV6b",
        "outputId": "c4d95a04-f1c8-4481-bf10-633dbc4526b2"
      },
      "outputs": [
        {
          "output_type": "stream",
          "name": "stdout",
          "text": [
            "[..................] \\ fetchMetadata: sill resolveWithNewModule openurl@1.1.1 c\u001b[0m\u001b[K\n",
            "Collecting usage statistics. To deactivate, set browser.gatherUsageStats to False.\n",
            "\u001b[0m\n",
            "\u001b[0m\n",
            "\u001b[34m\u001b[1m  You can now view your Streamlit app in your browser.\u001b[0m\n",
            "\u001b[0m\n",
            "\u001b[34m  Network URL: \u001b[0m\u001b[1mhttp://172.28.0.12:8501\u001b[0m\n",
            "\u001b[34m  External URL: \u001b[0m\u001b[1mhttp://34.125.102.25:8501\u001b[0m\n",
            "\u001b[0m\n",
            "\u001b[K\u001b[?25hnpx: installed 22 in 2.222s\n",
            "your url is: https://brown-nights-repair.loca.lt\n"
          ]
        }
      ],
      "source": [
        "!streamlit run projet_entreprise.py & npx localtunnel --port 8501\n"
      ]
    },
    {
      "cell_type": "code",
      "execution_count": null,
      "metadata": {
        "id": "45J5Y4C2qdQq"
      },
      "outputs": [],
      "source": [
        "#!pip install streamlit --upgrade"
      ]
    },
    {
      "cell_type": "code",
      "execution_count": 65,
      "metadata": {
        "colab": {
          "base_uri": "https://localhost:8080/"
        },
        "id": "NFJdkTLioszm",
        "outputId": "3abfcf36-5c49-4718-f720-81c97a5cc0ba"
      },
      "outputs": [
        {
          "output_type": "stream",
          "name": "stdout",
          "text": [
            "Overwriting projet_entreprise.py\n"
          ]
        }
      ],
      "source": []
    },
    {
      "cell_type": "code",
      "execution_count": null,
      "metadata": {
        "colab": {
          "base_uri": "https://localhost:8080/",
          "height": 608
        },
        "id": "Cnd_o7GsXPLU",
        "outputId": "8c4a120a-fc43-493c-e27c-836c996abd85"
      },
      "outputs": [
        {
          "data": {
            "image/png": "[encoded data removed]",
            "text/plain": [
              "<Figure size 1000x600 with 1 Axes>"
            ]
          },
          "metadata": {},
          "output_type": "display_data"
        },
        {
          "data": {
            "text/plain": [
              "DeltaGenerator()"
            ]
          },
          "execution_count": 47,
          "metadata": {},
          "output_type": "execute_result"
        }
      ],
      "source": [
        "moyenne_note=data.groupby(\"postal_code\")[\"overall_rating\"].first().reset_index()\n",
        "\n",
        "# le classement des arrondissements\n",
        "sns.set_style(\"dark\")\n",
        "plt.figure(figsize=(10, 6))  \n",
        "sns.barplot(data=moyenne_note, x=\"postal_code\", y=\"overall_rating\",palette = \"Set2\")\n",
        "plt.title(\"Moyenne des notes par arrondissement\")\n",
        "plt.xlabel(\"Code postal\")\n",
        "plt.ylabel(\"Moyenne des notes\")\n",
        "plt.xticks(rotation=45)  \n",
        "\n",
        "# Afficher le graphique\n",
        "plt.show()\n",
        "st.pyplot(plt)"
      ]
    },
    {
      "cell_type": "code",
      "execution_count": null,
      "metadata": {
        "id": "X2f-_Wn1UlPx"
      },
      "outputs": [],
      "source": []
    },
    {
      "cell_type": "code",
      "execution_count": null,
      "metadata": {
        "id": "qv2fEHM_8CT-"
      },
      "outputs": [],
      "source": [
        "#!streamlit run projet_entreprise.py&>/dev/null&"
      ]
    },
    {
      "cell_type": "code",
      "execution_count": null,
      "metadata": {
        "colab": {
          "base_uri": "https://localhost:8080/"
        },
        "id": "DyC55n8b8D00",
        "outputId": "a9781415-69b7-4ebe-e47e-aa0adc2194e4"
      },
      "outputs": [
        {
          "name": "stdout",
          "output_type": "stream",
          "text": [
            "5097\n"
          ]
        }
      ],
      "source": [
        "#!pgrep streamlit"
      ]
    },
    {
      "cell_type": "code",
      "execution_count": null,
      "metadata": {
        "id": "mVaGARvKOWEA"
      },
      "outputs": [],
      "source": [
        "#public_url = ngrok.connect(port=8501)\n"
      ]
    },
    {
      "cell_type": "code",
      "execution_count": null,
      "metadata": {
        "colab": {
          "base_uri": "https://localhost:8080/",
          "height": 53
        },
        "id": "qGyT7n1X74d-",
        "outputId": "2d3334a6-3fcc-4a7d-8121-9eb89b328ccc"
      },
      "outputs": [
        {
          "data": {
            "application/vnd.google.colaboratory.intrinsic+json": {
              "type": "string"
            },
            "text/plain": [
              "\"import streamlit as st\\nfrom pyngrok import ngrok\\n\\n%%writefile projet_entreprise.py\\n\\nimport streamlit as st\\n\\nst.write('Hello, *World!* :sunglasses:')\\n\\n!streamlit run projet_entreprise.py&>/dev/null&\\n\\n!pgrep streamlit\\npublic_url = ngrok.connect(port=8501)\\n\""
            ]
          },
          "execution_count": 72,
          "metadata": {},
          "output_type": "execute_result"
        }
      ],
      "source": [
        "\"\"\"import streamlit as st\n",
        "from pyngrok import ngrok\n",
        "\n",
        "%%writefile projet_entreprise.py\n",
        "\n",
        "import streamlit as st\n",
        "\n",
        "st.write('Hello, *World!* :sunglasses:')\n",
        "\n",
        "!streamlit run projet_entreprise.py&>/dev/null&\n",
        "\n",
        "!pgrep streamlit\n",
        "public_url = ngrok.connect(port=8501)\n",
        "\"\"\""
      ]
    },
    {
      "cell_type": "code",
      "execution_count": null,
      "metadata": {
        "colab": {
          "base_uri": "https://localhost:8080/"
        },
        "id": "KNpPNEjdRVBg",
        "outputId": "45c2ebd2-96eb-4b21-d307-7a9ebacd174d"
      },
      "outputs": [
        {
          "name": "stdout",
          "output_type": "stream",
          "text": [
            "Looking in indexes: https://pypi.org/simple, https://us-python.pkg.dev/colab-wheels/public/simple/\n",
            "Requirement already satisfied: pyngrok in /usr/local/lib/python3.10/dist-packages (6.0.0)\n",
            "Requirement already satisfied: PyYAML in /usr/local/lib/python3.10/dist-packages (from pyngrok) (6.0)\n"
          ]
        }
      ],
      "source": [
        "#!pip install pyngrok --upgrade\n"
      ]
    },
    {
      "cell_type": "code",
      "execution_count": null,
      "metadata": {
        "id": "eYLjJ2d2Sydt"
      },
      "outputs": [],
      "source": [
        "public_url = ngrok.connect(port=8501)"
      ]
    },
    {
      "cell_type": "code",
      "execution_count": null,
      "metadata": {
        "id": "V3Vs79Tp74ky"
      },
      "outputs": [],
      "source": []
    },
    {
      "cell_type": "code",
      "execution_count": null,
      "metadata": {
        "id": "ferpFwg2OczW"
      },
      "outputs": [],
      "source": [
        "#!streamlit run /content/prjet_entreprise.py &>/content/logs.txt &"
      ]
    },
    {
      "cell_type": "code",
      "execution_count": null,
      "metadata": {
        "id": "fy3-0YK-Ol2b"
      },
      "outputs": [],
      "source": [
        "#!npx localtunnel --port 8501"
      ]
    }
  ],
  "metadata": {
    "colab": {
      "provenance": []
    },
    "kernelspec": {
      "display_name": "Python 3",
      "name": "python3"
    },
    "language_info": {
      "name": "python"
    }
  },
  "nbformat": 4,
  "nbformat_minor": 0
}