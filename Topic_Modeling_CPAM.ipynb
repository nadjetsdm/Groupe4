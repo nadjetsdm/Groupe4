{
  "nbformat": 4,
  "nbformat_minor": 0,
  "metadata": {
    "colab": {
      "provenance": []
    },
    "kernelspec": {
      "name": "python3",
      "display_name": "Python 3"
    },
    "language_info": {
      "name": "python"
    }
  },
  "cells": [
    {
      "cell_type": "code",
      "execution_count": null,
      "metadata": {
        "id": "hF2mh4ZUpVCJ"
      },
      "outputs": [],
      "source": [
        "import pandas as pd\n",
        "from google.colab import files\n",
        "import re\n",
        "from wordcloud import WordCloud\n",
        "import nltk\n",
        "import seaborn as sns\n",
        "from nltk.corpus import stopwords\n",
        "from nltk.stem import SnowballStemmer\n",
        "from nltk import word_tokenize\n",
        "nltk.download(['punkt','wordnet','stopwords'])\n",
        "import matplotlib.pyplot as plt\n",
        "# pyLDAvis c'est pour la visualisation \n",
        "\n",
        "import pyLDAvis.gensim_models as gensimvis\n",
        "import pyLDAvis"
      ]
    },
    {
      "cell_type": "code",
      "source": [
        "#pip install --upgrade pandas\n",
        "#pip install --upgrade gensim\n",
        "#pip install --upgrade pyLDAvis\n",
        "#!pip install pyLDAvis"
      ],
      "metadata": {
        "id": "ZJYtbEApz89W"
      },
      "execution_count": null,
      "outputs": []
    },
    {
      "cell_type": "code",
      "source": [
        "!pip install pyLDAvis==3.3.1"
      ],
      "metadata": {
        "id": "BSsRPEha0UXv"
      },
      "execution_count": null,
      "outputs": []
    },
    {
      "cell_type": "code",
      "source": [
        "from gensim.utils import simple_preprocess\n",
        "\n",
        "\n",
        "from gensim.utils import simple_preprocess\n",
        "from gensim.parsing.preprocessing import STOPWORDS\n",
        "\n",
        "from gensim.corpora import Dictionary\n",
        "from gensim.models import LdaModel\n",
        "\n",
        "from gensim.models import CoherenceModel"
      ],
      "metadata": {
        "id": "phdwqPTV8qh9"
      },
      "execution_count": null,
      "outputs": []
    },
    {
      "cell_type": "code",
      "source": [
        "from google.colab import drive\n",
        "drive.mount('/content/drive')\n"
      ],
      "metadata": {
        "id": "eFJIY7qDFYzT"
      },
      "execution_count": null,
      "outputs": []
    },
    {
      "cell_type": "code",
      "source": [
        "path= '/content/drive/MyDrive/CSV_projet/final_data.csv'\n",
        "data= pd.read_csv(path, sep = \",\", encoding=\"utf-8\")"
      ],
      "metadata": {
        "id": "_Qmd9ITdGCcu",
        "colab": {
          "base_uri": "https://localhost:8080/"
        },
        "outputId": "ec2c9768-19a0-4f37-e458-0e7e00098da8"
      },
      "execution_count": null,
      "outputs": [
        {
          "output_type": "stream",
          "name": "stderr",
          "text": [
            "/usr/local/lib/python3.10/dist-packages/ipykernel/ipkernel.py:283: DeprecationWarning: `should_run_async` will not call `transform_cell` automatically in the future. Please pass the result to `transformed_cell` argument and any exception that happen during thetransform in `preprocessing_exc_tuple` in IPython 7.17 and above.\n",
            "  and should_run_async(code)\n"
          ]
        }
      ]
    },
    {
      "cell_type": "code",
      "source": [
        "data['review_rate'].value_counts()"
      ],
      "metadata": {
        "colab": {
          "base_uri": "https://localhost:8080/"
        },
        "id": "XZHUBDdW1uW4",
        "outputId": "9428a9ae-97fd-4ee4-83bd-4345e966e099"
      },
      "execution_count": null,
      "outputs": [
        {
          "output_type": "stream",
          "name": "stderr",
          "text": [
            "/usr/local/lib/python3.10/dist-packages/ipykernel/ipkernel.py:283: DeprecationWarning: `should_run_async` will not call `transform_cell` automatically in the future. Please pass the result to `transformed_cell` argument and any exception that happen during thetransform in `preprocessing_exc_tuple` in IPython 7.17 and above.\n",
            "  and should_run_async(code)\n"
          ]
        },
        {
          "output_type": "execute_result",
          "data": {
            "text/plain": [
              "review_rate\n",
              "1    406\n",
              "5    178\n",
              "4     57\n",
              "3     45\n",
              "2     30\n",
              "Name: count, dtype: int64"
            ]
          },
          "metadata": {},
          "execution_count": 44
        }
      ]
    },
    {
      "cell_type": "code",
      "source": [
        "data.isna().sum()"
      ],
      "metadata": {
        "id": "WP5EcaaSqsbL"
      },
      "execution_count": null,
      "outputs": []
    },
    {
      "cell_type": "code",
      "source": [
        "data[\"review_text\"] = data[\"review_text\"].astype(str)"
      ],
      "metadata": {
        "colab": {
          "base_uri": "https://localhost:8080/"
        },
        "id": "-RnyikaA2jro",
        "outputId": "d0de9b68-ea31-45a9-f647-8573fe8b7324"
      },
      "execution_count": null,
      "outputs": [
        {
          "output_type": "stream",
          "name": "stderr",
          "text": [
            "/usr/local/lib/python3.10/dist-packages/ipykernel/ipkernel.py:283: DeprecationWarning: `should_run_async` will not call `transform_cell` automatically in the future. Please pass the result to `transformed_cell` argument and any exception that happen during thetransform in `preprocessing_exc_tuple` in IPython 7.17 and above.\n",
            "  and should_run_async(code)\n"
          ]
        }
      ]
    },
    {
      "cell_type": "code",
      "source": [
        "\n",
        "# Supprimer les caractères de ponctuation sauf l'apostrophe\n",
        "data[\"review_text\"] = data[\"review_text\"].apply(lambda x: re.sub(r'[^\\w\\s\\']', '', x))\n",
        "\n",
        "# Mettre en minuscule\n",
        "data[\"review_text\"] = data[\"review_text\"].apply(lambda x: x.lower())\n",
        "\n",
        "# Supprimer les numéros\n",
        "data[\"review_text\"] = data[\"review_text\"].apply(lambda x: re.sub(r'\\d+', '', x))\n"
      ],
      "metadata": {
        "colab": {
          "base_uri": "https://localhost:8080/"
        },
        "id": "GEaZQO1Vqx6N",
        "outputId": "d47b2439-1df8-473a-d77d-56001424f563"
      },
      "execution_count": null,
      "outputs": [
        {
          "output_type": "stream",
          "name": "stderr",
          "text": [
            "/usr/local/lib/python3.10/dist-packages/ipykernel/ipkernel.py:283: DeprecationWarning: `should_run_async` will not call `transform_cell` automatically in the future. Please pass the result to `transformed_cell` argument and any exception that happen during thetransform in `preprocessing_exc_tuple` in IPython 7.17 and above.\n",
            "  and should_run_async(code)\n"
          ]
        }
      ]
    },
    {
      "cell_type": "code",
      "source": [
        "data.head()"
      ],
      "metadata": {
        "colab": {
          "base_uri": "https://localhost:8080/",
          "height": 497
        },
        "id": "dgxyDz6hqx9K",
        "outputId": "b3a173cf-27e3-4fa2-b88e-83deac8f54d8"
      },
      "execution_count": null,
      "outputs": [
        {
          "output_type": "stream",
          "name": "stderr",
          "text": [
            "/usr/local/lib/python3.10/dist-packages/ipykernel/ipkernel.py:283: DeprecationWarning: `should_run_async` will not call `transform_cell` automatically in the future. Please pass the result to `transformed_cell` argument and any exception that happen during thetransform in `preprocessing_exc_tuple` in IPython 7.17 and above.\n",
            "  and should_run_async(code)\n"
          ]
        },
        {
          "output_type": "execute_result",
          "data": {
            "text/plain": [
              "   review_rate                                        review_text  \\\n",
              "0            1  [agent, daccueil, lentr, personn, derrir, bure...   \n",
              "1            5  [vendredi, coup, venu, dame, brune, dune, cinq...   \n",
              "2            1                               [horair, born, pann]   \n",
              "3            1  [agent, professionnalism, interromp, parol, ma...   \n",
              "4            5                   [personnel, accueil, chaleureux]   \n",
              "\n",
              "                             object_address  overall_rating  review_num  \\\n",
              "0  5 Rue de la Durance, 75012 Paris, France             3.7          50   \n",
              "1  5 Rue de la Durance, 75012 Paris, France             3.7          50   \n",
              "2  5 Rue de la Durance, 75012 Paris, France             3.7          50   \n",
              "3  5 Rue de la Durance, 75012 Paris, France             3.7          50   \n",
              "4  5 Rue de la Durance, 75012 Paris, France             3.7          50   \n",
              "\n",
              "                                          object_url  date_complete  \\\n",
              "0  https://www.google.fr/maps/place/CPAM+Paris+12...   janvier 2023   \n",
              "1  https://www.google.fr/maps/place/CPAM+Paris+12...   février 2022   \n",
              "2  https://www.google.fr/maps/place/CPAM+Paris+12...   février 2023   \n",
              "3  https://www.google.fr/maps/place/CPAM+Paris+12...      mars 2021   \n",
              "4  https://www.google.fr/maps/place/CPAM+Paris+12...  décembre 2022   \n",
              "\n",
              "   postal_code    year       latitude_longitude   latitude  longitude  \\\n",
              "0        75012  2023.0  (48.8381167, 2.3938557)  48.838117   2.393856   \n",
              "1        75012  2022.0  (48.8381167, 2.3938557)  48.838117   2.393856   \n",
              "2        75012  2023.0  (48.8381167, 2.3938557)  48.838117   2.393856   \n",
              "3        75012  2021.0  (48.8381167, 2.3938557)  48.838117   2.393856   \n",
              "4        75012  2022.0  (48.8381167, 2.3938557)  48.838117   2.393856   \n",
              "\n",
              "  sentiment  \n",
              "0  Negative  \n",
              "1  Negative  \n",
              "2  Negative  \n",
              "3  Negative  \n",
              "4  Negative  "
            ],
            "text/html": [
              "\n",
              "  <div id=\"df-7856c546-0374-4e60-9698-f590b2adfca3\">\n",
              "    <div class=\"colab-df-container\">\n",
              "      <div>\n",
              "<style scoped>\n",
              "    .dataframe tbody tr th:only-of-type {\n",
              "        vertical-align: middle;\n",
              "    }\n",
              "\n",
              "    .dataframe tbody tr th {\n",
              "        vertical-align: top;\n",
              "    }\n",
              "\n",
              "    .dataframe thead th {\n",
              "        text-align: right;\n",
              "    }\n",
              "</style>\n",
              "<table border=\"1\" class=\"dataframe\">\n",
              "  <thead>\n",
              "    <tr style=\"text-align: right;\">\n",
              "      <th></th>\n",
              "      <th>review_rate</th>\n",
              "      <th>review_text</th>\n",
              "      <th>object_address</th>\n",
              "      <th>overall_rating</th>\n",
              "      <th>review_num</th>\n",
              "      <th>object_url</th>\n",
              "      <th>date_complete</th>\n",
              "      <th>postal_code</th>\n",
              "      <th>year</th>\n",
              "      <th>latitude_longitude</th>\n",
              "      <th>latitude</th>\n",
              "      <th>longitude</th>\n",
              "      <th>sentiment</th>\n",
              "    </tr>\n",
              "  </thead>\n",
              "  <tbody>\n",
              "    <tr>\n",
              "      <th>0</th>\n",
              "      <td>1</td>\n",
              "      <td>[agent, daccueil, lentr, personn, derrir, bure...</td>\n",
              "      <td>5 Rue de la Durance, 75012 Paris, France</td>\n",
              "      <td>3.7</td>\n",
              "      <td>50</td>\n",
              "      <td>https://www.google.fr/maps/place/CPAM+Paris+12...</td>\n",
              "      <td>janvier 2023</td>\n",
              "      <td>75012</td>\n",
              "      <td>2023.0</td>\n",
              "      <td>(48.8381167, 2.3938557)</td>\n",
              "      <td>48.838117</td>\n",
              "      <td>2.393856</td>\n",
              "      <td>Negative</td>\n",
              "    </tr>\n",
              "    <tr>\n",
              "      <th>1</th>\n",
              "      <td>5</td>\n",
              "      <td>[vendredi, coup, venu, dame, brune, dune, cinq...</td>\n",
              "      <td>5 Rue de la Durance, 75012 Paris, France</td>\n",
              "      <td>3.7</td>\n",
              "      <td>50</td>\n",
              "      <td>https://www.google.fr/maps/place/CPAM+Paris+12...</td>\n",
              "      <td>février 2022</td>\n",
              "      <td>75012</td>\n",
              "      <td>2022.0</td>\n",
              "      <td>(48.8381167, 2.3938557)</td>\n",
              "      <td>48.838117</td>\n",
              "      <td>2.393856</td>\n",
              "      <td>Negative</td>\n",
              "    </tr>\n",
              "    <tr>\n",
              "      <th>2</th>\n",
              "      <td>1</td>\n",
              "      <td>[horair, born, pann]</td>\n",
              "      <td>5 Rue de la Durance, 75012 Paris, France</td>\n",
              "      <td>3.7</td>\n",
              "      <td>50</td>\n",
              "      <td>https://www.google.fr/maps/place/CPAM+Paris+12...</td>\n",
              "      <td>février 2023</td>\n",
              "      <td>75012</td>\n",
              "      <td>2023.0</td>\n",
              "      <td>(48.8381167, 2.3938557)</td>\n",
              "      <td>48.838117</td>\n",
              "      <td>2.393856</td>\n",
              "      <td>Negative</td>\n",
              "    </tr>\n",
              "    <tr>\n",
              "      <th>3</th>\n",
              "      <td>1</td>\n",
              "      <td>[agent, professionnalism, interromp, parol, ma...</td>\n",
              "      <td>5 Rue de la Durance, 75012 Paris, France</td>\n",
              "      <td>3.7</td>\n",
              "      <td>50</td>\n",
              "      <td>https://www.google.fr/maps/place/CPAM+Paris+12...</td>\n",
              "      <td>mars 2021</td>\n",
              "      <td>75012</td>\n",
              "      <td>2021.0</td>\n",
              "      <td>(48.8381167, 2.3938557)</td>\n",
              "      <td>48.838117</td>\n",
              "      <td>2.393856</td>\n",
              "      <td>Negative</td>\n",
              "    </tr>\n",
              "    <tr>\n",
              "      <th>4</th>\n",
              "      <td>5</td>\n",
              "      <td>[personnel, accueil, chaleureux]</td>\n",
              "      <td>5 Rue de la Durance, 75012 Paris, France</td>\n",
              "      <td>3.7</td>\n",
              "      <td>50</td>\n",
              "      <td>https://www.google.fr/maps/place/CPAM+Paris+12...</td>\n",
              "      <td>décembre 2022</td>\n",
              "      <td>75012</td>\n",
              "      <td>2022.0</td>\n",
              "      <td>(48.8381167, 2.3938557)</td>\n",
              "      <td>48.838117</td>\n",
              "      <td>2.393856</td>\n",
              "      <td>Negative</td>\n",
              "    </tr>\n",
              "  </tbody>\n",
              "</table>\n",
              "</div>\n",
              "      <button class=\"colab-df-convert\" onclick=\"convertToInteractive('df-7856c546-0374-4e60-9698-f590b2adfca3')\"\n",
              "              title=\"Convert this dataframe to an interactive table.\"\n",
              "              style=\"display:none;\">\n",
              "        \n",
              "  <svg xmlns=\"http://www.w3.org/2000/svg\" height=\"24px\"viewBox=\"0 0 24 24\"\n",
              "       width=\"24px\">\n",
              "    <path d=\"M0 0h24v24H0V0z\" fill=\"none\"/>\n",
              "    <path d=\"M18.56 5.44l.94 2.06.94-2.06 2.06-.94-2.06-.94-.94-2.06-.94 2.06-2.06.94zm-11 1L8.5 8.5l.94-2.06 2.06-.94-2.06-.94L8.5 2.5l-.94 2.06-2.06.94zm10 10l.94 2.06.94-2.06 2.06-.94-2.06-.94-.94-2.06-.94 2.06-2.06.94z\"/><path d=\"M17.41 7.96l-1.37-1.37c-.4-.4-.92-.59-1.43-.59-.52 0-1.04.2-1.43.59L10.3 9.45l-7.72 7.72c-.78.78-.78 2.05 0 2.83L4 21.41c.39.39.9.59 1.41.59.51 0 1.02-.2 1.41-.59l7.78-7.78 2.81-2.81c.8-.78.8-2.07 0-2.86zM5.41 20L4 18.59l7.72-7.72 1.47 1.35L5.41 20z\"/>\n",
              "  </svg>\n",
              "      </button>\n",
              "      \n",
              "  <style>\n",
              "    .colab-df-container {\n",
              "      display:flex;\n",
              "      flex-wrap:wrap;\n",
              "      gap: 12px;\n",
              "    }\n",
              "\n",
              "    .colab-df-convert {\n",
              "      background-color: #E8F0FE;\n",
              "      border: none;\n",
              "      border-radius: 50%;\n",
              "      cursor: pointer;\n",
              "      display: none;\n",
              "      fill: #1967D2;\n",
              "      height: 32px;\n",
              "      padding: 0 0 0 0;\n",
              "      width: 32px;\n",
              "    }\n",
              "\n",
              "    .colab-df-convert:hover {\n",
              "      background-color: #E2EBFA;\n",
              "      box-shadow: 0px 1px 2px rgba(60, 64, 67, 0.3), 0px 1px 3px 1px rgba(60, 64, 67, 0.15);\n",
              "      fill: #174EA6;\n",
              "    }\n",
              "\n",
              "    [theme=dark] .colab-df-convert {\n",
              "      background-color: #3B4455;\n",
              "      fill: #D2E3FC;\n",
              "    }\n",
              "\n",
              "    [theme=dark] .colab-df-convert:hover {\n",
              "      background-color: #434B5C;\n",
              "      box-shadow: 0px 1px 3px 1px rgba(0, 0, 0, 0.15);\n",
              "      filter: drop-shadow(0px 1px 2px rgba(0, 0, 0, 0.3));\n",
              "      fill: #FFFFFF;\n",
              "    }\n",
              "  </style>\n",
              "\n",
              "      <script>\n",
              "        const buttonEl =\n",
              "          document.querySelector('#df-7856c546-0374-4e60-9698-f590b2adfca3 button.colab-df-convert');\n",
              "        buttonEl.style.display =\n",
              "          google.colab.kernel.accessAllowed ? 'block' : 'none';\n",
              "\n",
              "        async function convertToInteractive(key) {\n",
              "          const element = document.querySelector('#df-7856c546-0374-4e60-9698-f590b2adfca3');\n",
              "          const dataTable =\n",
              "            await google.colab.kernel.invokeFunction('convertToInteractive',\n",
              "                                                     [key], {});\n",
              "          if (!dataTable) return;\n",
              "\n",
              "          const docLinkHtml = 'Like what you see? Visit the ' +\n",
              "            '<a target=\"_blank\" href=https://colab.research.google.com/notebooks/data_table.ipynb>data table notebook</a>'\n",
              "            + ' to learn more about interactive tables.';\n",
              "          element.innerHTML = '';\n",
              "          dataTable['output_type'] = 'display_data';\n",
              "          await google.colab.output.renderOutput(dataTable, element);\n",
              "          const docLink = document.createElement('div');\n",
              "          docLink.innerHTML = docLinkHtml;\n",
              "          element.appendChild(docLink);\n",
              "        }\n",
              "      </script>\n",
              "    </div>\n",
              "  </div>\n",
              "  "
            ]
          },
          "metadata": {},
          "execution_count": 47
        }
      ]
    },
    {
      "cell_type": "code",
      "source": [
        "#tokenization\n",
        "data['review_text']=data['review_text'].map(lambda x: word_tokenize(x))"
      ],
      "metadata": {
        "colab": {
          "base_uri": "https://localhost:8080/"
        },
        "id": "8qeY-BPhqsfl",
        "outputId": "724ee973-ef17-4efc-9dbb-ec80d09fbfb7"
      },
      "execution_count": null,
      "outputs": [
        {
          "output_type": "stream",
          "name": "stderr",
          "text": [
            "/usr/local/lib/python3.10/dist-packages/ipykernel/ipkernel.py:283: DeprecationWarning: `should_run_async` will not call `transform_cell` automatically in the future. Please pass the result to `transformed_cell` argument and any exception that happen during thetransform in `preprocessing_exc_tuple` in IPython 7.17 and above.\n",
            "  and should_run_async(code)\n"
          ]
        }
      ]
    },
    {
      "cell_type": "code",
      "source": [
        "french_stopwords = stopwords.words('french')\n",
        "french_stopwords += [\"très\", \"a\", \"cpam\", \"merci\", \"jai\", \"cest\", \"aujourdhui\", \"bien\", \"déjà\", \"cette\", \"plus\", \"tout\", \"mois\", \"ça\"]\n",
        "\n",
        "data['review_text'] = data.review_text.apply(lambda x: [item for item in x if len(item) > 3 and item not in french_stopwords])\n",
        "data['review_text']"
      ],
      "metadata": {
        "colab": {
          "base_uri": "https://localhost:8080/"
        },
        "id": "OM3FuSJt4PPz",
        "outputId": "e6fac726-2477-41c4-9ee8-b4ef91531ad0"
      },
      "execution_count": null,
      "outputs": [
        {
          "output_type": "stream",
          "name": "stderr",
          "text": [
            "/usr/local/lib/python3.10/dist-packages/ipykernel/ipkernel.py:283: DeprecationWarning: `should_run_async` will not call `transform_cell` automatically in the future. Please pass the result to `transformed_cell` argument and any exception that happen during thetransform in `preprocessing_exc_tuple` in IPython 7.17 and above.\n",
            "  and should_run_async(code)\n"
          ]
        },
        {
          "output_type": "execute_result",
          "data": {
            "text/plain": [
              "0      [agent, daccueil, lentr, personn, derrir, bure...\n",
              "1      [vendredi, coup, venu, dame, brune, dune, cinq...\n",
              "2                                   [horair, born, pann]\n",
              "3      [agent, professionnalism, interromp, parol, ma...\n",
              "4                       [personnel, accueil, chaleureux]\n",
              "                             ...                        \n",
              "711                                              [excel]\n",
              "712                             [pire, employ, rcalcitr]\n",
              "713                                                   []\n",
              "714                                    [attent, terribl]\n",
              "715                                                   []\n",
              "Name: review_text, Length: 716, dtype: object"
            ]
          },
          "metadata": {},
          "execution_count": 48
        }
      ]
    },
    {
      "cell_type": "markdown",
      "source": [
        "### Pour les avis à une seule étoile"
      ],
      "metadata": {
        "id": "vMgta0iy4Bp6"
      }
    },
    {
      "cell_type": "code",
      "source": [
        "data_one_star_reviews = data[data['review_rate'] == 1]"
      ],
      "metadata": {
        "colab": {
          "base_uri": "https://localhost:8080/"
        },
        "id": "6aeue-_94S0I",
        "outputId": "cd8b2d33-fae6-40c9-83f9-7de3d927ff66"
      },
      "execution_count": null,
      "outputs": [
        {
          "output_type": "stream",
          "name": "stderr",
          "text": [
            "/usr/local/lib/python3.10/dist-packages/ipykernel/ipkernel.py:283: DeprecationWarning: `should_run_async` will not call `transform_cell` automatically in the future. Please pass the result to `transformed_cell` argument and any exception that happen during thetransform in `preprocessing_exc_tuple` in IPython 7.17 and above.\n",
            "  and should_run_async(code)\n"
          ]
        }
      ]
    },
    {
      "cell_type": "code",
      "source": [
        "# Créer un dictionnaire de mots\n",
        "\n",
        "#le dictionnaire créé  contient tous les mots uniques de l'ensemble de données.\n",
        "\n",
        "dictionary = Dictionary(data_one_star_reviews[\"review_text\"])"
      ],
      "metadata": {
        "colab": {
          "base_uri": "https://localhost:8080/"
        },
        "id": "cxwqE99I8Ofz",
        "outputId": "a2d97491-8b93-4fa7-fbe3-577fe918c750"
      },
      "execution_count": null,
      "outputs": [
        {
          "output_type": "stream",
          "name": "stderr",
          "text": [
            "/usr/local/lib/python3.10/dist-packages/ipykernel/ipkernel.py:283: DeprecationWarning: `should_run_async` will not call `transform_cell` automatically in the future. Please pass the result to `transformed_cell` argument and any exception that happen during thetransform in `preprocessing_exc_tuple` in IPython 7.17 and above.\n",
            "  and should_run_async(code)\n"
          ]
        }
      ]
    },
    {
      "cell_type": "code",
      "source": [
        "# Créer un corpus de documents\n",
        "\n",
        "#La méthode \"doc2bow\" transforme chaque liste de mots prétraités en un sac de mots, \n",
        "\n",
        "#c'est-à-dire un vecteur de paires (mot_id, fréquence) qui représente le nombre d'occurrences de chaque mot dans le document.\n",
        "\n",
        "corpus = [dictionary.doc2bow(text) for text in data_one_star_reviews[\"review_text\"]]"
      ],
      "metadata": {
        "colab": {
          "base_uri": "https://localhost:8080/"
        },
        "id": "AelT42yC8zk1",
        "outputId": "8fee98e1-0fc9-4d93-cf9f-5e35b5943f92"
      },
      "execution_count": null,
      "outputs": [
        {
          "output_type": "stream",
          "name": "stderr",
          "text": [
            "/usr/local/lib/python3.10/dist-packages/ipykernel/ipkernel.py:283: DeprecationWarning: `should_run_async` will not call `transform_cell` automatically in the future. Please pass the result to `transformed_cell` argument and any exception that happen during thetransform in `preprocessing_exc_tuple` in IPython 7.17 and above.\n",
            "  and should_run_async(code)\n"
          ]
        }
      ]
    },
    {
      "cell_type": "code",
      "source": [
        "corpus"
      ],
      "metadata": {
        "id": "EBmMw2c6-ZSO"
      },
      "execution_count": null,
      "outputs": []
    },
    {
      "cell_type": "code",
      "source": [
        "#mesure la similarité entre les mots dans un sujet donné en utilisant la log-probabilité négative de ces mots\n",
        "\n",
        "#Plus la valeur de UMass est proche de zéro, plus le modèle est cohérent.\n",
        "cohereence_liste = []\n",
        "\n",
        "for K in range(1,10):\n",
        "    lda_model = LdaModel(corpus=corpus, id2word=dictionary, num_topics=K)\n",
        "    coherence_model = CoherenceModel(model=lda_model, corpus=corpus, coherence='u_mass')\n",
        "    \n",
        "    # Calculate the coherence score for the topics\n",
        "    cohereence_liste.append(coherence_model.get_coherence())"
      ],
      "metadata": {
        "colab": {
          "base_uri": "https://localhost:8080/"
        },
        "id": "xir6Q4Qt-xTD",
        "outputId": "fffcff7c-7e12-45d1-f88e-2fb97082025f"
      },
      "execution_count": null,
      "outputs": [
        {
          "output_type": "stream",
          "name": "stderr",
          "text": [
            "/usr/local/lib/python3.10/dist-packages/ipykernel/ipkernel.py:283: DeprecationWarning: `should_run_async` will not call `transform_cell` automatically in the future. Please pass the result to `transformed_cell` argument and any exception that happen during thetransform in `preprocessing_exc_tuple` in IPython 7.17 and above.\n",
            "  and should_run_async(code)\n",
            "WARNING:gensim.models.ldamodel:too few updates, training might not converge; consider increasing the number of passes or iterations to improve accuracy\n",
            "WARNING:gensim.models.ldamodel:too few updates, training might not converge; consider increasing the number of passes or iterations to improve accuracy\n",
            "WARNING:gensim.models.ldamodel:too few updates, training might not converge; consider increasing the number of passes or iterations to improve accuracy\n",
            "WARNING:gensim.models.ldamodel:too few updates, training might not converge; consider increasing the number of passes or iterations to improve accuracy\n",
            "WARNING:gensim.models.ldamodel:too few updates, training might not converge; consider increasing the number of passes or iterations to improve accuracy\n",
            "WARNING:gensim.models.ldamodel:too few updates, training might not converge; consider increasing the number of passes or iterations to improve accuracy\n",
            "WARNING:gensim.models.ldamodel:too few updates, training might not converge; consider increasing the number of passes or iterations to improve accuracy\n",
            "WARNING:gensim.models.ldamodel:too few updates, training might not converge; consider increasing the number of passes or iterations to improve accuracy\n",
            "WARNING:gensim.models.ldamodel:too few updates, training might not converge; consider increasing the number of passes or iterations to improve accuracy\n"
          ]
        }
      ]
    },
    {
      "cell_type": "code",
      "source": [
        "cohereence_liste"
      ],
      "metadata": {
        "colab": {
          "base_uri": "https://localhost:8080/"
        },
        "id": "RbaCp8hM_DjF",
        "outputId": "5e7a6d82-d8b4-44f6-ab88-f97230c1d96b"
      },
      "execution_count": null,
      "outputs": [
        {
          "output_type": "stream",
          "name": "stderr",
          "text": [
            "/usr/local/lib/python3.10/dist-packages/ipykernel/ipkernel.py:283: DeprecationWarning: `should_run_async` will not call `transform_cell` automatically in the future. Please pass the result to `transformed_cell` argument and any exception that happen during thetransform in `preprocessing_exc_tuple` in IPython 7.17 and above.\n",
            "  and should_run_async(code)\n"
          ]
        },
        {
          "output_type": "execute_result",
          "data": {
            "text/plain": [
              "[-2.622043528121097,\n",
              " -2.7330971208871477,\n",
              " -3.3930797835953235,\n",
              " -2.6580747433594007,\n",
              " -3.0608059809971233,\n",
              " -2.9128131286602836,\n",
              " -3.988197898541902,\n",
              " -3.6044978014468736,\n",
              " -4.748422783662436]"
            ]
          },
          "metadata": {},
          "execution_count": 53
        }
      ]
    },
    {
      "cell_type": "code",
      "source": [
        "# la valeur proche du 0 c'est le nombre optimal des topics\n",
        "\n",
        "min_value = max(cohereence_liste)\n",
        "optimal_topics_number = cohereence_liste.index(min_value)+1\n",
        "\n",
        "optimal_topics_number"
      ],
      "metadata": {
        "colab": {
          "base_uri": "https://localhost:8080/"
        },
        "id": "2eMnlrGj_JDw",
        "outputId": "457bb449-ece8-4069-f1f7-f832a05e0747"
      },
      "execution_count": null,
      "outputs": [
        {
          "output_type": "stream",
          "name": "stderr",
          "text": [
            "/usr/local/lib/python3.10/dist-packages/ipykernel/ipkernel.py:283: DeprecationWarning: `should_run_async` will not call `transform_cell` automatically in the future. Please pass the result to `transformed_cell` argument and any exception that happen during thetransform in `preprocessing_exc_tuple` in IPython 7.17 and above.\n",
            "  and should_run_async(code)\n"
          ]
        },
        {
          "output_type": "execute_result",
          "data": {
            "text/plain": [
              "1"
            ]
          },
          "metadata": {},
          "execution_count": 54
        }
      ]
    },
    {
      "cell_type": "code",
      "source": [
        "# Tracer le graphique\n",
        "sns.set(style=\"darkgrid\")\n",
        "sns.lineplot(x=range(1,10), y=cohereence_liste, marker=\"o\")\n",
        "plt.title('Nombre optimal de sujets')\n",
        "plt.xlabel('Nombre de sujets')\n",
        "plt.ylabel('Cohérence UMass')\n",
        "plt.show()"
      ],
      "metadata": {
        "colab": {
          "base_uri": "https://localhost:8080/",
          "height": 537
        },
        "id": "Mq_98qtz_SS3",
        "outputId": "b1a3cdc8-e6a0-44b5-8e49-0514daf1d605"
      },
      "execution_count": null,
      "outputs": [
        {
          "output_type": "stream",
          "name": "stderr",
          "text": [
            "/usr/local/lib/python3.10/dist-packages/ipykernel/ipkernel.py:283: DeprecationWarning: `should_run_async` will not call `transform_cell` automatically in the future. Please pass the result to `transformed_cell` argument and any exception that happen during thetransform in `preprocessing_exc_tuple` in IPython 7.17 and above.\n",
            "  and should_run_async(code)\n"
          ]
        },
        {
          "output_type": "display_data",
          "data": {
            "text/plain": [
              "<Figure size 640x480 with 1 Axes>"
            ],
            "image/png": "[encoded data removed]"
          },
          "metadata": {}
        }
      ]
    },
    {
      "cell_type": "code",
      "source": [
        "# Afficher les sujets \n",
        "\n",
        "# cela nous donne chaque termm avec le pourcentage d'existance par rapport au document \n",
        "topics = lda_model.show_topics(num_topics=2, num_words=10)\n",
        "for topic in topics:\n",
        "    print(topic)"
      ],
      "metadata": {
        "colab": {
          "base_uri": "https://localhost:8080/"
        },
        "id": "n0zuzo_T_YCR",
        "outputId": "f7107ce9-7451-49f4-8dca-835a1a54f01f"
      },
      "execution_count": null,
      "outputs": [
        {
          "output_type": "stream",
          "name": "stdout",
          "text": [
            "(2, '0.016*\"personn\" + 0.014*\"servic\" + 0.013*\"demand\" + 0.010*\"quil\" + 0.008*\"cart\" + 0.007*\"scurit\" + 0.006*\"public\" + 0.006*\"social\" + 0.005*\"vital\" + 0.005*\"comm\"')\n",
            "(5, '0.021*\"aucun\" + 0.015*\"servic\" + 0.012*\"personn\" + 0.009*\"perdu\" + 0.009*\"rien\" + 0.008*\"cett\" + 0.007*\"fait\" + 0.007*\"scurit\" + 0.007*\"depui\" + 0.006*\"rpons\"')\n"
          ]
        },
        {
          "output_type": "stream",
          "name": "stderr",
          "text": [
            "/usr/local/lib/python3.10/dist-packages/ipykernel/ipkernel.py:283: DeprecationWarning: `should_run_async` will not call `transform_cell` automatically in the future. Please pass the result to `transformed_cell` argument and any exception that happen during thetransform in `preprocessing_exc_tuple` in IPython 7.17 and above.\n",
            "  and should_run_async(code)\n"
          ]
        }
      ]
    },
    {
      "cell_type": "code",
      "source": [
        "K=2\n",
        "\n",
        "lda_model = LdaModel(corpus=corpus, id2word=dictionary, num_topics=K)"
      ],
      "metadata": {
        "colab": {
          "base_uri": "https://localhost:8080/"
        },
        "id": "McW-Mkc1ACx2",
        "outputId": "185b61ba-f314-4363-cf9a-adc8eb93f079"
      },
      "execution_count": null,
      "outputs": [
        {
          "output_type": "stream",
          "name": "stderr",
          "text": [
            "/usr/local/lib/python3.10/dist-packages/ipykernel/ipkernel.py:283: DeprecationWarning: `should_run_async` will not call `transform_cell` automatically in the future. Please pass the result to `transformed_cell` argument and any exception that happen during thetransform in `preprocessing_exc_tuple` in IPython 7.17 and above.\n",
            "  and should_run_async(code)\n",
            "WARNING:gensim.models.ldamodel:too few updates, training might not converge; consider increasing the number of passes or iterations to improve accuracy\n"
          ]
        }
      ]
    },
    {
      "cell_type": "code",
      "source": [
        "from IPython.display import display\n",
        "\n",
        "# Générer la visualisation pyLDAvis\n",
        "vis = gensimvis.prepare(lda_model, corpus, dictionary)\n",
        "\n",
        "# Afficher la visualisation\n",
        "display(pyLDAvis.display(vis))"
      ],
      "metadata": {
        "colab": {
          "base_uri": "https://localhost:8080/",
          "height": 917
        },
        "id": "dzewaUrIAbGQ",
        "outputId": "a74ae82b-4214-4ace-9110-00c01ff97c72"
      },
      "execution_count": null,
      "outputs": [
        {
          "output_type": "stream",
          "name": "stderr",
          "text": [
            "/usr/local/lib/python3.10/dist-packages/ipykernel/ipkernel.py:283: DeprecationWarning: `should_run_async` will not call `transform_cell` automatically in the future. Please pass the result to `transformed_cell` argument and any exception that happen during thetransform in `preprocessing_exc_tuple` in IPython 7.17 and above.\n",
            "  and should_run_async(code)\n"
          ]
        },
        {
          "output_type": "display_data",
          "data": {
            "text/plain": [
              "<IPython.core.display.HTML object>"
            ],
            "text/html": [
              "\n",
              "<link rel=\"stylesheet\" type=\"text/css\" href=\"https://cdn.jsdelivr.net/gh/bmabey/pyLDAvis@3.4.0/pyLDAvis/js/ldavis.v1.0.0.css\">\n",
              "\n",
              "\n",
              "<div id=\"ldavis_el50771398106451086401480398331\" style=\"background-color:white;\"></div>\n",
              "<script type=\"text/javascript\">\n",
              "\n",
              "var ldavis_el50771398106451086401480398331_data = {\"mdsDat\": {\"x\": [0.01626423563514167, -0.01626423563514167], \"y\": [0.0, 0.0], \"topics\": [1, 2], \"cluster\": [1, 1], \"Freq\": [59.789396438346344, 40.21060356165365]}, \"tinfo\": {\"Term\": [\"servic\", \"lentr\", \"ferm\", \"cart\", \"temp\", \"part\", \"fair\", \"document\", \"fait\", \"pari\", \"handicap\", \"ltranger\", \"mauvais\", \"malad\", \"fermetur\", \"prioritair\", \"publiqu\", \"payer\", \"deux\", \"numro\", \"internet\", \"lign\", \"mauvai\", \"dossier\", \"lattent\", \"oubli\", \"laccueil\", \"exprienc\", \"scurit\", \"tlphone\", \"coup\", \"ferm\", \"accu\", \"dplace\", \"gueul\", \"compltement\", \"jeudi\", \"moment\", \"enfant\", \"davoir\", \"catastroph\", \"nallait\", \"dsagrabl\", \"ignor\", \"maider\", \"ouvert\", \"devait\", \"foutag\", \"tudiant\", \"procdur\", \"ntait\", \"supprim\", \"recommand\", \"menac\", \"rpons\", \"fait\", \"invalid\", \"veut\", \"marqu\", \"fich\", \"perdu\", \"born\", \"indiqu\", \"site\", \"jtai\", \"devant\", \"travail\", \"jour\", \"just\", \"demand\", \"comm\", \"comment\", \"avoir\", \"debout\", \"donn\", \"seul\", \"aucun\", \"heur\", \"personn\", \"place\", \"courrier\", \"toujour\", \"donc\", \"pire\", \"personnel\", \"envoy\", \"problm\", \"scurit\", \"accueil\", \"depui\", \"alor\", \"rien\", \"attent\", \"social\", \"fair\", \"cela\", \"servic\", \"quil\", \"cett\", \"nest\", \"dossier\", \"faut\", \"dattent\", \"ltranger\", \"difficult\", \"lentr\", \"parlent\", \"lattent\", \"financir\", \"ijss\", \"gardien\", \"gard\", \"fermetur\", \"mchant\", \"prioritair\", \"denvoi\", \"moindr\", \"aupr\", \"malheur\", \"offic\", \"auparav\", \"compos\", \"mthode\", \"oubli\", \"sert\", \"oublier\", \"apport\", \"obligatoir\", \"balad\", \"publiqu\", \"lutilis\", \"existetil\", \"combler\", \"notion\", \"mauvais\", \"malad\", \"handicap\", \"transfert\", \"payer\", \"centim\", \"exact\", \"part\", \"moyen\", \"risqu\", \"servic\", \"lign\", \"exprienc\", \"temp\", \"cart\", \"document\", \"pari\", \"internet\", \"fair\", \"mauvai\", \"journ\", \"deux\", \"numro\", \"scurit\", \"personn\", \"dossier\", \"rien\", \"laccueil\", \"tlphone\", \"depui\", \"cett\", \"toujour\", \"quil\", \"agent\", \"autr\", \"faut\", \"aucun\", \"vital\", \"nest\", \"demand\", \"social\", \"minut\", \"inform\", \"travail\", \"personnel\", \"dattent\", \"fait\"], \"Freq\": [77.0, 10.0, 39.0, 30.0, 17.0, 11.0, 47.0, 18.0, 53.0, 19.0, 8.0, 4.0, 6.0, 6.0, 5.0, 5.0, 5.0, 6.0, 18.0, 19.0, 10.0, 7.0, 9.0, 32.0, 3.0, 5.0, 17.0, 6.0, 51.0, 22.0, 5.752986417979519, 34.1614397381107, 2.8366923254344756, 7.738070950007096, 4.186164474880038, 2.082434053592332, 3.4506418755825674, 2.7449711761281823, 3.4297690129795027, 4.098698431781038, 4.068480327657641, 2.0344260007804578, 12.838555310610078, 3.3684045315783466, 2.019425559803318, 12.779586524066893, 2.6897592391861487, 2.01601772423888, 2.0126928446227206, 4.659552528615698, 5.939442739303178, 1.9709098738887927, 2.6269143131695643, 1.9699957957083132, 21.648228019693445, 43.16527260223257, 1.9611907445701755, 2.6092646212413637, 4.564111775236053, 2.602498437177395, 15.572401013172456, 8.29201144341601, 5.148309181045581, 14.907613661703637, 5.730840175058926, 6.338963795376283, 32.08514794087716, 20.80425998727524, 11.671756587063388, 41.71304915762941, 19.567943918613086, 8.609760073436783, 12.490350778096117, 14.596579645016035, 10.19931220682276, 9.089938273394157, 32.524734766531914, 17.73161958736185, 51.59693081273494, 10.058130298891337, 10.903859028987284, 28.86750314795563, 15.117215864659011, 10.858132981013213, 18.48157053112031, 15.360956849569597, 11.775528357591009, 29.617176964150612, 14.827759250103806, 24.019533568413014, 15.813467612912175, 23.432421114022222, 13.709625585270192, 18.36266196972882, 25.572387657213373, 14.079181442167396, 35.3392693888834, 18.780205693924582, 18.36441850007478, 16.995459386301786, 17.60191346932412, 15.653207660084393, 15.011004121373238, 3.4237959966405542, 2.264007593460808, 8.309552377261065, 1.6597135547112687, 2.765167153168304, 1.631733460887953, 1.627054376001246, 1.6061997619256645, 1.5758608571902346, 3.6672072054437033, 1.5694605725394968, 3.6581590828494392, 1.5616578936987702, 2.081699676952336, 1.54022487522457, 1.5205156840328677, 1.5109949584502715, 1.5072777204905226, 1.0046597128657335, 1.004430593255378, 3.514509144879913, 1.505906331018449, 1.0037328995183403, 1.0035172678361173, 1.0031034336775053, 2.0059132859582554, 4.010103620473502, 1.0026963434829594, 1.0009542111551388, 1.00056910453177, 1.9997717242926056, 4.443585661513043, 4.42820101538285, 5.3683831767380985, 1.4955547840964678, 4.369612608597249, 1.4948618198926713, 1.4924662237220134, 7.535995525689893, 2.4507719564578507, 2.4378209179321435, 41.984261369552804, 4.642283512717327, 4.2087562783601475, 10.30551840380552, 15.712434314035619, 10.175768739200015, 10.413859047938825, 6.044095444613651, 21.871346009629377, 5.647149573366699, 3.68987042806433, 9.32391604133052, 9.899660690588812, 21.383944837288666, 31.840983472713, 14.59550494108836, 17.452692345349593, 8.775510896893197, 10.870694122780629, 16.987499659766755, 13.991853943691737, 17.90383096015412, 13.661464866902454, 10.791020055462216, 7.150653476666474, 11.380609274693022, 17.049489476792324, 10.188871998628933, 11.67842132651636, 18.60257850726528, 11.953925396215864, 8.15233288291861, 8.81093755322096, 11.956117096953452, 9.824648892038914, 9.173935885869385, 10.66174894955357], \"Total\": [77.0, 10.0, 39.0, 30.0, 17.0, 11.0, 47.0, 18.0, 53.0, 19.0, 8.0, 4.0, 6.0, 6.0, 5.0, 5.0, 5.0, 6.0, 18.0, 19.0, 10.0, 7.0, 9.0, 32.0, 3.0, 5.0, 17.0, 6.0, 51.0, 22.0, 6.633795157615064, 39.72690431669195, 3.308605984296997, 9.085160343038872, 4.948515310523637, 2.4723581006950885, 4.1162226512077815, 3.2898237842216864, 4.111807688444885, 4.930488887560765, 4.924111046747431, 2.4623637151019837, 15.582293999669524, 4.098920222095266, 2.4592189002015012, 15.570607407946813, 3.2783360755514734, 2.45838922954923, 2.4577189318406623, 5.726374511302411, 7.351868094128733, 2.4490616995126144, 3.2649275591628157, 2.448941657412977, 26.93042753969415, 53.82702155178614, 2.4469846200724183, 3.2612362963407153, 5.7068002006461525, 3.2599719169875643, 19.550980367745947, 10.55960717609587, 6.508112522853359, 19.410153830908737, 7.308507889115228, 8.11426679216866, 44.04126503783061, 28.11261642168217, 15.340234810773712, 60.31562766489469, 27.174887347623333, 11.305220212672928, 16.8684902096237, 20.024901072360375, 13.674151428217993, 12.084605501591923, 49.57422424332424, 25.430706235329296, 83.43791428544793, 13.644983785573064, 15.179554668493951, 46.771334108109755, 22.171615982813712, 15.169411526612503, 28.30621942315922, 22.900390570758002, 16.718581456918557, 51.00112180143928, 22.109822983047167, 41.007033228179765, 24.352554398110676, 40.885113459371816, 20.518445916046666, 30.316587365944685, 47.443733666842746, 21.274875490065874, 77.3235307584362, 32.441670560827035, 32.356272443766514, 28.673880712818146, 32.19741841041248, 27.033816934777413, 24.184940007242623, 4.247312132080198, 2.8364424448584153, 10.684221483644892, 2.1376310097343802, 3.5625106869261387, 2.14473581240983, 2.1461969978878566, 2.1517696159773987, 2.1597412202115636, 5.04145622599702, 2.1614668418476737, 5.0434795318845165, 2.163303201417886, 2.8840315719673555, 2.1692235069254404, 2.1742450206190993, 2.176607311382738, 2.1778354590711757, 1.452100265950352, 1.4520747270089855, 5.081339422642957, 2.177847949323403, 1.452250089280202, 1.4522979111040495, 1.452387770617264, 2.904484824878373, 5.808351562152344, 1.452484276422706, 1.4530217396940028, 1.453128150319911, 2.90597078266431, 6.552428487292997, 6.556366065655743, 8.025740890405505, 2.180867416651939, 6.572190186308738, 2.1810498525805238, 2.181551984518407, 11.745088920490764, 3.6456069254820114, 3.64911268016201, 77.3235307584362, 7.358601678264355, 6.614930933929664, 17.87633297183993, 30.185453613558906, 18.77236837887037, 19.56929214944622, 10.422129083885228, 47.443733666842746, 9.668954743237, 5.893119727567373, 18.138740614328942, 19.70271798762233, 51.00112180143928, 83.43791428544793, 32.19741841041248, 40.885113459371816, 17.42475070887984, 22.877813609472845, 41.007033228179765, 32.356272443766514, 46.771334108109755, 32.441670560827035, 23.75841676276533, 13.562652887014874, 27.033816934777413, 49.57422424332424, 23.060726373840225, 28.673880712818146, 60.31562766489469, 30.316587365944685, 16.731410976113054, 20.84907865769572, 44.04126503783061, 28.30621942315922, 24.184940007242623, 53.82702155178614], \"Category\": [\"Default\", \"Default\", \"Default\", \"Default\", \"Default\", \"Default\", \"Default\", \"Default\", \"Default\", \"Default\", \"Default\", \"Default\", \"Default\", \"Default\", \"Default\", \"Default\", \"Default\", \"Default\", \"Default\", \"Default\", \"Default\", \"Default\", \"Default\", \"Default\", \"Default\", \"Default\", \"Default\", \"Default\", \"Default\", \"Default\", \"Topic1\", \"Topic1\", \"Topic1\", \"Topic1\", \"Topic1\", \"Topic1\", \"Topic1\", \"Topic1\", \"Topic1\", \"Topic1\", \"Topic1\", \"Topic1\", \"Topic1\", \"Topic1\", \"Topic1\", \"Topic1\", \"Topic1\", \"Topic1\", \"Topic1\", \"Topic1\", \"Topic1\", \"Topic1\", \"Topic1\", \"Topic1\", \"Topic1\", \"Topic1\", \"Topic1\", \"Topic1\", \"Topic1\", \"Topic1\", \"Topic1\", \"Topic1\", \"Topic1\", \"Topic1\", \"Topic1\", \"Topic1\", \"Topic1\", \"Topic1\", \"Topic1\", \"Topic1\", \"Topic1\", \"Topic1\", \"Topic1\", \"Topic1\", \"Topic1\", \"Topic1\", \"Topic1\", \"Topic1\", \"Topic1\", \"Topic1\", \"Topic1\", \"Topic1\", \"Topic1\", \"Topic1\", \"Topic1\", \"Topic1\", \"Topic1\", \"Topic1\", \"Topic1\", \"Topic1\", \"Topic1\", \"Topic1\", \"Topic1\", \"Topic1\", \"Topic1\", \"Topic1\", \"Topic1\", \"Topic1\", \"Topic1\", \"Topic1\", \"Topic1\", \"Topic1\", \"Topic1\", \"Topic2\", \"Topic2\", \"Topic2\", \"Topic2\", \"Topic2\", \"Topic2\", \"Topic2\", \"Topic2\", \"Topic2\", \"Topic2\", \"Topic2\", \"Topic2\", \"Topic2\", \"Topic2\", \"Topic2\", \"Topic2\", \"Topic2\", \"Topic2\", \"Topic2\", \"Topic2\", \"Topic2\", \"Topic2\", \"Topic2\", \"Topic2\", \"Topic2\", \"Topic2\", \"Topic2\", \"Topic2\", \"Topic2\", \"Topic2\", \"Topic2\", \"Topic2\", \"Topic2\", \"Topic2\", \"Topic2\", \"Topic2\", \"Topic2\", \"Topic2\", \"Topic2\", \"Topic2\", \"Topic2\", \"Topic2\", \"Topic2\", \"Topic2\", \"Topic2\", \"Topic2\", \"Topic2\", \"Topic2\", \"Topic2\", \"Topic2\", \"Topic2\", \"Topic2\", \"Topic2\", \"Topic2\", \"Topic2\", \"Topic2\", \"Topic2\", \"Topic2\", \"Topic2\", \"Topic2\", \"Topic2\", \"Topic2\", \"Topic2\", \"Topic2\", \"Topic2\", \"Topic2\", \"Topic2\", \"Topic2\", \"Topic2\", \"Topic2\", \"Topic2\", \"Topic2\", \"Topic2\", \"Topic2\", \"Topic2\", \"Topic2\", \"Topic2\", \"Topic2\"], \"logprob\": [30.0, 29.0, 28.0, 27.0, 26.0, 25.0, 24.0, 23.0, 22.0, 21.0, 20.0, 19.0, 18.0, 17.0, 16.0, 15.0, 14.0, 13.0, 12.0, 11.0, 10.0, 9.0, 8.0, 7.0, 6.0, 5.0, 4.0, 3.0, 2.0, 1.0, -6.6565, -4.8751, -7.3635, -6.36, -6.9744, -7.6726, -7.1676, -7.3964, -7.1737, -6.9955, -7.0029, -7.696, -5.8537, -7.1917, -7.7034, -5.8583, -7.4167, -7.7051, -7.7067, -6.8673, -6.6246, -7.7277, -7.4404, -7.7281, -5.3313, -4.6411, -7.7326, -7.4471, -6.888, -7.4497, -5.6607, -6.2909, -6.7675, -5.7043, -6.6603, -6.5595, -4.9378, -5.371, -5.949, -4.6754, -5.4323, -6.2533, -5.8812, -5.7254, -6.0839, -6.199, -4.9242, -5.5308, -4.4627, -6.0978, -6.0171, -5.0435, -5.6903, -6.0213, -5.4894, -5.6744, -5.9402, -5.0178, -5.7097, -5.2273, -5.6453, -5.2521, -5.7881, -5.4959, -5.1647, -5.7615, -4.8412, -5.4734, -5.4958, -5.5732, -5.5382, -5.6555, -5.6974, -6.7787, -7.1923, -5.8921, -7.5028, -6.9924, -7.5198, -7.5227, -7.5356, -7.5547, -6.7101, -7.5588, -6.7125, -7.5637, -7.2763, -7.5776, -7.5904, -7.5967, -7.5992, -8.0048, -8.0051, -6.7526, -7.6001, -8.0058, -8.006, -8.0064, -7.3134, -6.6207, -8.0068, -8.0085, -8.0089, -7.3165, -6.518, -6.5215, -6.329, -7.607, -6.5348, -7.6074, -7.6091, -5.9898, -7.1131, -7.1184, -4.2722, -6.4743, -6.5723, -5.6768, -5.255, -5.6895, -5.6663, -6.2104, -4.9243, -6.2783, -6.7039, -5.7769, -5.717, -4.9468, -4.5487, -5.3288, -5.15, -5.8375, -5.6234, -5.177, -5.371, -5.1245, -5.3949, -5.6308, -6.0423, -5.5776, -5.1734, -5.6882, -5.5517, -5.0862, -5.5284, -5.9112, -5.8335, -5.5282, -5.7246, -5.7931, -5.6428], \"loglift\": [30.0, 29.0, 28.0, 27.0, 26.0, 25.0, 24.0, 23.0, 22.0, 21.0, 20.0, 19.0, 18.0, 17.0, 16.0, 15.0, 14.0, 13.0, 12.0, 11.0, 10.0, 9.0, 8.0, 7.0, 6.0, 5.0, 4.0, 3.0, 2.0, 1.0, 0.3719, 0.3634, 0.3605, 0.3539, 0.347, 0.3427, 0.338, 0.3333, 0.333, 0.3296, 0.3235, 0.3234, 0.3207, 0.3181, 0.3173, 0.3168, 0.3165, 0.316, 0.3146, 0.3082, 0.301, 0.2971, 0.2969, 0.2967, 0.296, 0.2936, 0.293, 0.2913, 0.2909, 0.2891, 0.2868, 0.2726, 0.28, 0.2504, 0.2712, 0.2674, 0.1976, 0.2133, 0.241, 0.1456, 0.1859, 0.242, 0.2139, 0.1982, 0.2212, 0.2296, 0.0929, 0.1537, 0.0337, 0.2094, 0.1835, 0.0318, 0.1314, 0.18, 0.088, 0.115, 0.1638, -0.0292, 0.1148, -0.0205, 0.0826, -0.0423, 0.1111, 0.013, -0.1037, 0.1015, -0.2687, -0.0323, -0.0521, -0.0087, -0.0895, -0.0321, 0.0374, 0.6955, 0.6856, 0.6597, 0.658, 0.6577, 0.6377, 0.6341, 0.6186, 0.5959, 0.5928, 0.591, 0.5899, 0.5852, 0.585, 0.5686, 0.5534, 0.546, 0.543, 0.5427, 0.5425, 0.5424, 0.5421, 0.5417, 0.5414, 0.5409, 0.5409, 0.5406, 0.5405, 0.5383, 0.5379, 0.5373, 0.5227, 0.5186, 0.5089, 0.5338, 0.5029, 0.5333, 0.5314, 0.4673, 0.5139, 0.5077, 0.3003, 0.4504, 0.4589, 0.3602, 0.2581, 0.2987, 0.2802, 0.3662, 0.1367, 0.3733, 0.4428, 0.2456, 0.2228, 0.0418, -0.0523, 0.1199, 0.0598, 0.2251, 0.1669, 0.0298, 0.0727, -0.0492, 0.0462, 0.1218, 0.2709, 0.0459, -0.1563, 0.0942, 0.0128, -0.2653, -0.0196, 0.1921, 0.0497, -0.3928, -0.1471, -0.0583, -0.7081]}, \"token.table\": {\"Topic\": [1, 1, 2, 1, 2, 1, 2, 2, 1, 2, 1, 2, 1, 2, 1, 2, 1, 2, 1, 2, 1, 2, 1, 2, 1, 2, 1, 2, 1, 2, 1, 2, 1, 2, 2, 1, 2, 1, 2, 1, 2, 1, 2, 1, 2, 1, 2, 1, 2, 1, 2, 1, 2, 1, 2, 1, 2, 1, 2, 1, 2, 1, 2, 1, 2, 1, 2, 1, 2, 1, 2, 1, 2, 1, 2, 1, 2, 1, 2, 1, 2, 1, 2, 2, 1, 2, 1, 2, 1, 2, 1, 2, 1, 2, 1, 2, 1, 2, 1, 2, 1, 1, 2, 1, 2, 1, 2, 1, 2, 1, 2, 1, 2, 1, 2, 1, 2, 1, 2, 1, 2, 1, 1, 2, 1, 2, 1, 2, 1, 2, 1, 2, 1, 2, 1, 2, 1, 2, 1, 2, 1, 2, 2, 1, 1, 2, 1, 2, 1, 2, 1, 2, 1, 2, 1, 2, 1, 1, 2, 1, 2, 1, 2, 1, 2, 2, 1, 1, 2, 1, 2, 1, 2, 1, 2, 2, 1, 2, 1, 2, 2, 1, 2, 1, 2, 2, 1, 2, 1, 2, 1, 2, 1, 2, 1, 2, 1, 2, 1, 2, 1, 2, 1, 2, 1, 2, 1, 2, 1, 2, 1, 2, 1, 2, 1, 2, 1, 2, 1, 2, 1, 2, 1, 2, 1, 2, 1, 2, 1, 2, 1, 1, 2, 1, 2, 1, 2, 1, 2, 1, 2, 1, 1, 2, 1, 2], \"Freq\": [0.9067262811704765, 0.6784314832145575, 0.31660135883346013, 0.5471745078726737, 0.4629938143538008, 0.6570152657678209, 0.3695710869943992, 0.6885639594701278, 0.682312883601538, 0.341156441800769, 0.6656685102731354, 0.34292014165585766, 0.4591715117112152, 0.9183430234224303, 0.46099445115148824, 0.9219889023029765, 0.4423913263860426, 0.5161232141170496, 0.7113855390065578, 0.23712851300218593, 0.344295136760398, 0.688590273520796, 0.7576039398615001, 0.18940098496537502, 0.4637995565424064, 0.5300566360484645, 0.8123293650418704, 0.2030823412604676, 0.6580532048959433, 0.32902660244797166, 0.45849479268749554, 0.45849479268749554, 0.5563063554766096, 0.4326827209262519, 0.688170551083087, 0.7359736121132132, 0.2943894448452853, 0.7960924095853682, 0.26536413652845603, 0.8089443027843386, 0.6886576798094124, 0.9044596430012587, 0.15074327383354313, 0.7246589402804511, 0.26351234192016404, 0.6202206826028088, 0.3721324095616853, 0.8112785752527878, 0.20281964381319695, 0.7490673709596469, 0.24968912365321563, 0.6963369465927837, 0.31500957107768784, 0.4622560533098521, 0.9245121066197042, 0.585265455963475, 0.41456303130746147, 0.49617557201795637, 0.49617557201795637, 0.9150983702899793, 0.3050327900966598, 0.7394383440523293, 0.2464794480174431, 0.3525543068263866, 0.7051086136527732, 0.47942805182377185, 0.5326978353597465, 0.6765406730671875, 0.31571898076468746, 0.7313068055809291, 0.21939204167427873, 0.5590510323081956, 0.46587586025682964, 0.8805568309126948, 0.11006960386408685, 0.8342802414250244, 0.19252620955962102, 0.7296061069272969, 0.24320203564243228, 0.6550106625322722, 0.3493390200172119, 0.45838926007566905, 0.45838926007566905, 0.688220948580297, 0.3023463162315862, 0.6046926324631724, 0.5480175776758218, 0.46370718111031084, 0.7988552730644843, 0.2043583256676588, 0.5918513112152114, 0.4068977764604579, 0.8558431769302072, 0.15103114887003657, 0.19835538685099574, 0.793421547403983, 0.920253326222578, 0.3067511087408593, 0.4662578925636523, 0.9325157851273046, 0.8135408241951662, 0.4630184350984616, 0.9260368701969232, 0.464733767302393, 0.929467534604786, 0.8083232543493398, 0.20208081358733496, 0.3737972656937375, 0.6229954428228959, 0.7078057460706192, 0.3145803315869419, 0.7319000706157863, 0.2439666902052621, 0.46594045233691644, 0.9318809046738329, 0.768271904095451, 0.15365438081909022, 0.575565002032865, 0.43167375152464876, 0.3837987389913285, 0.5756981084869928, 0.8173324767120155, 0.7288235487260973, 0.2429411829086991, 0.746995572557363, 0.2489985241857877, 0.33937881673169096, 0.6787576334633819, 0.8209610075041409, 0.27365366916804695, 0.7822566048058269, 0.2607522016019423, 0.5165066720531906, 0.5165066720531906, 0.2807009123284443, 0.842102736985333, 0.18719192624952077, 0.7487677049980831, 0.4076861516857641, 0.6794769194762734, 0.23544302111609391, 0.7063290633482817, 0.6884756112216786, 0.8132663586133491, 0.30504703062213284, 0.6100940612442657, 0.4599297643626466, 0.9198595287252932, 0.8761477227525637, 0.17522954455051273, 0.4136951828012041, 0.6205427742018061, 0.30523034381505465, 0.6104606876301093, 0.4626487812069215, 0.925297562413843, 0.8166793169392071, 0.5379104017496813, 0.47814257933305004, 0.34673684217605333, 0.6934736843521067, 0.9119029458016233, 0.3039676486005411, 0.274302748606882, 0.548605497213764, 0.6886697918500526, 0.8122276931444979, 0.592874057413528, 0.41849933464484335, 0.3441190826712855, 0.688238165342571, 0.8161191037678781, 0.1360198506279797, 0.5075441878771353, 0.5075441878771353, 0.6885213578843344, 0.4594305986065662, 0.9188611972131324, 0.39359700930187813, 0.7871940186037563, 0.6885866335154734, 0.8349064143358438, 0.19267071100057934, 0.4599042178566835, 0.5110046865074261, 0.9356151697333946, 0.34056787709980674, 0.6811357541996135, 0.3043125568956332, 0.6086251137912664, 0.8183732835411085, 0.20459332088527712, 0.6232178793696083, 0.383518694996682, 0.6359026520254057, 0.35327925112522546, 0.7251434889680537, 0.26368854144292864, 0.7328700537242901, 0.2931480214897161, 0.19827581210116382, 0.7931032484046553, 0.7177642451856528, 0.299068435494022, 0.8731528107585818, 0.17463056215171635, 0.34433177444563623, 0.6886635488912725, 0.5856665107419682, 0.4315437447572397, 0.918856527637401, 0.306285509212467, 0.5625519426002196, 0.4157992619219015, 0.27403922203783604, 0.5480784440756721, 0.8169198193223283, 0.18566359530052917, 0.5882223555159797, 0.41175564886118576, 0.4591688783005592, 0.9183377566011184, 0.45264358283563516, 0.5431722994027621, 0.7447491768609589, 0.24824972562031963, 0.7727914024109378, 0.25759713413697927, 0.5937343732896471, 0.3958229155264314, 0.8166392869554974, 0.44751907522656736, 0.5593988440332093, 0.524525647635806, 0.4808151769994888, 0.6200379046911053, 0.38485111325654814, 0.45853314711592924, 0.45853314711592924, 0.7265912996030565, 0.2724717373511462, 0.8137627025162465, 0.9198965445607739, 0.30663218152025795, 0.5637289905467602, 0.4336376850359694], \"Term\": [\"accu\", \"accueil\", \"accueil\", \"agent\", \"agent\", \"alor\", \"alor\", \"apport\", \"attent\", \"attent\", \"aucun\", \"aucun\", \"auparav\", \"auparav\", \"aupr\", \"aupr\", \"autr\", \"autr\", \"avoir\", \"avoir\", \"balad\", \"balad\", \"born\", \"born\", \"cart\", \"cart\", \"catastroph\", \"catastroph\", \"cela\", \"cela\", \"centim\", \"centim\", \"cett\", \"cett\", \"combler\", \"comm\", \"comm\", \"comment\", \"comment\", \"compltement\", \"compos\", \"coup\", \"coup\", \"courrier\", \"courrier\", \"dattent\", \"dattent\", \"davoir\", \"davoir\", \"debout\", \"debout\", \"demand\", \"demand\", \"denvoi\", \"denvoi\", \"depui\", \"depui\", \"deux\", \"deux\", \"devait\", \"devait\", \"devant\", \"devant\", \"difficult\", \"difficult\", \"document\", \"document\", \"donc\", \"donc\", \"donn\", \"donn\", \"dossier\", \"dossier\", \"dplace\", \"dplace\", \"dsagrabl\", \"dsagrabl\", \"enfant\", \"enfant\", \"envoy\", \"envoy\", \"exact\", \"exact\", \"existetil\", \"exprienc\", \"exprienc\", \"fair\", \"fair\", \"fait\", \"fait\", \"faut\", \"faut\", \"ferm\", \"ferm\", \"fermetur\", \"fermetur\", \"fich\", \"fich\", \"financir\", \"financir\", \"foutag\", \"gard\", \"gard\", \"gardien\", \"gardien\", \"gueul\", \"gueul\", \"handicap\", \"handicap\", \"heur\", \"heur\", \"ignor\", \"ignor\", \"ijss\", \"ijss\", \"indiqu\", \"indiqu\", \"inform\", \"inform\", \"internet\", \"internet\", \"invalid\", \"jeudi\", \"jeudi\", \"jour\", \"jour\", \"journ\", \"journ\", \"jtai\", \"jtai\", \"just\", \"just\", \"laccueil\", \"laccueil\", \"lattent\", \"lattent\", \"lentr\", \"lentr\", \"lign\", \"lign\", \"ltranger\", \"ltranger\", \"lutilis\", \"maider\", \"malad\", \"malad\", \"malheur\", \"malheur\", \"marqu\", \"marqu\", \"mauvai\", \"mauvai\", \"mauvais\", \"mauvais\", \"mchant\", \"mchant\", \"menac\", \"minut\", \"minut\", \"moindr\", \"moindr\", \"moment\", \"moment\", \"moyen\", \"moyen\", \"mthode\", \"nallait\", \"nest\", \"nest\", \"notion\", \"notion\", \"ntait\", \"ntait\", \"numro\", \"numro\", \"obligatoir\", \"offic\", \"offic\", \"oubli\", \"oubli\", \"oublier\", \"ouvert\", \"ouvert\", \"pari\", \"pari\", \"parlent\", \"part\", \"part\", \"payer\", \"payer\", \"perdu\", \"perdu\", \"personn\", \"personn\", \"personnel\", \"personnel\", \"pire\", \"pire\", \"place\", \"place\", \"prioritair\", \"prioritair\", \"problm\", \"problm\", \"procdur\", \"procdur\", \"publiqu\", \"publiqu\", \"quil\", \"quil\", \"recommand\", \"recommand\", \"rien\", \"rien\", \"risqu\", \"risqu\", \"rpons\", \"rpons\", \"scurit\", \"scurit\", \"sert\", \"sert\", \"servic\", \"servic\", \"seul\", \"seul\", \"site\", \"site\", \"social\", \"social\", \"supprim\", \"temp\", \"temp\", \"tlphone\", \"tlphone\", \"toujour\", \"toujour\", \"transfert\", \"transfert\", \"travail\", \"travail\", \"tudiant\", \"veut\", \"veut\", \"vital\", \"vital\"]}, \"R\": 30, \"lambda.step\": 0.01, \"plot.opts\": {\"xlab\": \"PC1\", \"ylab\": \"PC2\"}, \"topic.order\": [1, 2]};\n",
              "\n",
              "function LDAvis_load_lib(url, callback){\n",
              "  var s = document.createElement('script');\n",
              "  s.src = url;\n",
              "  s.async = true;\n",
              "  s.onreadystatechange = s.onload = callback;\n",
              "  s.onerror = function(){console.warn(\"failed to load library \" + url);};\n",
              "  document.getElementsByTagName(\"head\")[0].appendChild(s);\n",
              "}\n",
              "\n",
              "if(typeof(LDAvis) !== \"undefined\"){\n",
              "   // already loaded: just create the visualization\n",
              "   !function(LDAvis){\n",
              "       new LDAvis(\"#\" + \"ldavis_el50771398106451086401480398331\", ldavis_el50771398106451086401480398331_data);\n",
              "   }(LDAvis);\n",
              "}else if(typeof define === \"function\" && define.amd){\n",
              "   // require.js is available: use it to load d3/LDAvis\n",
              "   require.config({paths: {d3: \"https://d3js.org/d3.v5\"}});\n",
              "   require([\"d3\"], function(d3){\n",
              "      window.d3 = d3;\n",
              "      LDAvis_load_lib(\"https://cdn.jsdelivr.net/gh/bmabey/pyLDAvis@3.4.0/pyLDAvis/js/ldavis.v3.0.0.js\", function(){\n",
              "        new LDAvis(\"#\" + \"ldavis_el50771398106451086401480398331\", ldavis_el50771398106451086401480398331_data);\n",
              "      });\n",
              "    });\n",
              "}else{\n",
              "    // require.js not available: dynamically load d3 & LDAvis\n",
              "    LDAvis_load_lib(\"https://d3js.org/d3.v5.js\", function(){\n",
              "         LDAvis_load_lib(\"https://cdn.jsdelivr.net/gh/bmabey/pyLDAvis@3.4.0/pyLDAvis/js/ldavis.v3.0.0.js\", function(){\n",
              "                 new LDAvis(\"#\" + \"ldavis_el50771398106451086401480398331\", ldavis_el50771398106451086401480398331_data);\n",
              "            })\n",
              "         });\n",
              "}\n",
              "</script>"
            ]
          },
          "metadata": {}
        }
      ]
    },
    {
      "cell_type": "markdown",
      "source": [
        "### Pour les avis à cinq étoiles"
      ],
      "metadata": {
        "id": "yw6Dxe944Lq-"
      }
    },
    {
      "cell_type": "code",
      "source": [
        "data_one_five_reviews = data[data['review_rate'] == 5]"
      ],
      "metadata": {
        "colab": {
          "base_uri": "https://localhost:8080/"
        },
        "id": "81BD0hxn4Pe6",
        "outputId": "44c08a08-fca1-4295-8f3d-8518be418902"
      },
      "execution_count": null,
      "outputs": [
        {
          "output_type": "stream",
          "name": "stderr",
          "text": [
            "/usr/local/lib/python3.10/dist-packages/ipykernel/ipkernel.py:283: DeprecationWarning: `should_run_async` will not call `transform_cell` automatically in the future. Please pass the result to `transformed_cell` argument and any exception that happen during thetransform in `preprocessing_exc_tuple` in IPython 7.17 and above.\n",
            "  and should_run_async(code)\n"
          ]
        }
      ]
    },
    {
      "cell_type": "code",
      "source": [
        "# Créer un dictionnaire de mots\n",
        "\n",
        "#le dictionnaire créé  contient tous les mots uniques de l'ensemble de données.\n",
        "\n",
        "dictionary = Dictionary(data_one_five_reviews[\"review_text\"])"
      ],
      "metadata": {
        "colab": {
          "base_uri": "https://localhost:8080/"
        },
        "id": "3Mj0OPqh5LOV",
        "outputId": "183e83f5-92dc-40c4-84a8-ff01ff78c5bb"
      },
      "execution_count": null,
      "outputs": [
        {
          "output_type": "stream",
          "name": "stderr",
          "text": [
            "/usr/local/lib/python3.10/dist-packages/ipykernel/ipkernel.py:283: DeprecationWarning: `should_run_async` will not call `transform_cell` automatically in the future. Please pass the result to `transformed_cell` argument and any exception that happen during thetransform in `preprocessing_exc_tuple` in IPython 7.17 and above.\n",
            "  and should_run_async(code)\n"
          ]
        }
      ]
    },
    {
      "cell_type": "code",
      "source": [
        "# Créer un corpus de documents\n",
        "\n",
        "#La méthode \"doc2bow\" transforme chaque liste de mots prétraités en un sac de mots, \n",
        "\n",
        "#c'est-à-dire un vecteur de paires (mot_id, fréquence) qui représente le nombre d'occurrences de chaque mot dans le document.\n",
        "\n",
        "corpus = [dictionary.doc2bow(text) for text in data_one_five_reviews[\"review_text\"]]"
      ],
      "metadata": {
        "colab": {
          "base_uri": "https://localhost:8080/"
        },
        "id": "BCh8C-YB5SZw",
        "outputId": "2eb9aa98-9ce5-4f7d-f0e6-6e137269ee8c"
      },
      "execution_count": null,
      "outputs": [
        {
          "output_type": "stream",
          "name": "stderr",
          "text": [
            "/usr/local/lib/python3.10/dist-packages/ipykernel/ipkernel.py:283: DeprecationWarning: `should_run_async` will not call `transform_cell` automatically in the future. Please pass the result to `transformed_cell` argument and any exception that happen during thetransform in `preprocessing_exc_tuple` in IPython 7.17 and above.\n",
            "  and should_run_async(code)\n"
          ]
        }
      ]
    },
    {
      "cell_type": "code",
      "source": [
        "#mesure la similarité entre les mots dans un sujet donné en utilisant la log-probabilité négative de ces mots\n",
        "\n",
        "#Plus la valeur de UMass est proche de zéro, plus le modèle est cohérent.\n",
        "cohereence_liste = []\n",
        "\n",
        "for K in range(1,10):\n",
        "    lda_model = LdaModel(corpus=corpus, id2word=dictionary, num_topics=K)\n",
        "    coherence_model = CoherenceModel(model=lda_model, corpus=corpus, coherence='u_mass')\n",
        "    \n",
        "    # Calculate the coherence score for the topics\n",
        "    cohereence_liste.append(coherence_model.get_coherence())"
      ],
      "metadata": {
        "colab": {
          "base_uri": "https://localhost:8080/"
        },
        "id": "u8LmTMPh5aEC",
        "outputId": "8d658b0c-35f1-4b4b-c1db-46795d48c0fe"
      },
      "execution_count": null,
      "outputs": [
        {
          "output_type": "stream",
          "name": "stderr",
          "text": [
            "/usr/local/lib/python3.10/dist-packages/ipykernel/ipkernel.py:283: DeprecationWarning: `should_run_async` will not call `transform_cell` automatically in the future. Please pass the result to `transformed_cell` argument and any exception that happen during thetransform in `preprocessing_exc_tuple` in IPython 7.17 and above.\n",
            "  and should_run_async(code)\n",
            "WARNING:gensim.models.ldamodel:too few updates, training might not converge; consider increasing the number of passes or iterations to improve accuracy\n",
            "WARNING:gensim.models.ldamodel:too few updates, training might not converge; consider increasing the number of passes or iterations to improve accuracy\n",
            "WARNING:gensim.models.ldamodel:too few updates, training might not converge; consider increasing the number of passes or iterations to improve accuracy\n",
            "WARNING:gensim.models.ldamodel:too few updates, training might not converge; consider increasing the number of passes or iterations to improve accuracy\n",
            "WARNING:gensim.models.ldamodel:too few updates, training might not converge; consider increasing the number of passes or iterations to improve accuracy\n",
            "WARNING:gensim.models.ldamodel:too few updates, training might not converge; consider increasing the number of passes or iterations to improve accuracy\n",
            "WARNING:gensim.models.ldamodel:too few updates, training might not converge; consider increasing the number of passes or iterations to improve accuracy\n",
            "WARNING:gensim.models.ldamodel:too few updates, training might not converge; consider increasing the number of passes or iterations to improve accuracy\n",
            "WARNING:gensim.models.ldamodel:too few updates, training might not converge; consider increasing the number of passes or iterations to improve accuracy\n"
          ]
        }
      ]
    },
    {
      "cell_type": "code",
      "source": [
        "cohereence_liste"
      ],
      "metadata": {
        "colab": {
          "base_uri": "https://localhost:8080/"
        },
        "id": "0i7IjLP25jfx",
        "outputId": "6b8da444-2d9d-4b3e-a4a4-29062d3fae1a"
      },
      "execution_count": null,
      "outputs": [
        {
          "output_type": "stream",
          "name": "stderr",
          "text": [
            "/usr/local/lib/python3.10/dist-packages/ipykernel/ipkernel.py:283: DeprecationWarning: `should_run_async` will not call `transform_cell` automatically in the future. Please pass the result to `transformed_cell` argument and any exception that happen during thetransform in `preprocessing_exc_tuple` in IPython 7.17 and above.\n",
            "  and should_run_async(code)\n"
          ]
        },
        {
          "output_type": "execute_result",
          "data": {
            "text/plain": [
              "[-3.372986582412609,\n",
              " -3.773413161314534,\n",
              " -6.263852838090472,\n",
              " -6.118976250116827,\n",
              " -8.06173110448502,\n",
              " -7.615652855377571,\n",
              " -7.8578959418820675,\n",
              " -8.687011385116598,\n",
              " -9.712058203886194]"
            ]
          },
          "metadata": {},
          "execution_count": 66
        }
      ]
    },
    {
      "cell_type": "code",
      "source": [
        "# la valeur proche du 0 c'est le nombre optimal des topics\n",
        "\n",
        "min_value = max(cohereence_liste)\n",
        "optimal_topics_number = cohereence_liste.index(min_value)+1\n",
        "\n",
        "optimal_topics_number"
      ],
      "metadata": {
        "colab": {
          "base_uri": "https://localhost:8080/"
        },
        "id": "iVO5eGTq5qqE",
        "outputId": "9148db7d-0093-4189-ebcc-84ee67c8cf7c"
      },
      "execution_count": null,
      "outputs": [
        {
          "output_type": "stream",
          "name": "stderr",
          "text": [
            "/usr/local/lib/python3.10/dist-packages/ipykernel/ipkernel.py:283: DeprecationWarning: `should_run_async` will not call `transform_cell` automatically in the future. Please pass the result to `transformed_cell` argument and any exception that happen during thetransform in `preprocessing_exc_tuple` in IPython 7.17 and above.\n",
            "  and should_run_async(code)\n"
          ]
        },
        {
          "output_type": "execute_result",
          "data": {
            "text/plain": [
              "1"
            ]
          },
          "metadata": {},
          "execution_count": 67
        }
      ]
    },
    {
      "cell_type": "code",
      "source": [
        "# Tracer le graphique\n",
        "sns.set(style=\"darkgrid\")\n",
        "sns.lineplot(x=range(1,10), y=cohereence_liste, marker=\"o\")\n",
        "plt.title('Nombre optimal de sujets')\n",
        "plt.xlabel('Nombre de sujets')\n",
        "plt.ylabel('Cohérence UMass')\n",
        "plt.show()"
      ],
      "metadata": {
        "colab": {
          "base_uri": "https://localhost:8080/",
          "height": 537
        },
        "id": "IW0b94255u1-",
        "outputId": "e2fcaa86-fafa-4ed1-d206-64dfca4561f8"
      },
      "execution_count": null,
      "outputs": [
        {
          "output_type": "stream",
          "name": "stderr",
          "text": [
            "/usr/local/lib/python3.10/dist-packages/ipykernel/ipkernel.py:283: DeprecationWarning: `should_run_async` will not call `transform_cell` automatically in the future. Please pass the result to `transformed_cell` argument and any exception that happen during thetransform in `preprocessing_exc_tuple` in IPython 7.17 and above.\n",
            "  and should_run_async(code)\n"
          ]
        },
        {
          "output_type": "display_data",
          "data": {
            "text/plain": [
              "<Figure size 640x480 with 1 Axes>"
            ],
            "image/png": "[encoded data removed]"
          },
          "metadata": {}
        }
      ]
    },
    {
      "cell_type": "code",
      "source": [
        "# Afficher les sujets \n",
        "\n",
        "# cela nous donne chaque termm avec le pourcentage d'existance par rapport au document \n",
        "topics = lda_model.show_topics(num_topics=2, num_words=10)\n",
        "for topic in topics:\n",
        "    print(topic)"
      ],
      "metadata": {
        "colab": {
          "base_uri": "https://localhost:8080/"
        },
        "id": "Pdqqb43o536C",
        "outputId": "777de09c-f4f6-4666-90fc-63272ded78ed"
      },
      "execution_count": null,
      "outputs": [
        {
          "output_type": "stream",
          "name": "stdout",
          "text": [
            "(4, '0.024*\"servic\" + 0.020*\"personnel\" + 0.012*\"grand\" + 0.010*\"rapid\" + 0.010*\"gentilless\" + 0.010*\"peut\" + 0.009*\"problm\" + 0.009*\"dossier\" + 0.009*\"agent\" + 0.009*\"rendezv\"')\n",
            "(2, '0.016*\"agrabl\" + 0.012*\"accueil\" + 0.011*\"vraiment\" + 0.011*\"rapid\" + 0.010*\"aimabl\" + 0.010*\"rendezv\" + 0.010*\"efficac\" + 0.010*\"temp\" + 0.010*\"parfait\" + 0.010*\"madam\"')\n"
          ]
        },
        {
          "output_type": "stream",
          "name": "stderr",
          "text": [
            "/usr/local/lib/python3.10/dist-packages/ipykernel/ipkernel.py:283: DeprecationWarning: `should_run_async` will not call `transform_cell` automatically in the future. Please pass the result to `transformed_cell` argument and any exception that happen during thetransform in `preprocessing_exc_tuple` in IPython 7.17 and above.\n",
            "  and should_run_async(code)\n"
          ]
        }
      ]
    },
    {
      "cell_type": "code",
      "source": [
        "K=2\n",
        "\n",
        "lda_model = LdaModel(corpus=corpus, id2word=dictionary, num_topics=K)"
      ],
      "metadata": {
        "colab": {
          "base_uri": "https://localhost:8080/"
        },
        "id": "dnjf5ytZ6Aws",
        "outputId": "8e7e25f0-3dba-4a60-cd25-15982d3e1096"
      },
      "execution_count": null,
      "outputs": [
        {
          "output_type": "stream",
          "name": "stderr",
          "text": [
            "/usr/local/lib/python3.10/dist-packages/ipykernel/ipkernel.py:283: DeprecationWarning: `should_run_async` will not call `transform_cell` automatically in the future. Please pass the result to `transformed_cell` argument and any exception that happen during thetransform in `preprocessing_exc_tuple` in IPython 7.17 and above.\n",
            "  and should_run_async(code)\n",
            "WARNING:gensim.models.ldamodel:too few updates, training might not converge; consider increasing the number of passes or iterations to improve accuracy\n"
          ]
        }
      ]
    },
    {
      "cell_type": "code",
      "source": [
        "from IPython.display import display\n",
        "\n",
        "# Générer la visualisation pyLDAvis\n",
        "vis = gensimvis.prepare(lda_model, corpus, dictionary)\n",
        "\n",
        "# Afficher la visualisation\n",
        "display(pyLDAvis.display(vis))"
      ],
      "metadata": {
        "colab": {
          "base_uri": "https://localhost:8080/",
          "height": 917
        },
        "id": "_a9TUAkK6Cn8",
        "outputId": "9049b29f-539d-4867-e199-d6d91f4fc7ce"
      },
      "execution_count": null,
      "outputs": [
        {
          "output_type": "stream",
          "name": "stderr",
          "text": [
            "/usr/local/lib/python3.10/dist-packages/ipykernel/ipkernel.py:283: DeprecationWarning: `should_run_async` will not call `transform_cell` automatically in the future. Please pass the result to `transformed_cell` argument and any exception that happen during thetransform in `preprocessing_exc_tuple` in IPython 7.17 and above.\n",
            "  and should_run_async(code)\n"
          ]
        },
        {
          "output_type": "display_data",
          "data": {
            "text/plain": [
              "<IPython.core.display.HTML object>"
            ],
            "text/html": [
              "\n",
              "<link rel=\"stylesheet\" type=\"text/css\" href=\"https://cdn.jsdelivr.net/gh/bmabey/pyLDAvis@3.4.0/pyLDAvis/js/ldavis.v1.0.0.css\">\n",
              "\n",
              "\n",
              "<div id=\"ldavis_el50771398106200663843280192063\" style=\"background-color:white;\"></div>\n",
              "<script type=\"text/javascript\">\n",
              "\n",
              "var ldavis_el50771398106200663843280192063_data = {\"mdsDat\": {\"x\": [0.02348968898615331, -0.02348968898615331], \"y\": [0.0, 0.0], \"topics\": [1, 2], \"cluster\": [1, 1], \"Freq\": [55.13953457506114, 44.86046542493886]}, \"tinfo\": {\"Term\": [\"quand\", \"grand\", \"chanc\", \"agenc\", \"gentil\", \"efficac\", \"rien\", \"chang\", \"sympathiqu\", \"aucun\", \"reue\", \"donner\", \"comm\", \"faut\", \"tait\", \"tomb\", \"alor\", \"laccueil\", \"femm\", \"avant\", \"dire\", \"professionnel\", \"clairement\", \"bureau\", \"monsieur\", \"sant\", \"ingrid\", \"javai\", \"dplacer\", \"venu\", \"reue\", \"donner\", \"souci\", \"pass\", \"grand\", \"comm\", \"bureau\", \"franc\", \"cart\", \"vendredi\", \"midi\", \"venu\", \"assez\", \"monsieur\", \"nguyen\", \"vive\", \"mont\", \"compt\", \"vite\", \"mauvai\", \"rgler\", \"quip\", \"ladministr\", \"souvent\", \"debout\", \"super\", \"minut\", \"flicit\", \"professionnel\", \"amabilit\", \"fair\", \"organi\", \"bonn\", \"parfait\", \"traor\", \"conseil\", \"excel\", \"accueil\", \"beaucoup\", \"aimabl\", \"servic\", \"vraiment\", \"problm\", \"demand\", \"dame\", \"personnel\", \"fait\", \"agrabl\", \"personn\", \"trait\", \"rapid\", \"serviabl\", \"davoir\", \"dune\", \"dossier\", \"comptent\", \"dmarch\", \"professionnalism\", \"rendezv\", \"madam\", \"tait\", \"cett\", \"quand\", \"chanc\", \"chang\", \"clairement\", \"ingrid\", \"caiss\", \"prend\", \"sympathiqu\", \"dbloqu\", \"rien\", \"aucun\", \"tomb\", \"franais\", \"totalit\", \"paul\", \"alor\", \"fatoum\", \"sappel\", \"rencontr\", \"systm\", \"jallai\", \"vision\", \"dattendr\", \"assurezv\", \"agenc\", \"priod\", \"import\", \"dplacer\", \"comprhens\", \"patiem\", \"bienveil\", \"rendr\", \"tomber\", \"sant\", \"font\", \"gentil\", \"voulai\", \"efficac\", \"faut\", \"avant\", \"javai\", \"fatoumata\", \"femm\", \"expliqu\", \"laccueil\", \"tait\", \"dire\", \"exprienc\", \"social\", \"cett\", \"dossier\", \"gentilless\", \"personn\", \"rendezv\", \"scurit\", \"personnel\", \"aussi\", \"peut\", \"rapid\", \"agrabl\", \"accueil\", \"centr\", \"beaucoup\", \"madam\", \"servic\", \"comptent\", \"vraiment\", \"fait\", \"problm\", \"attent\"], \"Freq\": [5.0, 11.0, 4.0, 7.0, 11.0, 12.0, 4.0, 3.0, 4.0, 4.0, 4.0, 4.0, 6.0, 6.0, 14.0, 3.0, 3.0, 8.0, 5.0, 4.0, 7.0, 10.0, 2.0, 5.0, 6.0, 3.0, 2.0, 4.0, 2.0, 5.0, 3.8133699317991616, 3.781042312398322, 2.4610096762901166, 2.3979271981969448, 9.58030574133641, 5.33904964733409, 4.133129903676124, 1.7610077371167292, 2.9232311340627084, 1.7507426739310308, 1.7482862096290097, 4.07192366889794, 2.291140364425735, 5.154549956733789, 1.7079951036617327, 1.7074446302628925, 3.3933073852910285, 2.2513226455590454, 2.8132194043002157, 3.358515292622116, 1.6785574338504912, 3.345984121095388, 1.666343617603583, 1.6662871257894647, 1.6651744515772078, 5.54628336014266, 4.434919185904383, 1.6489648763564897, 7.69030302267188, 1.6473965491827611, 5.4695340105331045, 2.190283025878197, 6.235437154798297, 3.731395017875024, 2.7091108545872236, 7.633543480259696, 3.7223998048603577, 13.526810718063373, 12.457158383163138, 7.499948205818392, 11.97525317511017, 9.583163226010045, 9.071484686657897, 6.824871885206569, 7.076505017532711, 13.07080650622333, 7.720679314700993, 9.405117045840836, 11.152064184949362, 6.450565419858355, 8.710894147743138, 4.958266788794638, 5.306863901046175, 4.914951440039136, 9.789361493921863, 6.335294659744564, 5.2157596239259965, 5.453170548750382, 6.670979602512889, 6.081353801057371, 6.62082002019675, 6.117104681376537, 4.593599123154796, 3.9061645730610923, 2.7888836457587387, 1.6679568168499195, 1.6379834890326765, 1.6083510845481377, 1.594206838703945, 3.1844389535016906, 1.5762423898360889, 3.6696603557161795, 3.135720892902219, 2.5844385554331337, 1.0326942414198457, 1.0289994702571565, 1.0281413441210845, 2.5660394002270586, 1.0261748099074228, 1.025562078757246, 1.025506111479761, 1.5375521294615613, 1.527210633228095, 1.0166196481048144, 1.0118279881170742, 1.0096574816842214, 5.047700624678163, 1.0089944847047858, 1.0083384690905248, 2.0158508099686956, 1.0058670658186373, 1.0052059305365815, 2.009881975456394, 1.5027415300707696, 1.4961570555061345, 2.4496700493861656, 1.9627810317435836, 7.237394641577314, 1.942978156713024, 7.827904106402872, 4.11840924456001, 3.2543875783099736, 2.812240733799801, 1.9371188132778807, 3.6386596036573753, 2.3639993902041803, 5.123406548633951, 8.328121713725054, 4.344805608692641, 4.556218101462719, 4.160415653392579, 6.711146316064284, 8.773009674915034, 4.939804556749954, 8.858982859921262, 6.176296948655871, 4.823908775180087, 9.109313205570569, 3.9268578048636145, 3.604362483675192, 6.309026197935273, 6.340547527123947, 6.564702873035459, 3.540663576971411, 6.1961677756408, 4.642587362586533, 5.960750556853607, 4.3972491584615705, 4.765668830618673, 4.460738624210107, 4.558158455556976, 3.8185610065743707], \"Total\": [5.0, 11.0, 4.0, 7.0, 11.0, 12.0, 4.0, 3.0, 4.0, 4.0, 4.0, 4.0, 6.0, 6.0, 14.0, 3.0, 3.0, 8.0, 5.0, 4.0, 7.0, 10.0, 2.0, 5.0, 6.0, 3.0, 2.0, 4.0, 2.0, 5.0, 4.336971098172028, 4.335917900344846, 2.888569103712603, 2.8864130285891383, 11.544693883343239, 6.492401775865636, 5.049050747745585, 2.163574284459649, 3.6054369325306843, 2.163242802158056, 2.1631418795550417, 5.046742160306325, 2.8827322899216483, 6.485668819424042, 2.161682232072953, 2.161703212502694, 4.322498117394578, 2.881413542023696, 3.6017398169501735, 4.321412230323843, 2.1608073925124462, 4.3209966944556335, 2.160346937249526, 2.160307084355741, 2.1602449310681657, 7.2002887331832985, 5.76032019416037, 2.1597400531643, 10.078286892934166, 2.1597061136999107, 7.19726259981988, 2.8792819253734487, 8.626014136798686, 5.035142274836518, 3.598004216053001, 10.777471666061437, 5.034916121905775, 20.09151359109883, 18.65332615880394, 10.772415192809433, 17.936003731963776, 14.34883205662872, 13.629643142214872, 10.048481184294642, 10.757975050578622, 22.1801197117939, 12.1814179389111, 15.745664572964783, 20.011047044870622, 10.035596736076632, 15.019920345678411, 7.179731602331376, 7.89341781012728, 7.178711690926681, 18.562371168836897, 10.732543818206135, 7.890165636094047, 8.599344872441037, 12.847276551168761, 10.723941163643904, 14.948941733921803, 12.828250997440822, 5.644318619850676, 4.942904777055925, 3.5307343632879373, 2.118672822819473, 2.1197468597270324, 2.1208061003099132, 2.1212509727247455, 4.242509965947267, 2.1219214571275504, 4.951268690033533, 4.24422443608734, 3.537986196629387, 1.4153076135082987, 1.4154575393481221, 1.4154635591964986, 3.5386900701562762, 1.4155335548818067, 1.4155588236880408, 1.4155237726835046, 2.123319003698099, 2.123565324831374, 1.4158572381787526, 1.4160573093003184, 1.4161418631258604, 7.080108194406952, 1.4161457555875243, 1.4161735412042855, 2.8322654304959474, 1.4162599657110175, 1.4162442315281085, 2.832347083801607, 2.1245347716060827, 2.1247296722787876, 3.5427352378762222, 2.8341345135700196, 11.35782003681858, 2.834844173788992, 12.788152542226435, 6.38673821444472, 4.966102846702969, 4.255803519280415, 2.8349708889002647, 5.678388512495914, 3.545752078799529, 8.52908464009616, 14.948941733921803, 7.104835753232958, 7.823458926436047, 7.111458494140674, 12.828250997440822, 18.562371168836897, 9.261462946985155, 20.011047044870622, 12.847276551168761, 9.265493709115944, 22.1801197117939, 7.119874678844356, 6.405195735941126, 15.019920345678411, 15.745664572964783, 20.09151359109883, 6.407455813298527, 18.65332615880394, 10.723941163643904, 17.936003731963776, 10.732543818206135, 14.34883205662872, 12.1814179389111, 13.629643142214872, 7.84936206720811], \"Category\": [\"Default\", \"Default\", \"Default\", \"Default\", \"Default\", \"Default\", \"Default\", \"Default\", \"Default\", \"Default\", \"Default\", \"Default\", \"Default\", \"Default\", \"Default\", \"Default\", \"Default\", \"Default\", \"Default\", \"Default\", \"Default\", \"Default\", \"Default\", \"Default\", \"Default\", \"Default\", \"Default\", \"Default\", \"Default\", \"Default\", \"Topic1\", \"Topic1\", \"Topic1\", \"Topic1\", \"Topic1\", \"Topic1\", \"Topic1\", \"Topic1\", \"Topic1\", \"Topic1\", \"Topic1\", \"Topic1\", \"Topic1\", \"Topic1\", \"Topic1\", \"Topic1\", \"Topic1\", \"Topic1\", \"Topic1\", \"Topic1\", \"Topic1\", \"Topic1\", \"Topic1\", \"Topic1\", \"Topic1\", \"Topic1\", \"Topic1\", \"Topic1\", \"Topic1\", \"Topic1\", \"Topic1\", \"Topic1\", \"Topic1\", \"Topic1\", \"Topic1\", \"Topic1\", \"Topic1\", \"Topic1\", \"Topic1\", \"Topic1\", \"Topic1\", \"Topic1\", \"Topic1\", \"Topic1\", \"Topic1\", \"Topic1\", \"Topic1\", \"Topic1\", \"Topic1\", \"Topic1\", \"Topic1\", \"Topic1\", \"Topic1\", \"Topic1\", \"Topic1\", \"Topic1\", \"Topic1\", \"Topic1\", \"Topic1\", \"Topic1\", \"Topic1\", \"Topic1\", \"Topic2\", \"Topic2\", \"Topic2\", \"Topic2\", \"Topic2\", \"Topic2\", \"Topic2\", \"Topic2\", \"Topic2\", \"Topic2\", \"Topic2\", \"Topic2\", \"Topic2\", \"Topic2\", \"Topic2\", \"Topic2\", \"Topic2\", \"Topic2\", \"Topic2\", \"Topic2\", \"Topic2\", \"Topic2\", \"Topic2\", \"Topic2\", \"Topic2\", \"Topic2\", \"Topic2\", \"Topic2\", \"Topic2\", \"Topic2\", \"Topic2\", \"Topic2\", \"Topic2\", \"Topic2\", \"Topic2\", \"Topic2\", \"Topic2\", \"Topic2\", \"Topic2\", \"Topic2\", \"Topic2\", \"Topic2\", \"Topic2\", \"Topic2\", \"Topic2\", \"Topic2\", \"Topic2\", \"Topic2\", \"Topic2\", \"Topic2\", \"Topic2\", \"Topic2\", \"Topic2\", \"Topic2\", \"Topic2\", \"Topic2\", \"Topic2\", \"Topic2\", \"Topic2\", \"Topic2\", \"Topic2\", \"Topic2\", \"Topic2\", \"Topic2\", \"Topic2\", \"Topic2\", \"Topic2\", \"Topic2\", \"Topic2\", \"Topic2\"], \"logprob\": [30.0, 29.0, 28.0, 27.0, 26.0, 25.0, 24.0, 23.0, 22.0, 21.0, 20.0, 19.0, 18.0, 17.0, 16.0, 15.0, 14.0, 13.0, 12.0, 11.0, 10.0, 9.0, 8.0, 7.0, 6.0, 5.0, 4.0, 3.0, 2.0, 1.0, -5.775, -5.7836, -6.213, -6.239, -4.8538, -5.4385, -5.6945, -6.5477, -6.0409, -6.5535, -6.5549, -5.7094, -6.2845, -5.4737, -6.5782, -6.5786, -5.8918, -6.302, -6.0792, -5.9021, -6.5956, -5.9058, -6.6029, -6.603, -6.6036, -5.4004, -5.624, -6.6134, -5.0736, -6.6144, -5.4144, -6.3295, -5.2833, -5.7968, -6.1169, -5.081, -5.7992, -4.5089, -4.5913, -5.0987, -4.6307, -4.8535, -4.9084, -5.193, -5.1568, -4.5432, -5.0697, -4.8723, -4.7019, -5.2494, -4.949, -5.5125, -5.4446, -5.5213, -4.8323, -5.2674, -5.4619, -5.4174, -5.2158, -5.3083, -5.2233, -5.3025, -5.3826, -5.5447, -5.8816, -6.3956, -6.4138, -6.432, -6.4409, -5.749, -6.4522, -5.6071, -5.7644, -5.9577, -6.8751, -6.8787, -6.8795, -5.9649, -6.8814, -6.882, -6.8821, -6.4771, -6.4838, -6.8908, -6.8955, -6.8976, -5.2883, -6.8983, -6.8989, -6.2062, -6.9014, -6.9021, -6.2092, -6.5, -6.5043, -6.0113, -6.2329, -4.928, -6.243, -4.8496, -5.4918, -5.7272, -5.8733, -6.246, -5.6156, -6.0469, -5.2734, -4.7876, -5.4383, -5.3908, -5.4816, -5.0035, -4.7356, -5.3099, -4.7258, -5.0865, -5.3337, -4.6979, -5.5394, -5.6251, -5.0653, -5.0603, -5.0255, -5.6429, -5.0833, -5.372, -5.122, -5.4263, -5.3458, -5.4119, -5.3903, -5.5674], \"loglift\": [30.0, 29.0, 28.0, 27.0, 26.0, 25.0, 24.0, 23.0, 22.0, 21.0, 20.0, 19.0, 18.0, 17.0, 16.0, 15.0, 14.0, 13.0, 12.0, 11.0, 10.0, 9.0, 8.0, 7.0, 6.0, 5.0, 4.0, 3.0, 2.0, 1.0, 0.4666, 0.4584, 0.4351, 0.4099, 0.4088, 0.3997, 0.3951, 0.3894, 0.3855, 0.3837, 0.3824, 0.3807, 0.3656, 0.3656, 0.3597, 0.3594, 0.3533, 0.3485, 0.3482, 0.3432, 0.3428, 0.3396, 0.3357, 0.3357, 0.335, 0.3343, 0.3338, 0.3255, 0.3249, 0.3245, 0.3208, 0.3218, 0.2708, 0.2956, 0.3115, 0.2504, 0.2933, 0.1997, 0.1916, 0.2332, 0.1913, 0.1916, 0.1882, 0.2085, 0.1764, 0.0665, 0.1393, 0.08, 0.0106, 0.1533, 0.0505, 0.2251, 0.1983, 0.2165, -0.0445, 0.0682, 0.1814, 0.1398, -0.0601, 0.0281, -0.2191, -0.1453, 0.5956, 0.5662, 0.5657, 0.5624, 0.5438, 0.525, 0.516, 0.5147, 0.5043, 0.5021, 0.4989, 0.4876, 0.4864, 0.4827, 0.4819, 0.4802, 0.4799, 0.4793, 0.4793, 0.4788, 0.472, 0.4704, 0.4655, 0.4633, 0.4633, 0.4626, 0.462, 0.4616, 0.4594, 0.4588, 0.4586, 0.4554, 0.4509, 0.4327, 0.4342, 0.351, 0.4238, 0.3108, 0.3629, 0.379, 0.3873, 0.4208, 0.3566, 0.3962, 0.292, 0.2166, 0.3098, 0.261, 0.2655, 0.1537, 0.0522, 0.1731, -0.0132, 0.0692, 0.1489, -0.0883, 0.2066, 0.2266, -0.0658, -0.108, -0.317, 0.2085, -0.3005, -0.0356, -0.3, -0.0907, -0.3006, -0.203, -0.2937, 0.0811]}, \"token.table\": {\"Topic\": [1, 2, 1, 2, 1, 2, 1, 2, 1, 2, 1, 2, 1, 2, 2, 1, 2, 1, 2, 1, 2, 1, 2, 1, 2, 1, 2, 1, 2, 1, 2, 1, 2, 1, 2, 1, 2, 1, 2, 1, 2, 1, 2, 2, 1, 2, 2, 1, 2, 1, 2, 1, 2, 1, 2, 2, 1, 2, 1, 2, 1, 1, 2, 1, 2, 1, 2, 1, 2, 1, 2, 1, 2, 1, 2, 1, 2, 1, 2, 1, 2, 1, 2, 1, 2, 1, 2, 2, 1, 2, 1, 2, 1, 2, 1, 2, 1, 2, 2, 1, 1, 2, 1, 2, 1, 2, 2, 2, 1, 2, 1, 2, 1, 2, 1, 1, 2, 1, 2, 1, 1, 2, 1, 2, 1, 2, 1, 1, 2, 1, 2, 1, 2, 2, 1, 2, 1, 2, 1, 2, 1, 2, 2, 1, 2, 1, 2, 1, 2, 1, 2, 1, 2, 1, 2, 2, 1, 2, 1, 2, 1, 2, 1, 1, 2, 1, 2, 2, 1, 2, 1, 2, 1, 2, 1, 2, 1, 1, 1, 2, 1, 2, 1, 2, 1, 2, 1, 2, 1, 2, 2, 1, 2, 1, 2, 1, 1, 2, 2, 1, 2, 1, 1, 2, 1, 2], \"Freq\": [0.6968116133471616, 0.3484058066735808, 0.2824815589089349, 0.7062038972723372, 0.571585909143076, 0.3810572727620507, 0.6498078541080079, 0.27848908033200337, 0.28259044453583293, 0.8477713336074989, 0.9260519231358245, 0.46302596156791226, 0.6937862412656984, 0.3468931206328492, 0.7061439436531398, 0.5095955525749795, 0.5095955525749795, 0.23561430717407555, 0.7068429215222266, 0.4213557310094308, 0.5618076413459078, 0.4027302820214072, 0.6040954230321108, 0.6433169021888505, 0.32165845109442526, 0.35306407386265287, 0.7061281477253057, 0.6955703879969225, 0.23185679599897416, 0.7922281236301717, 0.19805703090754292, 0.47151882477793233, 0.9430376495558647, 0.832076682005439, 0.277358894001813, 0.468204555351528, 0.624272740468704, 0.46771769598185853, 0.5456706453121682, 0.20231018906975917, 0.8092407562790367, 0.2832271978310956, 0.8496815934932868, 0.9439871878558642, 0.7701310197077794, 0.1540262039415559, 0.7060850579773051, 0.6941037691505209, 0.3470518845752604, 0.5590473331981098, 0.37269822213207326, 0.7422891238204065, 0.2783584214326524, 0.6506800738140308, 0.37181718503658906, 0.7061861080284282, 0.6334391666921501, 0.38006350001529, 0.47127097783991595, 0.9425419556798319, 0.9258209433738006, 0.6966226906948593, 0.2985525817263683, 0.42224762178842645, 0.5629968290512353, 0.6337002580943539, 0.38022015485661237, 0.9225266926022447, 0.23063167315056118, 0.5387242776821702, 0.48485184991395325, 0.35307425258687486, 0.7061485051737497, 0.6965038039234256, 0.27860152156937024, 0.390986890677916, 0.6255790250846656, 0.7944521622906308, 0.1986130405726577, 0.28202761438937546, 0.5640552287787509, 0.3834621013811139, 0.6391035023018565, 0.6947085688001895, 0.2778834275200758, 0.6567379955370879, 0.32836899776854395, 0.7064474003821812, 0.3527373081379039, 0.7054746162758078, 0.31314889272847474, 0.6262977854569495, 0.352212603205783, 0.704425206411566, 0.9260373705945492, 0.4630186852972746, 0.35284140368494693, 0.7056828073698939, 0.7065601784768019, 0.9243962707291553, 0.35218025880258913, 0.6163154529045309, 0.4318972092094914, 0.5398715115118642, 0.8661988010291088, 0.17323976020582177, 0.7061281480726014, 0.9435088868382838, 0.47090616347269987, 0.9418123269453997, 0.23497325369219188, 0.7049197610765756, 0.3517376279626388, 0.5862293799377313, 0.9257772284234708, 0.5594957962228554, 0.46624649685237946, 0.6942175011559085, 0.23140583371863618, 0.9245810544851547, 0.6944058429347509, 0.17360146073368773, 0.7709305145254123, 0.15418610290508247, 0.694043101586884, 0.23134770052896134, 0.9252053656758296, 0.6946176344786369, 0.34730881723931845, 0.7944164795482115, 0.19860411988705287, 0.6929015287107363, 0.7060929024374655, 0.7064823347113645, 0.5496963739745743, 0.4497515787064698, 0.5861104524646669, 0.4057687747832309, 0.46836976162434246, 0.6244930154991233, 0.47141993703625773, 0.9428398740725155, 0.7061420027242354, 0.6603254323016313, 0.36684746238979515, 0.5814396415270975, 0.34886378491625847, 0.7937856984016557, 0.19844642460041392, 0.17716930374608364, 0.8858465187304182, 0.6942842617420574, 0.23142808724735248, 0.5992042429565556, 0.3994694953043704, 0.7064522823973716, 0.5448625607240615, 0.46702505204919553, 0.47069128421185163, 0.9413825684237033, 0.9223026645683536, 0.2305756661420884, 0.9255799507768854, 0.2019684373043442, 0.8078737492173768, 0.2822677769732163, 0.5645355539464326, 0.7064347897564862, 0.4317093212274875, 0.5396366515343595, 0.6964048625963146, 0.2785619450385259, 0.6690453558846435, 0.33452267794232177, 0.42185439210139275, 0.562472522801857, 0.6923843357008326, 0.9257943069683777, 0.8332999164808989, 0.2777666388269663, 0.2357095229066174, 0.7071285687198522, 0.4709607921646914, 0.9419215843293828, 0.4682605715236522, 0.535154938884174, 0.2826466651997378, 0.8479399955992133, 0.4706481078731738, 0.4706481078731738, 0.7064853393345463, 0.5978717716337485, 0.3985811810891656, 0.8337955766185817, 0.2779318588728606, 0.9245379196476676, 0.7925905213586758, 0.19814763033966895, 0.7062858973594833, 0.8329307924691501, 0.27764359748971673, 0.9251963860869303, 0.35275307519404897, 0.7055061503880979, 0.6969208337329662, 0.3484604168664831], \"Term\": [\"accueil\", \"accueil\", \"agenc\", \"agenc\", \"agrabl\", \"agrabl\", \"aimabl\", \"aimabl\", \"alor\", \"alor\", \"amabilit\", \"amabilit\", \"assez\", \"assez\", \"assurezv\", \"attent\", \"attent\", \"aucun\", \"aucun\", \"aussi\", \"aussi\", \"avant\", \"avant\", \"beaucoup\", \"beaucoup\", \"bienveil\", \"bienveil\", \"bonn\", \"bonn\", \"bureau\", \"bureau\", \"caiss\", \"caiss\", \"cart\", \"cart\", \"centr\", \"centr\", \"cett\", \"cett\", \"chanc\", \"chanc\", \"chang\", \"chang\", \"clairement\", \"comm\", \"comm\", \"comprhens\", \"compt\", \"compt\", \"comptent\", \"comptent\", \"conseil\", \"conseil\", \"dame\", \"dame\", \"dattendr\", \"davoir\", \"davoir\", \"dbloqu\", \"dbloqu\", \"debout\", \"demand\", \"demand\", \"dire\", \"dire\", \"dmarch\", \"dmarch\", \"donner\", \"donner\", \"dossier\", \"dossier\", \"dplacer\", \"dplacer\", \"dune\", \"dune\", \"efficac\", \"efficac\", \"excel\", \"excel\", \"expliqu\", \"expliqu\", \"exprienc\", \"exprienc\", \"fair\", \"fair\", \"fait\", \"fait\", \"fatoum\", \"fatoumata\", \"fatoumata\", \"faut\", \"faut\", \"femm\", \"femm\", \"flicit\", \"flicit\", \"font\", \"font\", \"franais\", \"franc\", \"gentil\", \"gentil\", \"gentilless\", \"gentilless\", \"grand\", \"grand\", \"import\", \"ingrid\", \"jallai\", \"jallai\", \"javai\", \"javai\", \"laccueil\", \"laccueil\", \"ladministr\", \"madam\", \"madam\", \"mauvai\", \"mauvai\", \"midi\", \"minut\", \"minut\", \"monsieur\", \"monsieur\", \"mont\", \"mont\", \"nguyen\", \"organi\", \"organi\", \"parfait\", \"parfait\", \"pass\", \"patiem\", \"paul\", \"personn\", \"personn\", \"personnel\", \"personnel\", \"peut\", \"peut\", \"prend\", \"prend\", \"priod\", \"problm\", \"problm\", \"professionnalism\", \"professionnalism\", \"professionnel\", \"professionnel\", \"quand\", \"quand\", \"quip\", \"quip\", \"rapid\", \"rapid\", \"rencontr\", \"rendezv\", \"rendezv\", \"rendr\", \"rendr\", \"reue\", \"reue\", \"rgler\", \"rien\", \"rien\", \"sant\", \"sant\", \"sappel\", \"scurit\", \"scurit\", \"serviabl\", \"serviabl\", \"servic\", \"servic\", \"social\", \"social\", \"souci\", \"souvent\", \"super\", \"super\", \"sympathiqu\", \"sympathiqu\", \"systm\", \"systm\", \"tait\", \"tait\", \"tomb\", \"tomb\", \"tomber\", \"tomber\", \"totalit\", \"trait\", \"trait\", \"traor\", \"traor\", \"vendredi\", \"venu\", \"venu\", \"vision\", \"vite\", \"vite\", \"vive\", \"voulai\", \"voulai\", \"vraiment\", \"vraiment\"]}, \"R\": 30, \"lambda.step\": 0.01, \"plot.opts\": {\"xlab\": \"PC1\", \"ylab\": \"PC2\"}, \"topic.order\": [1, 2]};\n",
              "\n",
              "function LDAvis_load_lib(url, callback){\n",
              "  var s = document.createElement('script');\n",
              "  s.src = url;\n",
              "  s.async = true;\n",
              "  s.onreadystatechange = s.onload = callback;\n",
              "  s.onerror = function(){console.warn(\"failed to load library \" + url);};\n",
              "  document.getElementsByTagName(\"head\")[0].appendChild(s);\n",
              "}\n",
              "\n",
              "if(typeof(LDAvis) !== \"undefined\"){\n",
              "   // already loaded: just create the visualization\n",
              "   !function(LDAvis){\n",
              "       new LDAvis(\"#\" + \"ldavis_el50771398106200663843280192063\", ldavis_el50771398106200663843280192063_data);\n",
              "   }(LDAvis);\n",
              "}else if(typeof define === \"function\" && define.amd){\n",
              "   // require.js is available: use it to load d3/LDAvis\n",
              "   require.config({paths: {d3: \"https://d3js.org/d3.v5\"}});\n",
              "   require([\"d3\"], function(d3){\n",
              "      window.d3 = d3;\n",
              "      LDAvis_load_lib(\"https://cdn.jsdelivr.net/gh/bmabey/pyLDAvis@3.4.0/pyLDAvis/js/ldavis.v3.0.0.js\", function(){\n",
              "        new LDAvis(\"#\" + \"ldavis_el50771398106200663843280192063\", ldavis_el50771398106200663843280192063_data);\n",
              "      });\n",
              "    });\n",
              "}else{\n",
              "    // require.js not available: dynamically load d3 & LDAvis\n",
              "    LDAvis_load_lib(\"https://d3js.org/d3.v5.js\", function(){\n",
              "         LDAvis_load_lib(\"https://cdn.jsdelivr.net/gh/bmabey/pyLDAvis@3.4.0/pyLDAvis/js/ldavis.v3.0.0.js\", function(){\n",
              "                 new LDAvis(\"#\" + \"ldavis_el50771398106200663843280192063\", ldavis_el50771398106200663843280192063_data);\n",
              "            })\n",
              "         });\n",
              "}\n",
              "</script>"
            ]
          },
          "metadata": {}
        }
      ]
    }
  ]
}